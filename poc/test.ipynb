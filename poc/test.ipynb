{
 "cells": [
  {
   "cell_type": "code",
   "execution_count": 1,
   "id": "549abd27",
   "metadata": {},
   "outputs": [
    {
     "name": "stdout",
     "output_type": "stream",
     "text": [
      "=== Environment ===\n",
      "torch=2.5.1 | transformers=4.55.0 | sentence-transformers=5.1.0\n",
      "CUDA: NVIDIA GeForce RTX 4050 Laptop GPU | VRAM total=6.00 GB, free=4.96 GB, used=1.04 GB\n",
      "\n",
      "=== PubMed fetch ===\n",
      "esearch: 447 PMIDs\n",
      "[efetch] 0-199 → parsed 200 items (acc=198)\n",
      "[efetch] 200-399 → parsed 200 items (acc=398)\n",
      "[efetch] 400-446 → parsed 47 items (acc=445)\n",
      "efetch+parse: 445 records | 10.8s\n",
      "\n",
      "=== Section coverage (detected) ===\n",
      "background:  24.3%\n",
      "   methods:  47.9%\n",
      "   results:  55.7%\n",
      "conclusion:  61.1%\n",
      " objective:  38.0%\n",
      "\n",
      "[model] Loading Qwen/Qwen3-Embedding-0.6B ...\n"
     ]
    },
    {
     "name": "stderr",
     "output_type": "stream",
     "text": [
      "c:\\Users\\Galaxy\\miniconda3\\envs\\litx\\Lib\\site-packages\\torch\\nn\\modules\\module.py:1326: UserWarning: expandable_segments not supported on this platform (Triggered internally at C:\\cb\\pytorch_1000000000000\\work\\c10/cuda/CUDAAllocatorConfig.h:28.)\n",
      "  return t.to(\n"
     ]
    },
    {
     "name": "stdout",
     "output_type": "stream",
     "text": [
      "[model] Loaded 'SentenceTransformer' on cuda | CUDA: NVIDIA GeForce RTX 4050 Laptop GPU | VRAM total=6.00 GB, free=3.82 GB, used=2.17 GB\n",
      "\n",
      "Prepared texts: N=445 | title+abstract (no cap)\n",
      "[TOKENS] min=11, p50=420, p95=797, max=1641\n",
      "\n",
      "=== Embedding (bucketed, NO token cap) ===\n",
      "CUDA: NVIDIA GeForce RTX 4050 Laptop GPU | VRAM total=6.00 GB, free=3.82 GB, used=2.17 GB\n",
      "[warmup] 1 item | CUDA: NVIDIA GeForce RTX 4050 Laptop GPU | VRAM total=6.00 GB, free=3.79 GB, used=2.20 GB\n",
      "[run ok] idx 11-440 | size=128 | bucket=0 bsz=32 | 4.02s | 31.86 items/s | CUDA: NVIDIA GeForce RTX 4050 Laptop GPU | VRAM total=6.00 GB, free=2.19 GB, used=3.81 GB\n",
      "[run ok] idx 2-439 | size=95 | bucket=0 bsz=32 | 4.47s | 21.25 items/s | CUDA: NVIDIA GeForce RTX 4050 Laptop GPU | VRAM total=6.00 GB, free=1.56 GB, used=4.43 GB\n",
      "[run ok] idx 0-444 | size=64 | bucket=1 bsz=16 | 3.30s | 19.37 items/s | CUDA: NVIDIA GeForce RTX 4050 Laptop GPU | VRAM total=6.00 GB, free=1.56 GB, used=4.43 GB\n",
      "[run ok] idx 25-441 | size=64 | bucket=1 bsz=16 | 3.66s | 17.50 items/s | CUDA: NVIDIA GeForce RTX 4050 Laptop GPU | VRAM total=6.00 GB, free=1.56 GB, used=4.43 GB\n",
      "[run ok] idx 121-442 | size=5 | bucket=1 bsz=16 | 0.27s | 18.39 items/s | CUDA: NVIDIA GeForce RTX 4050 Laptop GPU | VRAM total=6.00 GB, free=1.56 GB, used=4.43 GB\n",
      "[run ok] idx 20-438 | size=32 | bucket=2 bsz=8 | 2.06s | 15.57 items/s | CUDA: NVIDIA GeForce RTX 4050 Laptop GPU | VRAM total=6.00 GB, free=1.56 GB, used=4.43 GB\n",
      "[run ok] idx 9-443 | size=32 | bucket=2 bsz=8 | 2.75s | 11.64 items/s | CUDA: NVIDIA GeForce RTX 4050 Laptop GPU | VRAM total=6.00 GB, free=1.56 GB, used=4.43 GB\n",
      "[run ok] idx 103-119 | size=2 | bucket=2 bsz=8 | 0.18s | 11.32 items/s | CUDA: NVIDIA GeForce RTX 4050 Laptop GPU | VRAM total=6.00 GB, free=1.56 GB, used=4.43 GB\n",
      "[run ok] idx 33-429 | size=16 | bucket=3 bsz=4 | 1.85s | 8.66 items/s | CUDA: NVIDIA GeForce RTX 4050 Laptop GPU | VRAM total=6.00 GB, free=1.56 GB, used=4.43 GB\n",
      "[run ok] idx 93-292 | size=7 | bucket=3 bsz=4 | 1.43s | 4.90 items/s | CUDA: NVIDIA GeForce RTX 4050 Laptop GPU | VRAM total=6.00 GB, free=1.56 GB, used=4.43 GB\n",
      "---- Embedding stats ---- {'count': 445, 'total_time_s': 23.978602099698037, 'items_per_sec': 18.558212782787862, 'median_run_time_s': 2.402021599933505, 'p95_run_time_s': 4.267084454861469}\n"
     ]
    },
    {
     "name": "stderr",
     "output_type": "stream",
     "text": [
      "c:\\Users\\Galaxy\\miniconda3\\envs\\litx\\Lib\\site-packages\\sklearn\\utils\\deprecation.py:132: FutureWarning: 'force_all_finite' was renamed to 'ensure_all_finite' in 1.6 and will be removed in 1.8.\n",
      "  warnings.warn(\n",
      "c:\\Users\\Galaxy\\miniconda3\\envs\\litx\\Lib\\site-packages\\sklearn\\utils\\deprecation.py:132: FutureWarning: 'force_all_finite' was renamed to 'ensure_all_finite' in 1.6 and will be removed in 1.8.\n",
      "  warnings.warn(\n"
     ]
    },
    {
     "name": "stdout",
     "output_type": "stream",
     "text": [
      "\n",
      "=== HDBSCAN summary (1024-D, no UMAP) ===\n",
      "time: 0.5s | points=445 | clusters=19 | noise=67.2%\n",
      "top cluster sizes: {13: 31, 8: 12, 11: 12, 6: 11, 18: 8, 4: 8, 3: 6, 15: 6, 2: 6, 10: 6}\n",
      "DBCV (all):  0.068\n",
      "DBCV (core): 0.207\n",
      "Silhouette (cosine, core): 0.326\n",
      "Outlier scores p05/25/50/75/95: [0.    0.003 0.015 0.031 0.181]\n"
     ]
    },
    {
     "name": "stderr",
     "output_type": "stream",
     "text": [
      "c:\\Users\\Galaxy\\miniconda3\\envs\\litx\\Lib\\site-packages\\hdbscan\\validity.py:30: RuntimeWarning: overflow encountered in power\n",
      "  distance_matrix[distance_matrix != 0] = (1.0 / distance_matrix[\n",
      "c:\\Users\\Galaxy\\miniconda3\\envs\\litx\\Lib\\site-packages\\hdbscan\\validity.py:30: RuntimeWarning: overflow encountered in power\n",
      "  distance_matrix[distance_matrix != 0] = (1.0 / distance_matrix[\n",
      "c:\\Users\\Galaxy\\miniconda3\\envs\\litx\\Lib\\site-packages\\hdbscan\\validity.py:30: RuntimeWarning: overflow encountered in power\n",
      "  distance_matrix[distance_matrix != 0] = (1.0 / distance_matrix[\n",
      "c:\\Users\\Galaxy\\miniconda3\\envs\\litx\\Lib\\site-packages\\hdbscan\\validity.py:30: RuntimeWarning: overflow encountered in power\n",
      "  distance_matrix[distance_matrix != 0] = (1.0 / distance_matrix[\n",
      "c:\\Users\\Galaxy\\miniconda3\\envs\\litx\\Lib\\site-packages\\hdbscan\\validity.py:30: RuntimeWarning: overflow encountered in power\n",
      "  distance_matrix[distance_matrix != 0] = (1.0 / distance_matrix[\n",
      "c:\\Users\\Galaxy\\miniconda3\\envs\\litx\\Lib\\site-packages\\hdbscan\\validity.py:30: RuntimeWarning: overflow encountered in power\n",
      "  distance_matrix[distance_matrix != 0] = (1.0 / distance_matrix[\n",
      "c:\\Users\\Galaxy\\miniconda3\\envs\\litx\\Lib\\site-packages\\hdbscan\\validity.py:30: RuntimeWarning: overflow encountered in power\n",
      "  distance_matrix[distance_matrix != 0] = (1.0 / distance_matrix[\n",
      "c:\\Users\\Galaxy\\miniconda3\\envs\\litx\\Lib\\site-packages\\hdbscan\\validity.py:30: RuntimeWarning: overflow encountered in power\n",
      "  distance_matrix[distance_matrix != 0] = (1.0 / distance_matrix[\n",
      "c:\\Users\\Galaxy\\miniconda3\\envs\\litx\\Lib\\site-packages\\hdbscan\\validity.py:30: RuntimeWarning: overflow encountered in power\n",
      "  distance_matrix[distance_matrix != 0] = (1.0 / distance_matrix[\n",
      "c:\\Users\\Galaxy\\miniconda3\\envs\\litx\\Lib\\site-packages\\hdbscan\\validity.py:30: RuntimeWarning: overflow encountered in power\n",
      "  distance_matrix[distance_matrix != 0] = (1.0 / distance_matrix[\n",
      "c:\\Users\\Galaxy\\miniconda3\\envs\\litx\\Lib\\site-packages\\hdbscan\\validity.py:30: RuntimeWarning: overflow encountered in power\n",
      "  distance_matrix[distance_matrix != 0] = (1.0 / distance_matrix[\n",
      "c:\\Users\\Galaxy\\miniconda3\\envs\\litx\\Lib\\site-packages\\hdbscan\\validity.py:30: RuntimeWarning: overflow encountered in power\n",
      "  distance_matrix[distance_matrix != 0] = (1.0 / distance_matrix[\n"
     ]
    },
    {
     "name": "stdout",
     "output_type": "stream",
     "text": [
      "\n",
      "=== Per-cluster metrics (sorted by size) ===\n",
      " cluster  size  persistence  exemplar_count  prob_mean  prob_median  prob_p05  cos_mean  cos_median  cos_p05  cos_pair_mean\n",
      "      13    31     0.056150               4   0.855281     0.828780  0.771543  0.790988    0.794335 0.727551       0.625662\n",
      "       8    12     0.068072               3   0.945179     0.960634  0.856183  0.887323    0.890239 0.837602       0.787343\n",
      "      11    12     0.011323               3   0.989303     0.985806  0.979559  0.787386    0.781808 0.722770       0.619976\n",
      "       6    11     0.083549               3   0.939453     0.952589  0.839758  0.863710    0.863115 0.806743       0.745995\n",
      "      18     8     0.210677               4   0.884853     0.961740  0.687192  0.939126    0.956578 0.889014       0.881958\n",
      "       4     8     0.050573               3   0.971418     0.981107  0.926247  0.840474    0.850624 0.765336       0.706396\n",
      "       3     6     0.087361               4   0.957310     1.000000  0.838005  0.863302    0.881915 0.764813       0.745290\n",
      "      15     6     0.012174               4   0.991955     1.000000  0.971949  0.840272    0.845717 0.788911       0.706057\n",
      "       2     6     0.016943               3   0.994494     0.999469  0.976550  0.833473    0.840985 0.797402       0.694678\n",
      "      10     6     0.014768               3   0.983750     0.985031  0.964299  0.831520    0.828690 0.815384       0.691424\n",
      "      17     6     0.114825               4   0.944431     1.000000  0.826456  0.942919    0.946521 0.910372       0.889096\n",
      "      14     5     0.004756               4   0.998000     1.000000  0.992000  0.850335    0.863976 0.785949       0.723071\n",
      "      16     5     0.074094               4   0.988697     1.000000  0.954787  0.914948    0.905995 0.875054       0.837129\n",
      "       5     4     0.000000               4   1.000000     1.000000  1.000000  0.868567    0.872438 0.812129       0.754410\n",
      "       0     4     0.000232               4   1.000000     1.000000  1.000000  0.848826    0.861125 0.799281       0.720507\n",
      "      12     4     0.000000               4   1.000000     1.000000  1.000000  0.847977    0.858558 0.788609       0.719065\n",
      "       7     4     0.010116               4   1.000000     1.000000  1.000000  0.913512    0.905016 0.893158       0.834504\n",
      "       1     4     0.004304               3   0.996719     1.000000  0.988843  0.840754    0.850494 0.804576       0.706867\n",
      "       9     4     0.030543               4   1.000000     1.000000  1.000000  0.921017    0.921874 0.910975       0.848272\n",
      "\n",
      "=== Cluster labels via LM Studio ===\n",
      "[c= 13 | n= 31] label=MRI predicts endometrial carcinoma stage\n",
      "  desc: Evaluates preoperative magnetic resonance imaging in patients with endometrial cancer to predict clinicopathological parameters and stage.\n",
      "[c=  8 | n= 12] label=Vaginal misoprostol for cervical priming before hysteroscopy\n",
      "  desc: A randomized controlled trial compares the effectiveness of vaginal misoprostol versus other methods in preparing the cervix prior to operative hysteroscopy in women of reproductive age.\n",
      "[c= 11 | n= 12] label=Pregnant women undergoing nonobstetric surgery\n",
      "  desc: A systematic review examines perioperative management, focusing on maternal satisfaction and preoperative anesthesia evaluation in pregnant patients.\n",
      "[c=  6 | n= 11] label=Preoperative Carbohydrate Loading in Cesarean Section\n",
      "  desc: A randomized clinical trial investigated the effect of oral carbohydrate administration on maternal well-being and outcomes following elective cesarean delivery.\n",
      "[c= 18 | n=  8] label=Chlorhexidine Alcohol vs Povidone Iodine for Cesarean Delivery\n",
      "  desc: A systematic review and meta-analysis compares chlorhexidine alcohol with povidone-iodine as preoperative skin antisepsis to prevent surgical site infection in cesarean delivery.\n",
      "[c=  4 | n=  8] label=Gastric Ultrasound for Aspiration Risk Assessment\n",
      "  desc: A literature review explores the use of gastric ultrasound to evaluate gastric contents and assess the risk of pulmonary aspiration in various populations.\n",
      "[c=  3 | n=  6] label=Hysteroscopic management of cesarean scar pregnancy\n",
      "  desc: A report of 44 cases examines hysteroscopic treatment for first-trimester cesarean scar pregnancy, comparing outcomes to other management strategies.\n",
      "[c= 15 | n=  6] label=Uterine artery embolization for abnormal placentation\n",
      "  desc: This retrospective case series examines the effect of preoperative uterine artery embolization on blood loss and outcomes in patients with placental implant anomalies.\n",
      "[c=  2 | n=  6] label=MRI reveals brain abnormalities in fetal spina bifida\n",
      "  desc: This systematic review examines magnetic resonance imaging findings in fetuses and neonates with spina bifida, comparing outcomes to established criteria.\n",
      "[c= 10 | n=  6] label=Spinal anesthesia and maternal hypotension during Cesarean delivery\n",
      "  desc: A retrospective observational study compared spinal anesthesia with diluted bupivacaine to maternal hypotension and motor block after cesarean delivery.\n",
      "[c= 17 | n=  6] label=Antiseptic vaginal cleansing before cesarean section\n",
      "  desc: A randomized trial investigated the effect of preoperative vaginal cleansing with antiseptic solutions on reducing postoperative infections and endometritis in women undergoing cesarean delivery.\n",
      "[c= 14 | n=  5] label=Tranexamic acid reduces blood loss in cesarean sections\n",
      "  desc: Women undergoing cesarean section received preoperative tranexamic acid to reduce blood loss compared to placebo.\n",
      "\n",
      "=== TF-IDF k-means (lexical) vs HDBSCAN (semantic) ===\n",
      "k-means best k=24 | silhouette(cosine)=0.019\n",
      "ARI(core): 0.550\n",
      "AMI(core): 0.606\n",
      "\n",
      "=== Cluster report (largest first) ===\n",
      "\n",
      "[c=13] n=31 | MRI predicts endometrial carcinoma stage\n",
      "  Evaluates preoperative magnetic resonance imaging in patients with endometrial cancer to predict clinicopathological parameters and stage.\n",
      "  top terms: cancer, lymph, endometrial, tumor, staging, node, lymph node, mri, stage, carcinoma\n",
      "  central titles:\n",
      "    1. (cos=0.870) PMID=34967506 :: Preoperative magnetic resonance imaging predicts clinicopathological parameters and stages of endometrial carcinomas.\n",
      "    2. (cos=0.866) PMID=27569070 :: The role of magnetic resonance imaging in the evaluation of endometrial carcinoma.\n",
      "    3. (cos=0.863) PMID=27177278 :: Preoperative Assessment of Myometrial Invasion in Endometrial Cancer by 3D Ultrasound and Diffusion-Weighted Magnetic Resonance Imaging: A Comparative Study.\n",
      "    4. (cos=0.861) PMID=39171058 :: Role of Multiparametric MRI in the Preoperative Evaluation of Endometrial Carcinoma: A Cross-Sectional Study.\n",
      "    5. (cos=0.849) PMID=29472031 :: Preoperative MR imaging for ESMO-ESGO-ESTRO classification of endometrial cancer.\n",
      "    6. (cos=0.843) PMID=27654258 :: Predicting Model of Lymph Node Metastasis Using Preoperative Tumor Grade, Transvaginal Ultrasound, and Serum CA-125 Level in Patients With Endometrial Cancer.\n",
      "    7. (cos=0.836) PMID=38146775 :: Preoperative Imaging Evaluation of Endometrial Cancer in FIGO 2023.\n",
      "    8. (cos=0.831) PMID=28273727 :: The diagnostic value of multimodality MRI in endometrial carcinoma staging.\n",
      "    9. (cos=0.826) PMID=33533532 :: Diagnostic performance of transvaginal ultrasound and magnetic resonance imaging for preoperative evaluation of low-grade endometrioid endometrial carcinoma: pr\n",
      "   10. (cos=0.823) PMID=32842057 :: Endometrial Cancer, the Current International Federation of Gynecology and Obstetrics Staging System, and the Role of Imaging.\n",
      "   11. (cos=0.820) PMID=35444870 :: Assessing Tumor Size by MRI and Pathology in Type I Endometrial Carcinoma to Predict Lymph Node Metastasis.\n",
      "   12. (cos=0.818) PMID=34454623 :: Tumor stiffness measured by 3D magnetic resonance elastography can help predict the aggressiveness of endometrial carcinoma: preliminary findings.\n",
      "   13. (cos=0.813) PMID=29994911 :: Predictive Value of Kanagawa Cancer Center Scoring System for Lymph Node Metastasis and Need for Lymphadenectomy in Patients With Endometrial Cancer: A Validati\n",
      "   14. (cos=0.806) PMID=40130299 :: Magnetic resonance imaging and ultrasound examination in preoperative pelvic staging of early-stage cervical cancer: post-hoc analysis of SENTIX study.\n",
      "   15. (cos=0.795) PMID=30527303 :: Preoperative discrimination of tumour stage in clear cell carcinoma of the ovary using computed tomography and magnetic resonance imaging.\n",
      "   16. (cos=0.794) PMID=32200352 :: Comparison of lymphoscintigraphy and single photon emission computed tomography with computed tomography (SPECT/CT) for sentinel lymph node detection in endomet\n",
      "   17. (cos=0.791) PMID=39477326 :: Accuracy of Preoperative Magnet Resonance Imaging to Predict Pathologic T-Stage in Patients With Cervical Cancer.\n",
      "   18. (cos=0.778) PMID=27091633 :: Ultrasound in preoperative assessment of pelvic and abdominal spread in patients with ovarian cancer: a prospective study.\n",
      "   19. (cos=0.773) PMID=30039225 :: Preoperative prediction of deep myometrial invasion and tumor grade for stage I endometrioid adenocarcinoma: a simple method of measurement on DWI.\n",
      "   20. (cos=0.762) PMID=28557834 :: Preoperative Serum Human Epididymis Protein 4 Levels in Early Stage Endometrial Cancer: A Prospective Study.\n",
      "   21. (cos=0.760) PMID=31328454 :: Improved preoperative risk stratification with CA-125 in low-grade endometrial cancer: a multicenter prospective cohort study.\n",
      "   22. (cos=0.758) PMID=39448083 :: Accuracy of pre-operative tumor size assessment compared to final pathology and frequency of adjuvant treatment in patients with FIGO 2018 stage IB2 cervical ca\n",
      "   23. (cos=0.756) PMID=38872479 :: Nomogram for predicting pathology upstaging in patients with EIN: is sentinel lymph node assessment useful in these patients?\n",
      "   24. (cos=0.755) PMID=38448945 :: Contrast-enhanced CT radiomics for preoperative prediction of stage in epithelial ovarian cancer: a multicenter study.\n",
      "   25. (cos=0.750) PMID=34729035 :: Comparison of positron emission tomography with computed tomography examination with histopathological assessment of pelvic lymph nodes in patients with cervica\n",
      "   26. (cos=0.748) PMID=40209492 :: Identification of groin node metastasis in squamous cell vulval cancer using preoperative [\n",
      "   27. (cos=0.737) PMID=38452144 :: Role of ultrasound in detection of lymph-node metastasis in gynecological cancer: systematic review and meta-analysis.\n",
      "   28. (cos=0.734) PMID=28914639 :: Correlation Between Squamous Cell Carcinoma Antigen Level and the Clinicopathological Features of Early-Stage Cervical Squamous Cell Carcinoma and the Predictiv\n",
      "   29. (cos=0.734) PMID=31084761 :: Prognostic value of preoperative dynamic contrast-enhanced magnetic resonance imaging in epithelial ovarian cancer.\n",
      "   30. (cos=0.721) PMID=35463308 :: VEGF-D Serum Level as a Potential Predictor of Lymph Node Metastasis and Prognosis in Vulvar Squamous Cell Carcinoma Patients.\n",
      "\n",
      "[c=8] n=12 | Vaginal misoprostol for cervical priming before hysteroscopy\n",
      "  A randomized controlled trial compares the effectiveness of vaginal misoprostol versus other methods in preparing the cervix prior to operative hysteroscopy in women of reproductive age.\n",
      "  top terms: misoprostol, hysteroscopy, cervical, dilatation, cervical dilatation, ripening, cervical ripening, placebo, effects, vaginal misoprostol\n",
      "  central titles:\n",
      "    1. (cos=0.924) PMID=26797202 :: A systematic review and meta-analysis of randomized controlled trials on the effectiveness of cervical ripening with misoprostol administration before hysterosc\n",
      "    2. (cos=0.923) PMID=27523921 :: Cervical Priming by Vaginal or Oral Misoprostol Before Operative Hysteroscopy: A Double-Blind, Randomized Controlled Trial.\n",
      "    3. (cos=0.908) PMID=26588025 :: Use of Oral Misoprostol for Cervical Priming before Hysteroscopy: A Randomized Comparison of Two Dosages.\n",
      "    4. (cos=0.905) PMID=34695232 :: Comparison between 200 μg and 800 μg of vaginal misoprostol for cervical ripening before operative hysteroscopy: A randomized controlled trial.\n",
      "    5. (cos=0.903) PMID=39604937 :: The use of misoprostol before hysteroscopy in Nulliparous women: a systematic review and meta-analysis of randomized controlled trials.\n",
      "    6. (cos=0.897) PMID=28109045 :: Misoprostol for cervical priming prior to hysteroscopy in postmenopausal and premenopausal nulliparous women; a multicentre randomised placebo controlled trial.\n",
      "    7. (cos=0.884) PMID=26272687 :: Comparison of Effectiveness of Laminaria versus Vaginal Misoprostol for Cervical Preparation Before Operative Hysteroscopy in Women of Reproductive Age: A Prosp\n",
      "    8. (cos=0.882) PMID=29438271 :: Efficacy of misoprostol before diagnostic hysteroscopy in postmenopausal women: a randomized clinical trial.\n",
      "    9. (cos=0.875) PMID=33372371 :: A comparative clinical trial of vaginal misoprostol versus intracervical normal saline infiltration as a cervical ripening agent at time of hysteroscopy.\n",
      "   10. (cos=0.873) PMID=28982101 :: Misoprostol Prior to Diagnostic Office Hysteroscopy in the Subgroup of Patients with No Risk Factors for Cervical Stenosis: A Randomized Double Blind Placebo-Co\n",
      "   11. (cos=0.840) PMID=28069479 :: Cervical Priming by Vaginal or Oral Misoprostol Before Operative Hysteroscopy.\n",
      "   12. (cos=0.835) PMID=30293295 :: [Clinical multicenter study of carboprost methylate suppository for cervical ripening prior to diagnostic hysteroscopy].\n",
      "\n",
      "[c=11] n=12 | Pregnant women undergoing nonobstetric surgery\n",
      "  A systematic review examines perioperative management, focusing on maternal satisfaction and preoperative anesthesia evaluation in pregnant patients.\n",
      "  top terms: anxiety, anesthetic, pregnant, nonobstetric surgery, considerations, nonobstetric, maternal satisfaction, maternal, anesthesia, management\n",
      "  central titles:\n",
      "    1. (cos=0.871) PMID=30390783 :: Preoperative Assessment of the Pregnant Patient Undergoing Nonobstetric Surgery.\n",
      "    2. (cos=0.841) PMID=26927749 :: The Pregnant Patient: Assessment and Perioperative Management.\n",
      "    3. (cos=0.825) PMID=33384312 :: Perioperative management of pregnant women undergoing nonobstetric surgery.\n",
      "    4. (cos=0.817) PMID=36147054 :: Maternal satisfaction and practice of preoperative anaesthesia evaluation among pregnant who underwent elective caesarean section, cross-sectional study.\n",
      "    5. (cos=0.811) PMID=38846888 :: Perioperative management of surgical procedure during pregnancy: a systematic review.\n",
      "    6. (cos=0.784) PMID=33935167 :: Peripartum optimization and coordination of collaborative care practice: a critical role for the obstetric anesthesiologist in combating maternal morbidity and \n",
      "    7. (cos=0.779) PMID=29889668 :: Minimally invasive gynecologic surgery in the pregnant patient: considerations, techniques, and postoperative management per trimester.\n",
      "    8. (cos=0.768) PMID=34540424 :: Complex Pathology and Management in the Obstetric Patient: A Narrative Review for the Anesthesiologist.\n",
      "    9. (cos=0.762) PMID=36971531 :: Caring for Pregnant Patients Undergoing Nonobstetric Surgery.\n",
      "   10. (cos=0.746) PMID=35978308 :: Preoperative anxiety and its associated factors among women undergoing elective caesarean delivery: a cross-sectional study.\n",
      "   11. (cos=0.727) PMID=37090355 :: The Effect of a Simple Perioperative Video on Maternal Anxiety and Satisfaction Before Regional Anesthesia in a Caribbean Setting: A Randomized Controlled Trial\n",
      "   12. (cos=0.718) PMID=33060498 :: Effects of Acupressure on Preoperative Acute Anxiety in Cesarean Section Under Spinal Anesthesia: A Double-Blind Randomized Controlled Study.\n",
      "\n",
      "[c=6] n=11 | Preoperative Carbohydrate Loading in Cesarean Section\n",
      "  A randomized clinical trial investigated the effect of oral carbohydrate administration on maternal well-being and outcomes following elective cesarean delivery.\n",
      "  top terms: carbohydrate, oral carbohydrate, fasting, oral, group, water, preoperative oral, thirst, randomized, loading\n",
      "  central titles:\n",
      "    1. (cos=0.912) PMID=39115474 :: Preoperative Oral Carbohydrate-Containing Fluid Versus Plain Water in Elective Cesarean Deliveries: A Randomized Clinical Trial.\n",
      "    2. (cos=0.906) PMID=33239219 :: Effect of Preoperative Oral Carbohydrate Administration on Patients Undergoing Cesarean Section with Epidural Anesthesia: A Pilot Study.\n",
      "    3. (cos=0.903) PMID=32025843 :: Impact of oral carbohydrate consumption prior to cesarean delivery on preoperative well-being: a randomized interventional study.\n",
      "    4. (cos=0.882) PMID=38878033 :: The Effect of Preoperative Carbohydrate-containing Fluid Consumption on Maternal Oxidative Stress Markers During Elective Cesarean Delivery.\n",
      "    5. (cos=0.864) PMID=34620123 :: The impact of oral carbohydrate-rich supplement taken two hours before caesarean delivery on maternal and neonatal perioperative outcomes -- a randomized clinic\n",
      "    6. (cos=0.863) PMID=28937862 :: The Effect of Preoperative Oral Carbohydrate on Breastfeeding After Cesarean Section: A Double-Blind, Randomized Controlled Clinical Trial.\n",
      "    7. (cos=0.862) PMID=40348958 :: Maternal and umbilical cord plasma purine concentrations after oral carbohydrate loading prior to elective Cesarean delivery under spinal anesthesia: a randomiz\n",
      "    8. (cos=0.853) PMID=38521233 :: Preoperative free access to water compared to fasting for planned cesarean under spinal anesthesia: a randomized controlled trial.\n",
      "    9. (cos=0.840) PMID=30922264 :: Influence of different preoperative fasting times on women and neonates in cesarean section: a retrospective analysis.\n",
      "   10. (cos=0.810) PMID=33661781 :: Effect of Preoperative Oral Carbohydrate Loading on Body Temperature During Combined Spinal-Epidural Anesthesia for Elective Cesarean Delivery.\n",
      "   11. (cos=0.804) PMID=34315297 :: Incidence of urinary ketosis and the effect of carbohydrate drink supplementation during fasting for elective caesarean section: Audit.\n",
      "\n",
      "[c=18] n=8 | Chlorhexidine Alcohol vs Povidone Iodine for Cesarean Delivery\n",
      "  A systematic review and meta-analysis compares chlorhexidine alcohol with povidone-iodine as preoperative skin antisepsis to prevent surgical site infection in cesarean delivery.\n",
      "  top terms: chlorhexidine, alcohol, iodine, povidone iodine, povidone, chlorhexidine alcohol, skin, surgical site, site infection, site\n",
      "  central titles:\n",
      "    1. (cos=0.965) PMID=30184558 :: Chlorhexidine-Alcohol Compared with Povidone-Iodine Preoperative Skin Antisepsis for Cesarean Delivery: A Systematic Review and Meta-Analysis.\n",
      "    2. (cos=0.964) PMID=34404473 :: Chlorhexidine-alcohol versus povidone-iodine as preoperative skin antisepsis for prevention of surgical site infection in cesarean delivery-a pilot randomized c\n",
      "    3. (cos=0.961) PMID=28599898 :: A randomized open-label controlled trial of chlorhexidine-alcohol vs povidone-iodine for cesarean antisepsis: the CAPICA trial.\n",
      "    4. (cos=0.959) PMID=26551196 :: Skin Preparation for Prevention of Surgical Site Infection After Cesarean Delivery: A Randomized Controlled Trial.\n",
      "    5. (cos=0.955) PMID=30021481 :: Chlorhexidine-alcohol versus povidone-iodine for skin preparation before elective cesarean section: a prospective observational study.\n",
      "    6. (cos=0.926) PMID=34942679 :: Skin preparation for prevention of surgical site infection after obstetrics and gynecological abdominal surgery: A quality improvement project.\n",
      "    7. (cos=0.901) PMID=32580252 :: Skin preparation for preventing infection following caesarean section.\n",
      "    8. (cos=0.883) PMID=38006877 :: Preoperative Application of Chlorhexidine to Reduce Infection with Cesarean Delivery after Labor (PRACTICAL): A Randomized Clinical Trial.\n",
      "\n",
      "[c=4] n=8 | Gastric Ultrasound for Aspiration Risk Assessment\n",
      "  A literature review explores the use of gastric ultrasound to evaluate gastric contents and assess the risk of pulmonary aspiration in various populations.\n",
      "  top terms: gastric, stomach, antral, sectional area, antral cross, aspiration, contents, pulmonary aspiration, gastric contents, cross sectional\n",
      "  central titles:\n",
      "    1. (cos=0.895) PMID=37641782 :: Ultrasonographic Assessment of Gastric Volume in Fasted Patients Undergoing Gastrointestinal Endoscopy Under Sedation.\n",
      "    2. (cos=0.880) PMID=31006483 :: [Ultrasound assessment of gastric antrum in term pregnant women before elective cesarean section].\n",
      "    3. (cos=0.864) PMID=32171605 :: Ultrasound to guide the individual medical decision by evaluating the gastric contents and risk of aspiration: A literature review.\n",
      "    4. (cos=0.855) PMID=30052550 :: Gastric Ultrasound for the Regional Anesthesiologist and Pain Specialist.\n",
      "    5. (cos=0.846) PMID=27259094 :: Determination of a cut-off value of antral area measured in the supine position for the fast diagnosis of an empty stomach in the parturient: A prospective coho\n",
      "    6. (cos=0.827) PMID=33753294 :: Anaesthesiologists' clinical judgment accuracy regarding preoperative full stomach: Diagnostic study in urgent surgical adult patients.\n",
      "    7. (cos=0.820) PMID=27561371 :: Changes in qualitative and quantitative ultrasound assessment of the gastric antrum before and after elective caesarean section in term pregnant women: a prospe\n",
      "    8. (cos=0.736) PMID=27004378 :: [Perioperative Pulmonary Aspiration: Preface and Comments].\n",
      "\n",
      "[c=3] n=6 | Hysteroscopic management of cesarean scar pregnancy\n",
      "  A report of 44 cases examines hysteroscopic treatment for first-trimester cesarean scar pregnancy, comparing outcomes to other management strategies.\n",
      "  top terms: csp, scar, cesarean scar, scar pregnancy, hysteroscopic, removal, hysteroscopy, residual, isthmocele, defect\n",
      "  central titles:\n",
      "    1. (cos=0.929) PMID=28420496 :: The value of hysteroscopic management of cesarean scar pregnancy: a report of 44 cases.\n",
      "    2. (cos=0.898) PMID=35219475 :: Hysteroscopic removal, with or without laparoscopic assistance, of first-trimester cesarean scar pregnancy.\n",
      "    3. (cos=0.894) PMID=40297983 :: Conservative management of caesarean scar pregnancy: tissue removal device hysteroscopic treatment after uterine artery embolisation.\n",
      "    4. (cos=0.869) PMID=27544880 :: Robotic-Assisted Laparoscopic Treatment of Residual Ectopic Pregnancy in a Previous Cesarean Section Scar: A Case Report.\n",
      "    5. (cos=0.855) PMID=32416885 :: Clinical outcome of high-intensity focused ultrasound as the preoperative management of cesarean scar pregnancy.\n",
      "    6. (cos=0.735) PMID=39687425 :: Risk of intraoperative hemorrhage during cesarean scar ectopic pregnancy surgery: development and validation of an interpretable machine learning prediction mod\n",
      "\n",
      "[c=15] n=6 | Uterine artery embolization for abnormal placentation\n",
      "  This retrospective case series examines the effect of preoperative uterine artery embolization on blood loss and outcomes in patients with placental implant anomalies.\n",
      "  top terms: embolization, blood, blood loss, uae, artery, balloon, loss, hysterectomy, arteries, ml range\n",
      "  central titles:\n",
      "    1. (cos=0.875) PMID=28756581 :: Predelivery uterine arteries embolization in patients affected by placental implant anomalies.\n",
      "    2. (cos=0.874) PMID=32717928 :: Preoperative Prophylactic Balloon-Assisted Occlusion of the Internal Iliac Arteries in the Management of Placenta Increta/Percreta.\n",
      "    3. (cos=0.859) PMID=26522098 :: Temporary prophylactic intravascular balloon occlusion of the common iliac arteries before cesarean hysterectomy for controlling operative blood loss in abnorma\n",
      "    4. (cos=0.832) PMID=39557193 :: Uterine Artery Embolization Before Myomectomy: Is It Worth the Trouble?\n",
      "    5. (cos=0.824) PMID=29514385 :: Analysis of presurgical uterine artery embolization (PUAE) for very large uterus myomatosus; patient's desire to preserve the uterus; case series and literature\n",
      "    6. (cos=0.777) PMID=40175943 :: The effect of preoperative intravenous iron administration on patient outcomes in the spectrum of placenta accreta: a retrospective case-control study.\n",
      "\n",
      "[c=2] n=6 | MRI reveals brain abnormalities in fetal spina bifida\n",
      "  This systematic review examines magnetic resonance imaging findings in fetuses and neonates with spina bifida, comparing outcomes to established criteria.\n",
      "  top terms: spina, bifida, spina bifida, open, utero, repair, fetoscopic, mri, osb, hindbrain\n",
      "  central titles:\n",
      "    1. (cos=0.864) PMID=37984808 :: Longitudinal MRI in the context of in utero surgery for open spina bifida: A descriptive study.\n",
      "    2. (cos=0.859) PMID=34792623 :: What brain abnormalities can magnetic resonance imaging detect in foetal and early neonatal spina bifida: a systematic review.\n",
      "    3. (cos=0.843) PMID=37970655 :: Revisiting MOMS criteria for prenatal repair of spina bifida: upper gestational-age limit should be raised and assessment of prenatal motor function rather than\n",
      "    4. (cos=0.839) PMID=28500367 :: Evolution of posterior fossa and brain morphology after in utero repair of open neural tube defects assessed by MRI.\n",
      "    5. (cos=0.799) PMID=38207160 :: Fetal cardiovascular changes during open and fetoscopic in-utero spina bifida closure.\n",
      "    6. (cos=0.797) PMID=31574466 :: Minimally invasive fetal surgery for myelomeningocele: preliminary report from a single center.\n",
      "\n",
      "[c=10] n=6 | Spinal anesthesia and maternal hypotension during Cesarean delivery\n",
      "  A retrospective observational study compared spinal anesthesia with diluted bupivacaine to maternal hypotension and motor block after cesarean delivery.\n",
      "  top terms: hypotension, spinal, hyperbaric, morphine, parturients, spinal anesthesia, bupivacaine, anesthesia, delivery, maternal\n",
      "  central titles:\n",
      "    1. (cos=0.863) PMID=36351636 :: The Effects of the Use of Diluted Bupivacaine in Sequential Combined Spinal and Epidural Anesthesia for Cesarean Delivery on Maternal Hypotension and Motor Bloc\n",
      "    2. (cos=0.836) PMID=29274831 :: Preoperative cesarean delivery intravenous acetaminophen treatment for postoperative pain control: a randomized double-blinded placebo control trial.\n",
      "    3. (cos=0.835) PMID=27555133 :: Preoperative paracetamol improves post-cesarean delivery pain management: a prospective, randomized, double-blind, placebo-controlled trial.\n",
      "    4. (cos=0.822) PMID=29516705 :: Comparison of the effects of low doses of dexmedetomidine and remifentanil on the maternal hemodynamic changes during caesarean delivery in patients with severe\n",
      "    5. (cos=0.818) PMID=28040125 :: Preoperative measurement of maternal abdominal circumference relates the initial sensory block level of spinal anesthesia for cesarean section: An observational\n",
      "    6. (cos=0.814) PMID=33472587 :: The transverse diameter of right common femoral vein by ultrasound in the supine position for predicting post-spinal hypotension during cesarean delivery.\n",
      "\n",
      "[c=17] n=6 | Antiseptic vaginal cleansing before cesarean section\n",
      "  A randomized trial investigated the effect of preoperative vaginal cleansing with antiseptic solutions on reducing postoperative infections and endometritis in women undergoing cesarean delivery.\n",
      "  top terms: vaginal cleansing, cleansing, endometritis, vaginal, infectious, solution, post cesarean, infectious morbidity, iodine, povidone iodine\n",
      "  central titles:\n",
      "    1. (cos=0.973) PMID=32335895 :: Vaginal preparation with antiseptic solution before cesarean section for preventing postoperative infections.\n",
      "    2. (cos=0.971) PMID=30016540 :: Vaginal preparation with antiseptic solution before cesarean section for preventing postoperative infections.\n",
      "    3. (cos=0.954) PMID=30447348 :: Vaginal cleansing prior to caesarian section: To do or not to do?: A randomized trial.\n",
      "    4. (cos=0.939) PMID=28796683 :: Vaginal Cleansing Before Cesarean Delivery: A Systematic Review and Meta-analysis.\n",
      "    5. (cos=0.911) PMID=33186774 :: The effect of vaginal disinfection on reducing post-caesarean endometritis: A prospective, randomised controlled trial.\n",
      "    6. (cos=0.910) PMID=33351989 :: Preoperative vaginal cleansing with chlorhexidine solution in preventing post-cesarean section infections in a low resource setting: A randomized controlled tri\n",
      "\n",
      "[c=14] n=5 | Tranexamic acid reduces blood loss in cesarean sections\n",
      "  Women undergoing cesarean section received preoperative tranexamic acid to reduce blood loss compared to placebo.\n",
      "  top terms: blood, ml, tranexamic, tranexamic acid, acid, blood loss, transfusion, caesarean section, caesarean, loss\n",
      "  central titles:\n",
      "    1. (cos=0.898) PMID=34422157 :: Effectiveness of preoperative tranexamic acid in reducing blood loss during caesarean section at Aminu Kano Teaching Hospital, Kano: a randomized controlled tri\n",
      "    2. (cos=0.890) PMID=26341174 :: A randomized placebo-controlled trial of preoperative tranexamic acid among women undergoing elective cesarean delivery.\n",
      "    3. (cos=0.864) PMID=30854569 :: Associated factors of blood transfusion for Caesarean sections in pure placenta praevia pregnancies.\n",
      "    4. (cos=0.822) PMID=35398585 :: Impact of \"natural\" cesarean delivery on peripartum blood loss: a randomized controlled trial.\n",
      "    5. (cos=0.777) PMID=31237751 :: Optimal preoperative autologous blood storage volume required in surgeries for placenta previas and low-lying placentas.\n",
      "\n",
      "=== Summary ===\n",
      "Query: '(\"Preanesthetic Evaluation\"[Mesh] OR \"Preoperative Care\"[Mesh] OR preanesthetic*[tiab] OR pre-anesthetic*[tiab] OR \"preoperative assessment\"[tiab] OR \"preoperative evaluation\"[tiab] OR \"anesthetic assessment\"[tiab] OR \"anesthetic evaluation\"[tiab]) AND (\"Pregnancy\"[Mesh] OR \"Pregnant Women\"[Mesh] OR pregnan*[tiab] OR gestation[tiab] OR obstetric*[tiab])' | window: 2015/08/23..2025/08/23\n",
      "Fetched: 445 | Embedded: 445\n",
      "HDBSCAN clusters: 19 | Noise%: 67.2%\n",
      "Embedding throughput: 18.56 items/s | total≈24.0s\n",
      "CUDA: NVIDIA GeForce RTX 4050 Laptop GPU | VRAM total=6.00 GB, free=1.56 GB, used=4.43 GB\n",
      "\n",
      "=== Cluster metrics ===\n",
      "points=445 | clusters=19 | noise=67.2%\n",
      " cluster  size  prob_mean  prob_med  sim_mean  sim_med  sim_p10  sim_p90\n",
      "      13    31   0.855281  0.828780  0.790988 0.794335 0.734387 0.860993\n",
      "       8    12   0.945179  0.960634  0.887323 0.890239 0.843184 0.921356\n",
      "      11    12   0.989303  0.985806  0.787386 0.781808 0.728732 0.839395\n",
      "       6    11   0.939453  0.952589  0.863710 0.863115 0.809533 0.905975\n",
      "      18     8   0.884853  0.961740  0.939126 0.956578 0.895523 0.964311\n",
      "       4     8   0.971418  0.981107  0.840474 0.850624 0.794944 0.884534\n",
      "      17     6   0.944431  1.000000  0.942919 0.946521 0.910435 0.971801\n",
      "       3     6   0.957310  1.000000  0.863302 0.881915 0.794879 0.913111\n",
      "      15     6   0.991955  1.000000  0.840272 0.845717 0.800570 0.874527\n",
      "       2     6   0.994494  0.999469  0.833473 0.840985 0.797999 0.861437\n",
      "      10     6   0.983750  0.985031  0.831520 0.828690 0.816294 0.849575\n",
      "      16     5   0.988697  1.000000  0.914948 0.905995 0.876973 0.956786\n",
      "      14     5   0.998000  1.000000  0.850335 0.863976 0.795036 0.895052\n",
      "       9     4   1.000000  1.000000  0.921017 0.921874 0.912471 0.928877\n",
      "       7     4   1.000000  1.000000  0.913512 0.905016 0.895087 0.938734\n",
      "       5     4   1.000000  1.000000  0.868567 0.872438 0.815726 0.918313\n",
      "       0     4   1.000000  1.000000  0.848826 0.861125 0.808026 0.879788\n",
      "      12     4   1.000000  1.000000  0.847977 0.858558 0.798263 0.889227\n",
      "       1     4   0.996719  1.000000  0.840754 0.850494 0.810967 0.862747\n",
      "silhouette(core, cosine): 0.326\n",
      "[DBCV warn] Buffer dtype mismatch, expected 'double_t' but got 'float'\n"
     ]
    },
    {
     "name": "stderr",
     "output_type": "stream",
     "text": [
      "c:\\Users\\Galaxy\\miniconda3\\envs\\litx\\Lib\\site-packages\\hdbscan\\validity.py:30: RuntimeWarning: overflow encountered in power\n",
      "  distance_matrix[distance_matrix != 0] = (1.0 / distance_matrix[\n"
     ]
    },
    {
     "name": "stdout",
     "output_type": "stream",
     "text": [
      "PCA trustworthiness@25: 0.781\n"
     ]
    },
    {
     "data": {
      "application/vnd.plotly.v1+json": {
       "config": {
        "plotlyServerURL": "https://plot.ly"
       },
       "data": [
        {
         "customdata": [
          [
           "-1",
           0
          ],
          [
           "-1",
           0
          ],
          [
           "-1",
           0
          ],
          [
           "-1",
           0
          ],
          [
           "-1",
           0
          ],
          [
           "-1",
           0
          ],
          [
           "-1",
           0
          ],
          [
           "-1",
           0
          ],
          [
           "-1",
           0
          ],
          [
           "-1",
           0
          ],
          [
           "-1",
           0
          ],
          [
           "-1",
           0
          ],
          [
           "-1",
           0
          ],
          [
           "-1",
           0
          ],
          [
           "-1",
           0
          ],
          [
           "-1",
           0
          ],
          [
           "-1",
           0
          ],
          [
           "-1",
           0
          ],
          [
           "-1",
           0
          ],
          [
           "-1",
           0
          ],
          [
           "-1",
           0
          ],
          [
           "-1",
           0
          ],
          [
           "-1",
           0
          ],
          [
           "-1",
           0
          ],
          [
           "-1",
           0
          ],
          [
           "-1",
           0
          ],
          [
           "-1",
           0
          ],
          [
           "-1",
           0
          ],
          [
           "-1",
           0
          ],
          [
           "-1",
           0
          ],
          [
           "-1",
           0
          ],
          [
           "-1",
           0
          ],
          [
           "-1",
           0
          ],
          [
           "-1",
           0
          ],
          [
           "-1",
           0
          ],
          [
           "-1",
           0
          ],
          [
           "-1",
           0
          ],
          [
           "-1",
           0
          ],
          [
           "-1",
           0
          ],
          [
           "-1",
           0
          ],
          [
           "-1",
           0
          ],
          [
           "-1",
           0
          ],
          [
           "-1",
           0
          ],
          [
           "-1",
           0
          ],
          [
           "-1",
           0
          ],
          [
           "-1",
           0
          ],
          [
           "-1",
           0
          ],
          [
           "-1",
           0
          ],
          [
           "-1",
           0
          ],
          [
           "-1",
           0
          ],
          [
           "-1",
           0
          ],
          [
           "-1",
           0
          ],
          [
           "-1",
           0
          ],
          [
           "-1",
           0
          ],
          [
           "-1",
           0
          ],
          [
           "-1",
           0
          ],
          [
           "-1",
           0
          ],
          [
           "-1",
           0
          ],
          [
           "-1",
           0
          ],
          [
           "-1",
           0
          ],
          [
           "-1",
           0
          ],
          [
           "-1",
           0
          ],
          [
           "-1",
           0
          ],
          [
           "-1",
           0
          ],
          [
           "-1",
           0
          ],
          [
           "-1",
           0
          ],
          [
           "-1",
           0
          ],
          [
           "-1",
           0
          ],
          [
           "-1",
           0
          ],
          [
           "-1",
           0
          ],
          [
           "-1",
           0
          ],
          [
           "-1",
           0
          ],
          [
           "-1",
           0
          ],
          [
           "-1",
           0
          ],
          [
           "-1",
           0
          ],
          [
           "-1",
           0
          ],
          [
           "-1",
           0
          ],
          [
           "-1",
           0
          ],
          [
           "-1",
           0
          ],
          [
           "-1",
           0
          ],
          [
           "-1",
           0
          ],
          [
           "-1",
           0
          ],
          [
           "-1",
           0
          ],
          [
           "-1",
           0
          ],
          [
           "-1",
           0
          ],
          [
           "-1",
           0
          ],
          [
           "-1",
           0
          ],
          [
           "-1",
           0
          ],
          [
           "-1",
           0
          ],
          [
           "-1",
           0
          ],
          [
           "-1",
           0
          ],
          [
           "-1",
           0
          ],
          [
           "-1",
           0
          ],
          [
           "-1",
           0
          ],
          [
           "-1",
           0
          ],
          [
           "-1",
           0
          ],
          [
           "-1",
           0
          ],
          [
           "-1",
           0
          ],
          [
           "-1",
           0
          ],
          [
           "-1",
           0
          ],
          [
           "-1",
           0
          ],
          [
           "-1",
           0
          ],
          [
           "-1",
           0
          ],
          [
           "-1",
           0
          ],
          [
           "-1",
           0
          ],
          [
           "-1",
           0
          ],
          [
           "-1",
           0
          ],
          [
           "-1",
           0
          ],
          [
           "-1",
           0
          ],
          [
           "-1",
           0
          ],
          [
           "-1",
           0
          ],
          [
           "-1",
           0
          ],
          [
           "-1",
           0
          ],
          [
           "-1",
           0
          ],
          [
           "-1",
           0
          ],
          [
           "-1",
           0
          ],
          [
           "-1",
           0
          ],
          [
           "-1",
           0
          ],
          [
           "-1",
           0
          ],
          [
           "-1",
           0
          ],
          [
           "-1",
           0
          ],
          [
           "-1",
           0
          ],
          [
           "-1",
           0
          ],
          [
           "-1",
           0
          ],
          [
           "-1",
           0
          ],
          [
           "-1",
           0
          ],
          [
           "-1",
           0
          ],
          [
           "-1",
           0
          ],
          [
           "-1",
           0
          ],
          [
           "-1",
           0
          ],
          [
           "-1",
           0
          ],
          [
           "-1",
           0
          ],
          [
           "-1",
           0
          ],
          [
           "-1",
           0
          ],
          [
           "-1",
           0
          ],
          [
           "-1",
           0
          ],
          [
           "-1",
           0
          ],
          [
           "-1",
           0
          ],
          [
           "-1",
           0
          ],
          [
           "-1",
           0
          ],
          [
           "-1",
           0
          ],
          [
           "-1",
           0
          ],
          [
           "-1",
           0
          ],
          [
           "-1",
           0
          ],
          [
           "-1",
           0
          ],
          [
           "-1",
           0
          ],
          [
           "-1",
           0
          ],
          [
           "-1",
           0
          ],
          [
           "-1",
           0
          ],
          [
           "-1",
           0
          ],
          [
           "-1",
           0
          ],
          [
           "-1",
           0
          ],
          [
           "-1",
           0
          ],
          [
           "-1",
           0
          ],
          [
           "-1",
           0
          ],
          [
           "-1",
           0
          ],
          [
           "-1",
           0
          ],
          [
           "-1",
           0
          ],
          [
           "-1",
           0
          ],
          [
           "-1",
           0
          ],
          [
           "-1",
           0
          ],
          [
           "-1",
           0
          ],
          [
           "-1",
           0
          ],
          [
           "-1",
           0
          ],
          [
           "-1",
           0
          ],
          [
           "-1",
           0
          ],
          [
           "-1",
           0
          ],
          [
           "-1",
           0
          ],
          [
           "-1",
           0
          ],
          [
           "-1",
           0
          ],
          [
           "-1",
           0
          ],
          [
           "-1",
           0
          ],
          [
           "-1",
           0
          ],
          [
           "-1",
           0
          ],
          [
           "-1",
           0
          ],
          [
           "-1",
           0
          ],
          [
           "-1",
           0
          ],
          [
           "-1",
           0
          ],
          [
           "-1",
           0
          ],
          [
           "-1",
           0
          ],
          [
           "-1",
           0
          ],
          [
           "-1",
           0
          ],
          [
           "-1",
           0
          ],
          [
           "-1",
           0
          ],
          [
           "-1",
           0
          ],
          [
           "-1",
           0
          ],
          [
           "-1",
           0
          ],
          [
           "-1",
           0
          ],
          [
           "-1",
           0
          ],
          [
           "-1",
           0
          ],
          [
           "-1",
           0
          ],
          [
           "-1",
           0
          ],
          [
           "-1",
           0
          ],
          [
           "-1",
           0
          ],
          [
           "-1",
           0
          ],
          [
           "-1",
           0
          ],
          [
           "-1",
           0
          ],
          [
           "-1",
           0
          ],
          [
           "-1",
           0
          ],
          [
           "-1",
           0
          ],
          [
           "-1",
           0
          ],
          [
           "-1",
           0
          ],
          [
           "-1",
           0
          ],
          [
           "-1",
           0
          ],
          [
           "-1",
           0
          ],
          [
           "-1",
           0
          ],
          [
           "-1",
           0
          ],
          [
           "-1",
           0
          ],
          [
           "-1",
           0
          ],
          [
           "-1",
           0
          ],
          [
           "-1",
           0
          ],
          [
           "-1",
           0
          ],
          [
           "-1",
           0
          ],
          [
           "-1",
           0
          ],
          [
           "-1",
           0
          ],
          [
           "-1",
           0
          ],
          [
           "-1",
           0
          ],
          [
           "-1",
           0
          ],
          [
           "-1",
           0
          ],
          [
           "-1",
           0
          ],
          [
           "-1",
           0
          ],
          [
           "-1",
           0
          ],
          [
           "-1",
           0
          ],
          [
           "-1",
           0
          ],
          [
           "-1",
           0
          ],
          [
           "-1",
           0
          ],
          [
           "-1",
           0
          ],
          [
           "-1",
           0
          ],
          [
           "-1",
           0
          ],
          [
           "-1",
           0
          ],
          [
           "-1",
           0
          ],
          [
           "-1",
           0
          ],
          [
           "-1",
           0
          ],
          [
           "-1",
           0
          ],
          [
           "-1",
           0
          ],
          [
           "-1",
           0
          ],
          [
           "-1",
           0
          ],
          [
           "-1",
           0
          ],
          [
           "-1",
           0
          ],
          [
           "-1",
           0
          ],
          [
           "-1",
           0
          ],
          [
           "-1",
           0
          ],
          [
           "-1",
           0
          ],
          [
           "-1",
           0
          ],
          [
           "-1",
           0
          ],
          [
           "-1",
           0
          ],
          [
           "-1",
           0
          ],
          [
           "-1",
           0
          ],
          [
           "-1",
           0
          ],
          [
           "-1",
           0
          ],
          [
           "-1",
           0
          ],
          [
           "-1",
           0
          ],
          [
           "-1",
           0
          ],
          [
           "-1",
           0
          ],
          [
           "-1",
           0
          ],
          [
           "-1",
           0
          ],
          [
           "-1",
           0
          ],
          [
           "-1",
           0
          ],
          [
           "-1",
           0
          ],
          [
           "-1",
           0
          ],
          [
           "-1",
           0
          ],
          [
           "-1",
           0
          ],
          [
           "-1",
           0
          ],
          [
           "-1",
           0
          ],
          [
           "-1",
           0
          ],
          [
           "-1",
           0
          ],
          [
           "-1",
           0
          ],
          [
           "-1",
           0
          ],
          [
           "-1",
           0
          ],
          [
           "-1",
           0
          ],
          [
           "-1",
           0
          ],
          [
           "-1",
           0
          ],
          [
           "-1",
           0
          ],
          [
           "-1",
           0
          ],
          [
           "-1",
           0
          ],
          [
           "-1",
           0
          ],
          [
           "-1",
           0
          ],
          [
           "-1",
           0
          ],
          [
           "-1",
           0
          ],
          [
           "-1",
           0
          ],
          [
           "-1",
           0
          ],
          [
           "-1",
           0
          ],
          [
           "-1",
           0
          ],
          [
           "-1",
           0
          ],
          [
           "-1",
           0
          ],
          [
           "-1",
           0
          ],
          [
           "-1",
           0
          ],
          [
           "-1",
           0
          ],
          [
           "-1",
           0
          ],
          [
           "-1",
           0
          ],
          [
           "-1",
           0
          ],
          [
           "-1",
           0
          ],
          [
           "-1",
           0
          ],
          [
           "-1",
           0
          ],
          [
           "-1",
           0
          ],
          [
           "-1",
           0
          ],
          [
           "-1",
           0
          ],
          [
           "-1",
           0
          ],
          [
           "-1",
           0
          ]
         ],
         "hovertemplate": "cluster=%{customdata[0]}<br>x=%{x}<br>y=%{y}<br>prob=%{customdata[1]}<extra></extra>",
         "legendgroup": "-1",
         "marker": {
          "color": "#636efa",
          "opacity": 0.9,
          "symbol": "circle"
         },
         "mode": "markers",
         "name": "-1",
         "orientation": "v",
         "showlegend": true,
         "type": "scatter",
         "x": {
          "bdata": "yYnuPQjK9LyyO6q+Gw+GPuuOGT52jAk+bz7LPYTLujy3EV4+NmFAPlBjQT7t/5I+NHsPvWLbaT6jMVk++TA+PmtGh77/hRe+0BxFvuo/HT7AgDA+oAKUPnpEHrtgLJ0+BKC0O36rQz4H7Yi+XidzPm/JT72aORS+JYgKPZvvor5RIwQ+51QMvirGNj4gpQU+v8lOvQUbl76x9o6+q81UPkKWx729Ay0+6u28Pms9ijwsPX4+MUegPrA3Q7uK0b09Hncbvh79gDkj0e89TdxJPqMqib6jTIc+QX6ZPnNiYj6d4Ys+/dNnvlW6XL7EJ8u97gKDPt6ifb0TYv+95zl7vfN/VD5gork9VdsCvQ2/4b2Eiw29ISP2PV6+x72KB4Y+A1PyvTcssj3ReuW+LC4ZPoNqyL3oO7i+tQmcPq9pZz4m5J++1xF0PjcemL69NcQ9byWhvZ/ozrolD2+9tw06PSW9cz5/Z9k9I5ahPixlub7GgoU9/SaZvh74+z0vln0+UwKgvsFH0L4KdVg8K555PZXut76YemG+9coHPuLV/rx+WIC+VqT6vSylVj4iamS+vUo9PYYtoj7B4QE+kBEgPmQf4b2BEpE+wT9YvhneOT0X3Pi9IHTVvoSOUj34v1Y+TbKBvtqFk77z/RU9AQV6vq1OFj2ct1S+YyywvjyO8b0EPhW+ptk/PkQrGT7ENp0+XhIkvuz/gD1u4jg+plZ+vIjbLT5KEoU+9b6kPlhah77qv4q+z0ynvpjLpT75FVG+8NeyPiPPo77iEJA+bAuAPl4yQj4Pt0a9JQEivgmgvL6s0yS+anoiPkIwbL7Gh4U+GKo+vkk0tD2THEO9edD7PetJfL3qiAQ+8TkYPlgOxzyEr5U9XF30u980Jr1/Ruy+ZXjOvNoVGj0hlMa958ylPtkUpT6MWfq9ca3xPdFA4b0zixk+Y6VlPv30tj6S1G6+oJ4SPm0OnL4r9bC8RT6VvW+QZD6nBSg+EnGSPmeioT7HbS09cSWlPUhSHTx0tmw9acC8PawCeL0j4LG+L4COPX4Gpj440Bw+H2jtvuCW+71UP6U+luI9PrRulr3AdQQ+GIWQPsJQrj4rYCQ+Sj0jvi2HF74f9Gi9yionvobSXb6TvZM+jzFoPqN0Oj5OtHa+unwUvoRSoDwydXI+b/llvlHTFL7adig+PIA6vpL1gz5vwY8+RK63vny4Rr0n5AM+Ju+IPl13hr2vNH+9ecqbvhGRED4pAxa+OUXKPcXqP745Dgy9mpnAvUrhND5enqo+pN2YPi1O1z0Mdoy+Fta4vofcwL3pjci9Kw78vTPlZr3qbZA+zquIPvwuN77BaM2+y6VnPtiRa76VsLA+YmIdu8nCWz4bJSE+RWSivFbt2r431/c96QgvProXu75LYw8+XXRWPobV7r1MxAE95YQhPo5uZj563R8+Uy9ovdr3yL0ufgM9KMsBPiUc2b1alfm8iqfsPZBqAD7xOKU8Ru2LPf3Jqr03xSM9D3MCvaUGOb4gGZ49R5m0vud1ozxis0c91OaQvPJrED716cC+bfZNvkhA/7003pu+R8GWPhkSR737cii9LpOzvjlo8j0=",
          "dtype": "f4"
         },
         "xaxis": "x",
         "y": {
          "bdata": "X+HAPTOnij62SWK9qJJIPnLoOD75f3O8WKAcvYJyQrx7AqS9xhFKvnDNUj5ywHg+FQcxPqWQIz7k7ZI+vw3FvsAxHD4wKwW+hiF2vUHv5D2U+hY+zJOcPsTqeT2zy7e+a4yvPajD7T1LvxS97T/gPdmSNz4cr/c8ZSvkvbiFrz0OFa298gEBPltRUz4BKrW67ROlPjVmxr3XdQY+1dagu+wxbD0r6Kw9SMeSvtbWdT3K3IM+hxGgvgfcgD1ueeC9ra2IvQjs/LzNpjw+4W3uvRGye71Tmog++YuAvn1UiT6zTBW+Ex42O0kxwz38YCa9oOt1PkZLEj5Be5k9z7J1PsV2aj4JERE+wjgOPuH8Bj78RRw9MQBbvURHSD7NUYY+ot2XPZmS/j2TGeG9S++Hvmy4gD0QteE9E/OMvvVU4j1rtRm9kJVTPpaUCr5+IJo9ZrrfPTbtRD3Atdw9IhriPbmbDz00Pw8+J6qZPsaepT3BC4k+cVIVPbEUzD2yYsQ9nlnjvdzrnr3GFK499vogPEK4UTurYXO9mNi7PQ5xgLyJbqG9GLVGPtlIfT4trAq+DzQTPtsUq75hUrY9LaH7PfhECz4JqEs+NOifvTDf3z2ePQg+TqICPRiMMLx2jhc+0eUVPf8aw732CXY+hLwRvlXYHrxH8ju9oRfXPaJqB749U0M+hJ4DPgj5JT1tsQ69fQ7qPd3yL71inv69O1tKPsRUt76l+jq+axi4vlsd+j2b46o9hszhPetH1r74e6Q7JavSPavZTr5Vckq8YRumPQ/u/716sZY98RFZPQTgc71r+xQ+p49aPTC4570CHvw8WfSFPkcNLD1LYtC9Ygu9ueitnT1+Ueu85RecPXYfGr5akBA9ZJiAPojqer4Xm1s7y/gGPiSZtj1wXns+TJYavujNQ71mRJQ81fsHPSedIj4S8n68sG1BvujQr756eM09tWy1PXSr0D39Csk9aNeaPQ1vor76YYe+NJh3Pv87k76vdtU8aM7nPIK+izy/mVg+rq8lPu8lVzz/s3M9+6gNPuW9yr1Yz7k98RkWPuxxCr7OO8m+27Q8PgVKIT0w0kc+MjYFvtbE2j3QsvQ9aJF/PSMElD3U1gY+GBLvvQH3qD1UIsu+Wpv9PfiAiT79/eK9fIjoPeLFsb1hZcS7s1U1vbMWND7RHxY+8iQhvcTlITpfppY9dTsdvfD8KT6HTIu92GpSPpXC5D2iuLi9R1TYPd2fMT5X46I9r4Iru18cgT15ftM9k+F1PVLai7rvMKy+ues9PYETRj0PG1q94wW3vHfiCr7aYr09TtmOO8rTvD2vaj8+pOfXPXNi0r3gpf+9zOMUPv45kb3sB7A8g5EcPiB4kD64PPk9DdsIPk8FDr4ogmc99n82PvudmL1diQm+pipMPpapNb3zy4u8jUtqPidwl76fxKG9Ib1UvRNssj14xQM+WmolPkyFtT3z1Cw+VajDPXgKiLybLQA9TFzVvdD2Pr5+ffq9cenuvUHuUL0wuLm+bc5YPJjCrrqQK2m9dPtwPYr4jb7xaxC+G9dSvo+flb27LMO9AldLvpxFBT6ybok8mSTPvTmaOD0=",
          "dtype": "f4"
         },
         "yaxis": "y"
        },
        {
         "customdata": [
          [
           "6",
           0.9173629427499387
          ],
          [
           "6",
           1
          ],
          [
           "6",
           1
          ],
          [
           "6",
           0.9279617772391395
          ],
          [
           "6",
           0.9525885449305622
          ],
          [
           "6",
           0.8461813112557824
          ],
          [
           "6",
           0.833334978058417
          ],
          [
           "6",
           1
          ],
          [
           "6",
           0.9773466647645528
          ],
          [
           "6",
           0.9131436154008633
          ],
          [
           "6",
           0.9660608843635865
          ]
         ],
         "hovertemplate": "cluster=%{customdata[0]}<br>x=%{x}<br>y=%{y}<br>prob=%{customdata[1]}<extra></extra>",
         "legendgroup": "6",
         "marker": {
          "color": "#EF553B",
          "opacity": 0.9,
          "symbol": "circle"
         },
         "mode": "markers",
         "name": "6",
         "orientation": "v",
         "showlegend": true,
         "type": "scatter",
         "x": {
          "bdata": "OMGCPmk8jD7vmG4+zcmdPu0ofj4yEkY+JQSdPoYbkj6DA30+NhyMPjByUT4=",
          "dtype": "f4"
         },
         "xaxis": "x",
         "y": {
          "bdata": "3fx3PJ1ed70MhQy9AAbTvFkxM71eoL686nuHu0u7O70FLNO9zBMiO6RFBr4=",
          "dtype": "f4"
         },
         "yaxis": "y"
        },
        {
         "customdata": [
          [
           "3",
           1
          ],
          [
           "3",
           0.804079467756027
          ],
          [
           "3",
           1
          ],
          [
           "3",
           0.9397812367253497
          ],
          [
           "3",
           1
          ],
          [
           "3",
           1
          ]
         ],
         "hovertemplate": "cluster=%{customdata[0]}<br>x=%{x}<br>y=%{y}<br>prob=%{customdata[1]}<extra></extra>",
         "legendgroup": "3",
         "marker": {
          "color": "#00cc96",
          "opacity": 0.9,
          "symbol": "circle"
         },
         "mode": "markers",
         "name": "3",
         "orientation": "v",
         "showlegend": true,
         "type": "scatter",
         "x": {
          "bdata": "gxKTvQ5OW706iQG+HwuavCTnzL3BSPS9",
          "dtype": "f4"
         },
         "xaxis": "x",
         "y": {
          "bdata": "YcjivN5gl73SyVO9ZqLOvPUBcb3keNg8",
          "dtype": "f4"
         },
         "yaxis": "y"
        },
        {
         "customdata": [
          [
           "5",
           1
          ],
          [
           "5",
           1
          ],
          [
           "5",
           1
          ],
          [
           "5",
           1
          ]
         ],
         "hovertemplate": "cluster=%{customdata[0]}<br>x=%{x}<br>y=%{y}<br>prob=%{customdata[1]}<extra></extra>",
         "legendgroup": "5",
         "marker": {
          "color": "#ab63fa",
          "opacity": 0.9,
          "symbol": "circle"
         },
         "mode": "markers",
         "name": "5",
         "orientation": "v",
         "showlegend": true,
         "type": "scatter",
         "x": {
          "bdata": "Dgxivbg0lD0LEzw9u2IXvg==",
          "dtype": "f4"
         },
         "xaxis": "x",
         "y": {
          "bdata": "K5zUPbwWlDzMcm09PNnyPQ==",
          "dtype": "f4"
         },
         "yaxis": "y"
        },
        {
         "customdata": [
          [
           "13",
           0.7908240536230059
          ],
          [
           "13",
           0.8287800163298958
          ],
          [
           "13",
           0.8480565595491968
          ],
          [
           "13",
           0.8126405823251333
          ],
          [
           "13",
           1
          ],
          [
           "13",
           0.767743179419545
          ],
          [
           "13",
           0.7908240536230059
          ],
          [
           "13",
           0.7814323039385884
          ],
          [
           "13",
           0.8908445377316174
          ],
          [
           "13",
           0.8277700462415227
          ],
          [
           "13",
           0.8590245901389061
          ],
          [
           "13",
           1
          ],
          [
           "13",
           0.795386360682034
          ],
          [
           "13",
           0.9043755857754185
          ],
          [
           "13",
           0.8859900805967198
          ],
          [
           "13",
           0.9914370298305005
          ],
          [
           "13",
           0.8295729500262847
          ],
          [
           "13",
           0.7997452469964547
          ],
          [
           "13",
           0.777852433196471
          ],
          [
           "13",
           0.7814323039385884
          ],
          [
           "13",
           0.8161383166398302
          ],
          [
           "13",
           0.8306439288866879
          ],
          [
           "13",
           0.937559186426403
          ],
          [
           "13",
           0.7897161117810825
          ],
          [
           "13",
           0.77534288275613
          ],
          [
           "13",
           0.7667249028473241
          ],
          [
           "13",
           0.8590245901389061
          ],
          [
           "13",
           1
          ],
          [
           "13",
           0.9628380462749656
          ],
          [
           "13",
           0.8119963438187373
          ],
          [
           "13",
           1
          ]
         ],
         "hovertemplate": "cluster=%{customdata[0]}<br>x=%{x}<br>y=%{y}<br>prob=%{customdata[1]}<extra></extra>",
         "legendgroup": "13",
         "marker": {
          "color": "#FFA15A",
          "opacity": 0.9,
          "symbol": "circle"
         },
         "mode": "markers",
         "name": "13",
         "orientation": "v",
         "showlegend": true,
         "type": "scatter",
         "x": {
          "bdata": "113bvtO93L7Omdu+WoXqvvuQ+L7P68m+m7rRvqiGz77j9vy+/p++vvFmBr+RjPC+r9/cvsW5/L5QoPG+WL0Fv7wi5r5y6qy+TpegvlO//L5PKca+f37Uvqe9+L6FSra+dkbLvmNjyL7t5Oq+El4Iv6lV+r5Hbty+waAGvw==",
          "dtype": "f4"
         },
         "xaxis": "x",
         "y": {
          "bdata": "daTvvdwxDb4vmRm+H0kFvtfrwL3Tqwm9OJ67vRPz2r1DEFu9/0ImvhxC1704TPS9jAb0vWOVorwSzZ+9R4oQvSpxS71ZBe69pfzGvYWTW70WM7i8aTsvvpwTjL0o2xy+pPmlvZRSFT1Fx++9hUnnvOwB1r3n1Ja97JxPvQ==",
          "dtype": "f4"
         },
         "yaxis": "y"
        },
        {
         "customdata": [
          [
           "15",
           0.9680327157327686
          ],
          [
           "15",
           0.9836980580920711
          ],
          [
           "15",
           1
          ],
          [
           "15",
           1
          ],
          [
           "15",
           1
          ],
          [
           "15",
           1
          ]
         ],
         "hovertemplate": "cluster=%{customdata[0]}<br>x=%{x}<br>y=%{y}<br>prob=%{customdata[1]}<extra></extra>",
         "legendgroup": "15",
         "marker": {
          "color": "#19d3f3",
          "opacity": 0.9,
          "symbol": "circle"
         },
         "mode": "markers",
         "name": "15",
         "orientation": "v",
         "showlegend": true,
         "type": "scatter",
         "x": {
          "bdata": "VboUPleQPL6EUuY9hdMtvkE0czyfp5I9",
          "dtype": "f4"
         },
         "xaxis": "x",
         "y": {
          "bdata": "t8GhO2X9zbywkla8DHYouVli+T0Qj5e9",
          "dtype": "f4"
         },
         "yaxis": "y"
        },
        {
         "customdata": [
          [
           "8",
           0.9542825606404628
          ],
          [
           "8",
           1
          ],
          [
           "8",
           0.9669852530387788
          ],
          [
           "8",
           0.8489454242173361
          ],
          [
           "8",
           0.9542825606404628
          ],
          [
           "8",
           0.8713753439122811
          ],
          [
           "8",
           0.970760581168685
          ],
          [
           "8",
           0.862104943790485
          ],
          [
           "8",
           1
          ],
          [
           "8",
           1
          ],
          [
           "8",
           0.970760581168685
          ],
          [
           "8",
           0.9426463093361572
          ]
         ],
         "hovertemplate": "cluster=%{customdata[0]}<br>x=%{x}<br>y=%{y}<br>prob=%{customdata[1]}<extra></extra>",
         "legendgroup": "8",
         "marker": {
          "color": "#FF6692",
          "opacity": 0.9,
          "symbol": "circle"
         },
         "mode": "markers",
         "name": "8",
         "orientation": "v",
         "showlegend": true,
         "type": "scatter",
         "x": {
          "bdata": "LzygvZ/k/r0I3de9KFELvl40I77kbAi+1VqwvaJnj70CPN29YysTvlGEnr2oRbO9",
          "dtype": "f4"
         },
         "xaxis": "x",
         "y": {
          "bdata": "t+JIvkb0Zb7CqoG+i0NFvqEZLb5n2yq+vxhdvlcmXL5l+ou+18pfvosKYr6f3IO+",
          "dtype": "f4"
         },
         "yaxis": "y"
        },
        {
         "customdata": [
          [
           "0",
           1
          ],
          [
           "0",
           1
          ],
          [
           "0",
           1
          ],
          [
           "0",
           1
          ]
         ],
         "hovertemplate": "cluster=%{customdata[0]}<br>x=%{x}<br>y=%{y}<br>prob=%{customdata[1]}<extra></extra>",
         "legendgroup": "0",
         "marker": {
          "color": "#B6E880",
          "opacity": 0.9,
          "symbol": "circle"
         },
         "mode": "markers",
         "name": "0",
         "orientation": "v",
         "showlegend": true,
         "type": "scatter",
         "x": {
          "bdata": "nWfuvf+2C77DoSS+onxAvQ==",
          "dtype": "f4"
         },
         "xaxis": "x",
         "y": {
          "bdata": "UC4CvKbVvztIF5S9ZQy+PA==",
          "dtype": "f4"
         },
         "yaxis": "y"
        },
        {
         "customdata": [
          [
           "11",
           0.9855492744799835
          ],
          [
           "11",
           0.9855088984247431
          ],
          [
           "11",
           0.9914707078336328
          ],
          [
           "11",
           0.9855088984247431
          ],
          [
           "11",
           0.9777413105351713
          ],
          [
           "11",
           0.98606298604119
          ],
          [
           "11",
           0.981928910527793
          ],
          [
           "11",
           1
          ],
          [
           "11",
           0.9810464087372858
          ],
          [
           "11",
           0.9968127808420275
          ],
          [
           "11",
           1
          ],
          [
           "11",
           1
          ]
         ],
         "hovertemplate": "cluster=%{customdata[0]}<br>x=%{x}<br>y=%{y}<br>prob=%{customdata[1]}<extra></extra>",
         "legendgroup": "11",
         "marker": {
          "color": "#FF97FF",
          "opacity": 0.9,
          "symbol": "circle"
         },
         "mode": "markers",
         "name": "11",
         "orientation": "v",
         "showlegend": true,
         "type": "scatter",
         "x": {
          "bdata": "IUsmPgDHlD464Qk+mKGQPqN2hD5yGiA+UXhwPngtAT62Y6I+EDk8Pmv/sTxzC14+",
          "dtype": "f4"
         },
         "xaxis": "x",
         "y": {
          "bdata": "dDgzPpXsBLz8NCM+gFqPPdvAxLzEsaw+SGAsPljfQD5tJY28GdGBPidy7z172ZM+",
          "dtype": "f4"
         },
         "yaxis": "y"
        },
        {
         "customdata": [
          [
           "2",
           0.9690870437923844
          ],
          [
           "2",
           1
          ],
          [
           "2",
           1
          ],
          [
           "2",
           1
          ],
          [
           "2",
           0.9989381390705923
          ],
          [
           "2",
           0.9989381390705923
          ]
         ],
         "hovertemplate": "cluster=%{customdata[0]}<br>x=%{x}<br>y=%{y}<br>prob=%{customdata[1]}<extra></extra>",
         "legendgroup": "2",
         "marker": {
          "color": "#FECB52",
          "opacity": 0.9,
          "symbol": "circle"
         },
         "mode": "markers",
         "name": "2",
         "orientation": "v",
         "showlegend": true,
         "type": "scatter",
         "x": {
          "bdata": "fbEaPtNKS70k1aE9sPy1vYo3TzzBEYS9",
          "dtype": "f4"
         },
         "xaxis": "x",
         "y": {
          "bdata": "iapYPiVxZz4yHVU+xN5sPlzftD3EiEU+",
          "dtype": "f4"
         },
         "yaxis": "y"
        },
        {
         "customdata": [
          [
           "18",
           0.6741753547197314
          ],
          [
           "18",
           0.769798793501928
          ],
          [
           "18",
           1
          ],
          [
           "18",
           0.7113670152494852
          ],
          [
           "18",
           1
          ],
          [
           "18",
           0.9234790746869557
          ],
          [
           "18",
           1
          ],
          [
           "18",
           1
          ]
         ],
         "hovertemplate": "cluster=%{customdata[0]}<br>x=%{x}<br>y=%{y}<br>prob=%{customdata[1]}<extra></extra>",
         "legendgroup": "18",
         "marker": {
          "color": "#636efa",
          "opacity": 0.9,
          "symbol": "circle"
         },
         "mode": "markers",
         "name": "18",
         "orientation": "v",
         "showlegend": true,
         "type": "scatter",
         "x": {
          "bdata": "LMOXPo62Zj5wpp8++KeqPhVnoz548Jk+4ZOpPsexrz4=",
          "dtype": "f4"
         },
         "xaxis": "x",
         "y": {
          "bdata": "mQLVvhHKzb7ylNC+WGXRvmUX4b4K/MK+Z0fZvrA2274=",
          "dtype": "f4"
         },
         "yaxis": "y"
        },
        {
         "customdata": [
          [
           "4",
           1
          ],
          [
           "4",
           0.9522485637543688
          ],
          [
           "4",
           0.9760541433815108
          ],
          [
           "4",
           1
          ],
          [
           "4",
           1
          ],
          [
           "4",
           0.9357544009148766
          ],
          [
           "4",
           0.9861595371071288
          ],
          [
           "4",
           0.9211281518830476
          ]
         ],
         "hovertemplate": "cluster=%{customdata[0]}<br>x=%{x}<br>y=%{y}<br>prob=%{customdata[1]}<extra></extra>",
         "legendgroup": "4",
         "marker": {
          "color": "#EF553B",
          "opacity": 0.9,
          "symbol": "circle"
         },
         "mode": "markers",
         "name": "4",
         "orientation": "v",
         "showlegend": true,
         "type": "scatter",
         "x": {
          "bdata": "eMkLvJjNgL19Hk08BcFHvYVmkzyTomQ9BO3KvINpdz4=",
          "dtype": "f4"
         },
         "xaxis": "x",
         "y": {
          "bdata": "24QpPn0qCz6xjD8+9SFPPoKYXz4HGto9i7YaPk1eAD4=",
          "dtype": "f4"
         },
         "yaxis": "y"
        },
        {
         "customdata": [
          [
           "12",
           1
          ],
          [
           "12",
           1
          ],
          [
           "12",
           1
          ],
          [
           "12",
           1
          ]
         ],
         "hovertemplate": "cluster=%{customdata[0]}<br>x=%{x}<br>y=%{y}<br>prob=%{customdata[1]}<extra></extra>",
         "legendgroup": "12",
         "marker": {
          "color": "#00cc96",
          "opacity": 0.9,
          "symbol": "circle"
         },
         "mode": "markers",
         "name": "12",
         "orientation": "v",
         "showlegend": true,
         "type": "scatter",
         "x": {
          "bdata": "2YIPvhtX7L2SnCs+XnBQPg==",
          "dtype": "f4"
         },
         "xaxis": "x",
         "y": {
          "bdata": "yIgAPsiFGz7e3Hs+DPtEPg==",
          "dtype": "f4"
         },
         "yaxis": "y"
        },
        {
         "customdata": [
          [
           "7",
           1
          ],
          [
           "7",
           1
          ],
          [
           "7",
           1
          ],
          [
           "7",
           1
          ]
         ],
         "hovertemplate": "cluster=%{customdata[0]}<br>x=%{x}<br>y=%{y}<br>prob=%{customdata[1]}<extra></extra>",
         "legendgroup": "7",
         "marker": {
          "color": "#ab63fa",
          "opacity": 0.9,
          "symbol": "circle"
         },
         "mode": "markers",
         "name": "7",
         "orientation": "v",
         "showlegend": true,
         "type": "scatter",
         "x": {
          "bdata": "CLGivUh+dr3EqSO9cbN5vQ==",
          "dtype": "f4"
         },
         "xaxis": "x",
         "y": {
          "bdata": "tYq+vHbCo7x5GLc8DZtAvA==",
          "dtype": "f4"
         },
         "yaxis": "y"
        },
        {
         "customdata": [
          [
           "10",
           1
          ],
          [
           "10",
           1
          ],
          [
           "10",
           0.9700613572560592
          ],
          [
           "10",
           0.9623783049713404
          ],
          [
           "10",
           1
          ],
          [
           "10",
           0.9700613572560592
          ]
         ],
         "hovertemplate": "cluster=%{customdata[0]}<br>x=%{x}<br>y=%{y}<br>prob=%{customdata[1]}<extra></extra>",
         "legendgroup": "10",
         "marker": {
          "color": "#FFA15A",
          "opacity": 0.9,
          "symbol": "circle"
         },
         "mode": "markers",
         "name": "10",
         "orientation": "v",
         "showlegend": true,
         "type": "scatter",
         "x": {
          "bdata": "Loa0Pi3LUD4N+5k+IvzKPg5LIT42dsY+",
          "dtype": "f4"
         },
         "xaxis": "x",
         "y": {
          "bdata": "z5yIPR/5Bz6JALg9rjXQvfDU/j253Z29",
          "dtype": "f4"
         },
         "yaxis": "y"
        },
        {
         "customdata": [
          [
           "14",
           1
          ],
          [
           "14",
           1
          ],
          [
           "14",
           0.9900004951073108
          ],
          [
           "14",
           1
          ],
          [
           "14",
           1
          ]
         ],
         "hovertemplate": "cluster=%{customdata[0]}<br>x=%{x}<br>y=%{y}<br>prob=%{customdata[1]}<extra></extra>",
         "legendgroup": "14",
         "marker": {
          "color": "#19d3f3",
          "opacity": 0.9,
          "symbol": "circle"
         },
         "mode": "markers",
         "name": "14",
         "orientation": "v",
         "showlegend": true,
         "type": "scatter",
         "x": {
          "bdata": "XfJjPpqShj6Td5k9eH9RPhj9gD4=",
          "dtype": "f4"
         },
         "xaxis": "x",
         "y": {
          "bdata": "DZHMvcAiB77dv4Y9OMBQup+6Cb4=",
          "dtype": "f4"
         },
         "yaxis": "y"
        },
        {
         "customdata": [
          [
           "1",
           1
          ],
          [
           "1",
           0.9868740113336195
          ],
          [
           "1",
           1
          ],
          [
           "1",
           1
          ]
         ],
         "hovertemplate": "cluster=%{customdata[0]}<br>x=%{x}<br>y=%{y}<br>prob=%{customdata[1]}<extra></extra>",
         "legendgroup": "1",
         "marker": {
          "color": "#FF6692",
          "opacity": 0.9,
          "symbol": "circle"
         },
         "mode": "markers",
         "name": "1",
         "orientation": "v",
         "showlegend": true,
         "type": "scatter",
         "x": {
          "bdata": "awwWvq2dBLuLKn+9rty8vQ==",
          "dtype": "f4"
         },
         "xaxis": "x",
         "y": {
          "bdata": "N8zuPKwtCT6b3cw87NGyvQ==",
          "dtype": "f4"
         },
         "yaxis": "y"
        },
        {
         "customdata": [
          [
           "17",
           0.8469710914891404
          ],
          [
           "17",
           0.8196175064217505
          ],
          [
           "17",
           1
          ],
          [
           "17",
           1
          ],
          [
           "17",
           1
          ],
          [
           "17",
           1
          ]
         ],
         "hovertemplate": "cluster=%{customdata[0]}<br>x=%{x}<br>y=%{y}<br>prob=%{customdata[1]}<extra></extra>",
         "legendgroup": "17",
         "marker": {
          "color": "#B6E880",
          "opacity": 0.9,
          "symbol": "circle"
         },
         "mode": "markers",
         "name": "17",
         "orientation": "v",
         "showlegend": true,
         "type": "scatter",
         "x": {
          "bdata": "9G+RPpanJz5gm4Y+LPk9PlDDgj4RZio+",
          "dtype": "f4"
         },
         "xaxis": "x",
         "y": {
          "bdata": "azTMvod/xr5/7N++/yvSvrFL176zo9S+",
          "dtype": "f4"
         },
         "yaxis": "y"
        },
        {
         "customdata": [
          [
           "16",
           1
          ],
          [
           "16",
           0.9434842564744124
          ],
          [
           "16",
           1
          ],
          [
           "16",
           1
          ],
          [
           "16",
           1
          ]
         ],
         "hovertemplate": "cluster=%{customdata[0]}<br>x=%{x}<br>y=%{y}<br>prob=%{customdata[1]}<extra></extra>",
         "legendgroup": "16",
         "marker": {
          "color": "#FF97FF",
          "opacity": 0.9,
          "symbol": "circle"
         },
         "mode": "markers",
         "name": "16",
         "orientation": "v",
         "showlegend": true,
         "type": "scatter",
         "x": {
          "bdata": "OLEuPvkhNj4dSTg+tohMPmmSQT4=",
          "dtype": "f4"
         },
         "xaxis": "x",
         "y": {
          "bdata": "gOAZPQ27PD0G05i8KMgBPfp1Dr0=",
          "dtype": "f4"
         },
         "yaxis": "y"
        },
        {
         "customdata": [
          [
           "9",
           1
          ],
          [
           "9",
           1
          ],
          [
           "9",
           1
          ],
          [
           "9",
           1
          ]
         ],
         "hovertemplate": "cluster=%{customdata[0]}<br>x=%{x}<br>y=%{y}<br>prob=%{customdata[1]}<extra></extra>",
         "legendgroup": "9",
         "marker": {
          "color": "#FECB52",
          "opacity": 0.9,
          "symbol": "circle"
         },
         "mode": "markers",
         "name": "9",
         "orientation": "v",
         "showlegend": true,
         "type": "scatter",
         "x": {
          "bdata": "etIpPT75CbtqSlc9xn1Nuw==",
          "dtype": "f4"
         },
         "xaxis": "x",
         "y": {
          "bdata": "bDVhvbn3Br7RD0e+/t4svg==",
          "dtype": "f4"
         },
         "yaxis": "y"
        }
       ],
       "layout": {
        "legend": {
         "title": {
          "text": "cluster"
         },
         "tracegroupgap": 0
        },
        "template": {
         "data": {
          "bar": [
           {
            "error_x": {
             "color": "#2a3f5f"
            },
            "error_y": {
             "color": "#2a3f5f"
            },
            "marker": {
             "line": {
              "color": "#E5ECF6",
              "width": 0.5
             },
             "pattern": {
              "fillmode": "overlay",
              "size": 10,
              "solidity": 0.2
             }
            },
            "type": "bar"
           }
          ],
          "barpolar": [
           {
            "marker": {
             "line": {
              "color": "#E5ECF6",
              "width": 0.5
             },
             "pattern": {
              "fillmode": "overlay",
              "size": 10,
              "solidity": 0.2
             }
            },
            "type": "barpolar"
           }
          ],
          "carpet": [
           {
            "aaxis": {
             "endlinecolor": "#2a3f5f",
             "gridcolor": "white",
             "linecolor": "white",
             "minorgridcolor": "white",
             "startlinecolor": "#2a3f5f"
            },
            "baxis": {
             "endlinecolor": "#2a3f5f",
             "gridcolor": "white",
             "linecolor": "white",
             "minorgridcolor": "white",
             "startlinecolor": "#2a3f5f"
            },
            "type": "carpet"
           }
          ],
          "choropleth": [
           {
            "colorbar": {
             "outlinewidth": 0,
             "ticks": ""
            },
            "type": "choropleth"
           }
          ],
          "contour": [
           {
            "colorbar": {
             "outlinewidth": 0,
             "ticks": ""
            },
            "colorscale": [
             [
              0,
              "#0d0887"
             ],
             [
              0.1111111111111111,
              "#46039f"
             ],
             [
              0.2222222222222222,
              "#7201a8"
             ],
             [
              0.3333333333333333,
              "#9c179e"
             ],
             [
              0.4444444444444444,
              "#bd3786"
             ],
             [
              0.5555555555555556,
              "#d8576b"
             ],
             [
              0.6666666666666666,
              "#ed7953"
             ],
             [
              0.7777777777777778,
              "#fb9f3a"
             ],
             [
              0.8888888888888888,
              "#fdca26"
             ],
             [
              1,
              "#f0f921"
             ]
            ],
            "type": "contour"
           }
          ],
          "contourcarpet": [
           {
            "colorbar": {
             "outlinewidth": 0,
             "ticks": ""
            },
            "type": "contourcarpet"
           }
          ],
          "heatmap": [
           {
            "colorbar": {
             "outlinewidth": 0,
             "ticks": ""
            },
            "colorscale": [
             [
              0,
              "#0d0887"
             ],
             [
              0.1111111111111111,
              "#46039f"
             ],
             [
              0.2222222222222222,
              "#7201a8"
             ],
             [
              0.3333333333333333,
              "#9c179e"
             ],
             [
              0.4444444444444444,
              "#bd3786"
             ],
             [
              0.5555555555555556,
              "#d8576b"
             ],
             [
              0.6666666666666666,
              "#ed7953"
             ],
             [
              0.7777777777777778,
              "#fb9f3a"
             ],
             [
              0.8888888888888888,
              "#fdca26"
             ],
             [
              1,
              "#f0f921"
             ]
            ],
            "type": "heatmap"
           }
          ],
          "histogram": [
           {
            "marker": {
             "pattern": {
              "fillmode": "overlay",
              "size": 10,
              "solidity": 0.2
             }
            },
            "type": "histogram"
           }
          ],
          "histogram2d": [
           {
            "colorbar": {
             "outlinewidth": 0,
             "ticks": ""
            },
            "colorscale": [
             [
              0,
              "#0d0887"
             ],
             [
              0.1111111111111111,
              "#46039f"
             ],
             [
              0.2222222222222222,
              "#7201a8"
             ],
             [
              0.3333333333333333,
              "#9c179e"
             ],
             [
              0.4444444444444444,
              "#bd3786"
             ],
             [
              0.5555555555555556,
              "#d8576b"
             ],
             [
              0.6666666666666666,
              "#ed7953"
             ],
             [
              0.7777777777777778,
              "#fb9f3a"
             ],
             [
              0.8888888888888888,
              "#fdca26"
             ],
             [
              1,
              "#f0f921"
             ]
            ],
            "type": "histogram2d"
           }
          ],
          "histogram2dcontour": [
           {
            "colorbar": {
             "outlinewidth": 0,
             "ticks": ""
            },
            "colorscale": [
             [
              0,
              "#0d0887"
             ],
             [
              0.1111111111111111,
              "#46039f"
             ],
             [
              0.2222222222222222,
              "#7201a8"
             ],
             [
              0.3333333333333333,
              "#9c179e"
             ],
             [
              0.4444444444444444,
              "#bd3786"
             ],
             [
              0.5555555555555556,
              "#d8576b"
             ],
             [
              0.6666666666666666,
              "#ed7953"
             ],
             [
              0.7777777777777778,
              "#fb9f3a"
             ],
             [
              0.8888888888888888,
              "#fdca26"
             ],
             [
              1,
              "#f0f921"
             ]
            ],
            "type": "histogram2dcontour"
           }
          ],
          "mesh3d": [
           {
            "colorbar": {
             "outlinewidth": 0,
             "ticks": ""
            },
            "type": "mesh3d"
           }
          ],
          "parcoords": [
           {
            "line": {
             "colorbar": {
              "outlinewidth": 0,
              "ticks": ""
             }
            },
            "type": "parcoords"
           }
          ],
          "pie": [
           {
            "automargin": true,
            "type": "pie"
           }
          ],
          "scatter": [
           {
            "fillpattern": {
             "fillmode": "overlay",
             "size": 10,
             "solidity": 0.2
            },
            "type": "scatter"
           }
          ],
          "scatter3d": [
           {
            "line": {
             "colorbar": {
              "outlinewidth": 0,
              "ticks": ""
             }
            },
            "marker": {
             "colorbar": {
              "outlinewidth": 0,
              "ticks": ""
             }
            },
            "type": "scatter3d"
           }
          ],
          "scattercarpet": [
           {
            "marker": {
             "colorbar": {
              "outlinewidth": 0,
              "ticks": ""
             }
            },
            "type": "scattercarpet"
           }
          ],
          "scattergeo": [
           {
            "marker": {
             "colorbar": {
              "outlinewidth": 0,
              "ticks": ""
             }
            },
            "type": "scattergeo"
           }
          ],
          "scattergl": [
           {
            "marker": {
             "colorbar": {
              "outlinewidth": 0,
              "ticks": ""
             }
            },
            "type": "scattergl"
           }
          ],
          "scattermap": [
           {
            "marker": {
             "colorbar": {
              "outlinewidth": 0,
              "ticks": ""
             }
            },
            "type": "scattermap"
           }
          ],
          "scattermapbox": [
           {
            "marker": {
             "colorbar": {
              "outlinewidth": 0,
              "ticks": ""
             }
            },
            "type": "scattermapbox"
           }
          ],
          "scatterpolar": [
           {
            "marker": {
             "colorbar": {
              "outlinewidth": 0,
              "ticks": ""
             }
            },
            "type": "scatterpolar"
           }
          ],
          "scatterpolargl": [
           {
            "marker": {
             "colorbar": {
              "outlinewidth": 0,
              "ticks": ""
             }
            },
            "type": "scatterpolargl"
           }
          ],
          "scatterternary": [
           {
            "marker": {
             "colorbar": {
              "outlinewidth": 0,
              "ticks": ""
             }
            },
            "type": "scatterternary"
           }
          ],
          "surface": [
           {
            "colorbar": {
             "outlinewidth": 0,
             "ticks": ""
            },
            "colorscale": [
             [
              0,
              "#0d0887"
             ],
             [
              0.1111111111111111,
              "#46039f"
             ],
             [
              0.2222222222222222,
              "#7201a8"
             ],
             [
              0.3333333333333333,
              "#9c179e"
             ],
             [
              0.4444444444444444,
              "#bd3786"
             ],
             [
              0.5555555555555556,
              "#d8576b"
             ],
             [
              0.6666666666666666,
              "#ed7953"
             ],
             [
              0.7777777777777778,
              "#fb9f3a"
             ],
             [
              0.8888888888888888,
              "#fdca26"
             ],
             [
              1,
              "#f0f921"
             ]
            ],
            "type": "surface"
           }
          ],
          "table": [
           {
            "cells": {
             "fill": {
              "color": "#EBF0F8"
             },
             "line": {
              "color": "white"
             }
            },
            "header": {
             "fill": {
              "color": "#C8D4E3"
             },
             "line": {
              "color": "white"
             }
            },
            "type": "table"
           }
          ]
         },
         "layout": {
          "annotationdefaults": {
           "arrowcolor": "#2a3f5f",
           "arrowhead": 0,
           "arrowwidth": 1
          },
          "autotypenumbers": "strict",
          "coloraxis": {
           "colorbar": {
            "outlinewidth": 0,
            "ticks": ""
           }
          },
          "colorscale": {
           "diverging": [
            [
             0,
             "#8e0152"
            ],
            [
             0.1,
             "#c51b7d"
            ],
            [
             0.2,
             "#de77ae"
            ],
            [
             0.3,
             "#f1b6da"
            ],
            [
             0.4,
             "#fde0ef"
            ],
            [
             0.5,
             "#f7f7f7"
            ],
            [
             0.6,
             "#e6f5d0"
            ],
            [
             0.7,
             "#b8e186"
            ],
            [
             0.8,
             "#7fbc41"
            ],
            [
             0.9,
             "#4d9221"
            ],
            [
             1,
             "#276419"
            ]
           ],
           "sequential": [
            [
             0,
             "#0d0887"
            ],
            [
             0.1111111111111111,
             "#46039f"
            ],
            [
             0.2222222222222222,
             "#7201a8"
            ],
            [
             0.3333333333333333,
             "#9c179e"
            ],
            [
             0.4444444444444444,
             "#bd3786"
            ],
            [
             0.5555555555555556,
             "#d8576b"
            ],
            [
             0.6666666666666666,
             "#ed7953"
            ],
            [
             0.7777777777777778,
             "#fb9f3a"
            ],
            [
             0.8888888888888888,
             "#fdca26"
            ],
            [
             1,
             "#f0f921"
            ]
           ],
           "sequentialminus": [
            [
             0,
             "#0d0887"
            ],
            [
             0.1111111111111111,
             "#46039f"
            ],
            [
             0.2222222222222222,
             "#7201a8"
            ],
            [
             0.3333333333333333,
             "#9c179e"
            ],
            [
             0.4444444444444444,
             "#bd3786"
            ],
            [
             0.5555555555555556,
             "#d8576b"
            ],
            [
             0.6666666666666666,
             "#ed7953"
            ],
            [
             0.7777777777777778,
             "#fb9f3a"
            ],
            [
             0.8888888888888888,
             "#fdca26"
            ],
            [
             1,
             "#f0f921"
            ]
           ]
          },
          "colorway": [
           "#636efa",
           "#EF553B",
           "#00cc96",
           "#ab63fa",
           "#FFA15A",
           "#19d3f3",
           "#FF6692",
           "#B6E880",
           "#FF97FF",
           "#FECB52"
          ],
          "font": {
           "color": "#2a3f5f"
          },
          "geo": {
           "bgcolor": "white",
           "lakecolor": "white",
           "landcolor": "#E5ECF6",
           "showlakes": true,
           "showland": true,
           "subunitcolor": "white"
          },
          "hoverlabel": {
           "align": "left"
          },
          "hovermode": "closest",
          "mapbox": {
           "style": "light"
          },
          "paper_bgcolor": "white",
          "plot_bgcolor": "#E5ECF6",
          "polar": {
           "angularaxis": {
            "gridcolor": "white",
            "linecolor": "white",
            "ticks": ""
           },
           "bgcolor": "#E5ECF6",
           "radialaxis": {
            "gridcolor": "white",
            "linecolor": "white",
            "ticks": ""
           }
          },
          "scene": {
           "xaxis": {
            "backgroundcolor": "#E5ECF6",
            "gridcolor": "white",
            "gridwidth": 2,
            "linecolor": "white",
            "showbackground": true,
            "ticks": "",
            "zerolinecolor": "white"
           },
           "yaxis": {
            "backgroundcolor": "#E5ECF6",
            "gridcolor": "white",
            "gridwidth": 2,
            "linecolor": "white",
            "showbackground": true,
            "ticks": "",
            "zerolinecolor": "white"
           },
           "zaxis": {
            "backgroundcolor": "#E5ECF6",
            "gridcolor": "white",
            "gridwidth": 2,
            "linecolor": "white",
            "showbackground": true,
            "ticks": "",
            "zerolinecolor": "white"
           }
          },
          "shapedefaults": {
           "line": {
            "color": "#2a3f5f"
           }
          },
          "ternary": {
           "aaxis": {
            "gridcolor": "white",
            "linecolor": "white",
            "ticks": ""
           },
           "baxis": {
            "gridcolor": "white",
            "linecolor": "white",
            "ticks": ""
           },
           "bgcolor": "#E5ECF6",
           "caxis": {
            "gridcolor": "white",
            "linecolor": "white",
            "ticks": ""
           }
          },
          "title": {
           "x": 0.05
          },
          "xaxis": {
           "automargin": true,
           "gridcolor": "white",
           "linecolor": "white",
           "ticks": "",
           "title": {
            "standoff": 15
           },
           "zerolinecolor": "white",
           "zerolinewidth": 2
          },
          "yaxis": {
           "automargin": true,
           "gridcolor": "white",
           "linecolor": "white",
           "ticks": "",
           "title": {
            "standoff": 15
           },
           "zerolinecolor": "white",
           "zerolinewidth": 2
          }
         }
        },
        "title": {
         "text": "PCA(2D) — trustworthiness@25=0.781"
        },
        "xaxis": {
         "anchor": "y",
         "domain": [
          0,
          1
         ],
         "title": {
          "text": "x"
         }
        },
        "yaxis": {
         "anchor": "x",
         "domain": [
          0,
          1
         ],
         "title": {
          "text": "y"
         }
        }
       }
      }
     },
     "metadata": {},
     "output_type": "display_data"
    },
    {
     "name": "stderr",
     "output_type": "stream",
     "text": [
      "c:\\Users\\Galaxy\\miniconda3\\envs\\litx\\Lib\\site-packages\\umap\\umap_.py:1952: UserWarning:\n",
      "\n",
      "n_jobs value 1 overridden to 1 by setting random_state. Use no seed for parallelism.\n",
      "\n"
     ]
    },
    {
     "name": "stdout",
     "output_type": "stream",
     "text": [
      "UMAP trustworthiness@25: 0.883\n"
     ]
    },
    {
     "data": {
      "application/vnd.plotly.v1+json": {
       "config": {
        "plotlyServerURL": "https://plot.ly"
       },
       "data": [
        {
         "customdata": [
          [
           "-1",
           0
          ],
          [
           "-1",
           0
          ],
          [
           "-1",
           0
          ],
          [
           "-1",
           0
          ],
          [
           "-1",
           0
          ],
          [
           "-1",
           0
          ],
          [
           "-1",
           0
          ],
          [
           "-1",
           0
          ],
          [
           "-1",
           0
          ],
          [
           "-1",
           0
          ],
          [
           "-1",
           0
          ],
          [
           "-1",
           0
          ],
          [
           "-1",
           0
          ],
          [
           "-1",
           0
          ],
          [
           "-1",
           0
          ],
          [
           "-1",
           0
          ],
          [
           "-1",
           0
          ],
          [
           "-1",
           0
          ],
          [
           "-1",
           0
          ],
          [
           "-1",
           0
          ],
          [
           "-1",
           0
          ],
          [
           "-1",
           0
          ],
          [
           "-1",
           0
          ],
          [
           "-1",
           0
          ],
          [
           "-1",
           0
          ],
          [
           "-1",
           0
          ],
          [
           "-1",
           0
          ],
          [
           "-1",
           0
          ],
          [
           "-1",
           0
          ],
          [
           "-1",
           0
          ],
          [
           "-1",
           0
          ],
          [
           "-1",
           0
          ],
          [
           "-1",
           0
          ],
          [
           "-1",
           0
          ],
          [
           "-1",
           0
          ],
          [
           "-1",
           0
          ],
          [
           "-1",
           0
          ],
          [
           "-1",
           0
          ],
          [
           "-1",
           0
          ],
          [
           "-1",
           0
          ],
          [
           "-1",
           0
          ],
          [
           "-1",
           0
          ],
          [
           "-1",
           0
          ],
          [
           "-1",
           0
          ],
          [
           "-1",
           0
          ],
          [
           "-1",
           0
          ],
          [
           "-1",
           0
          ],
          [
           "-1",
           0
          ],
          [
           "-1",
           0
          ],
          [
           "-1",
           0
          ],
          [
           "-1",
           0
          ],
          [
           "-1",
           0
          ],
          [
           "-1",
           0
          ],
          [
           "-1",
           0
          ],
          [
           "-1",
           0
          ],
          [
           "-1",
           0
          ],
          [
           "-1",
           0
          ],
          [
           "-1",
           0
          ],
          [
           "-1",
           0
          ],
          [
           "-1",
           0
          ],
          [
           "-1",
           0
          ],
          [
           "-1",
           0
          ],
          [
           "-1",
           0
          ],
          [
           "-1",
           0
          ],
          [
           "-1",
           0
          ],
          [
           "-1",
           0
          ],
          [
           "-1",
           0
          ],
          [
           "-1",
           0
          ],
          [
           "-1",
           0
          ],
          [
           "-1",
           0
          ],
          [
           "-1",
           0
          ],
          [
           "-1",
           0
          ],
          [
           "-1",
           0
          ],
          [
           "-1",
           0
          ],
          [
           "-1",
           0
          ],
          [
           "-1",
           0
          ],
          [
           "-1",
           0
          ],
          [
           "-1",
           0
          ],
          [
           "-1",
           0
          ],
          [
           "-1",
           0
          ],
          [
           "-1",
           0
          ],
          [
           "-1",
           0
          ],
          [
           "-1",
           0
          ],
          [
           "-1",
           0
          ],
          [
           "-1",
           0
          ],
          [
           "-1",
           0
          ],
          [
           "-1",
           0
          ],
          [
           "-1",
           0
          ],
          [
           "-1",
           0
          ],
          [
           "-1",
           0
          ],
          [
           "-1",
           0
          ],
          [
           "-1",
           0
          ],
          [
           "-1",
           0
          ],
          [
           "-1",
           0
          ],
          [
           "-1",
           0
          ],
          [
           "-1",
           0
          ],
          [
           "-1",
           0
          ],
          [
           "-1",
           0
          ],
          [
           "-1",
           0
          ],
          [
           "-1",
           0
          ],
          [
           "-1",
           0
          ],
          [
           "-1",
           0
          ],
          [
           "-1",
           0
          ],
          [
           "-1",
           0
          ],
          [
           "-1",
           0
          ],
          [
           "-1",
           0
          ],
          [
           "-1",
           0
          ],
          [
           "-1",
           0
          ],
          [
           "-1",
           0
          ],
          [
           "-1",
           0
          ],
          [
           "-1",
           0
          ],
          [
           "-1",
           0
          ],
          [
           "-1",
           0
          ],
          [
           "-1",
           0
          ],
          [
           "-1",
           0
          ],
          [
           "-1",
           0
          ],
          [
           "-1",
           0
          ],
          [
           "-1",
           0
          ],
          [
           "-1",
           0
          ],
          [
           "-1",
           0
          ],
          [
           "-1",
           0
          ],
          [
           "-1",
           0
          ],
          [
           "-1",
           0
          ],
          [
           "-1",
           0
          ],
          [
           "-1",
           0
          ],
          [
           "-1",
           0
          ],
          [
           "-1",
           0
          ],
          [
           "-1",
           0
          ],
          [
           "-1",
           0
          ],
          [
           "-1",
           0
          ],
          [
           "-1",
           0
          ],
          [
           "-1",
           0
          ],
          [
           "-1",
           0
          ],
          [
           "-1",
           0
          ],
          [
           "-1",
           0
          ],
          [
           "-1",
           0
          ],
          [
           "-1",
           0
          ],
          [
           "-1",
           0
          ],
          [
           "-1",
           0
          ],
          [
           "-1",
           0
          ],
          [
           "-1",
           0
          ],
          [
           "-1",
           0
          ],
          [
           "-1",
           0
          ],
          [
           "-1",
           0
          ],
          [
           "-1",
           0
          ],
          [
           "-1",
           0
          ],
          [
           "-1",
           0
          ],
          [
           "-1",
           0
          ],
          [
           "-1",
           0
          ],
          [
           "-1",
           0
          ],
          [
           "-1",
           0
          ],
          [
           "-1",
           0
          ],
          [
           "-1",
           0
          ],
          [
           "-1",
           0
          ],
          [
           "-1",
           0
          ],
          [
           "-1",
           0
          ],
          [
           "-1",
           0
          ],
          [
           "-1",
           0
          ],
          [
           "-1",
           0
          ],
          [
           "-1",
           0
          ],
          [
           "-1",
           0
          ],
          [
           "-1",
           0
          ],
          [
           "-1",
           0
          ],
          [
           "-1",
           0
          ],
          [
           "-1",
           0
          ],
          [
           "-1",
           0
          ],
          [
           "-1",
           0
          ],
          [
           "-1",
           0
          ],
          [
           "-1",
           0
          ],
          [
           "-1",
           0
          ],
          [
           "-1",
           0
          ],
          [
           "-1",
           0
          ],
          [
           "-1",
           0
          ],
          [
           "-1",
           0
          ],
          [
           "-1",
           0
          ],
          [
           "-1",
           0
          ],
          [
           "-1",
           0
          ],
          [
           "-1",
           0
          ],
          [
           "-1",
           0
          ],
          [
           "-1",
           0
          ],
          [
           "-1",
           0
          ],
          [
           "-1",
           0
          ],
          [
           "-1",
           0
          ],
          [
           "-1",
           0
          ],
          [
           "-1",
           0
          ],
          [
           "-1",
           0
          ],
          [
           "-1",
           0
          ],
          [
           "-1",
           0
          ],
          [
           "-1",
           0
          ],
          [
           "-1",
           0
          ],
          [
           "-1",
           0
          ],
          [
           "-1",
           0
          ],
          [
           "-1",
           0
          ],
          [
           "-1",
           0
          ],
          [
           "-1",
           0
          ],
          [
           "-1",
           0
          ],
          [
           "-1",
           0
          ],
          [
           "-1",
           0
          ],
          [
           "-1",
           0
          ],
          [
           "-1",
           0
          ],
          [
           "-1",
           0
          ],
          [
           "-1",
           0
          ],
          [
           "-1",
           0
          ],
          [
           "-1",
           0
          ],
          [
           "-1",
           0
          ],
          [
           "-1",
           0
          ],
          [
           "-1",
           0
          ],
          [
           "-1",
           0
          ],
          [
           "-1",
           0
          ],
          [
           "-1",
           0
          ],
          [
           "-1",
           0
          ],
          [
           "-1",
           0
          ],
          [
           "-1",
           0
          ],
          [
           "-1",
           0
          ],
          [
           "-1",
           0
          ],
          [
           "-1",
           0
          ],
          [
           "-1",
           0
          ],
          [
           "-1",
           0
          ],
          [
           "-1",
           0
          ],
          [
           "-1",
           0
          ],
          [
           "-1",
           0
          ],
          [
           "-1",
           0
          ],
          [
           "-1",
           0
          ],
          [
           "-1",
           0
          ],
          [
           "-1",
           0
          ],
          [
           "-1",
           0
          ],
          [
           "-1",
           0
          ],
          [
           "-1",
           0
          ],
          [
           "-1",
           0
          ],
          [
           "-1",
           0
          ],
          [
           "-1",
           0
          ],
          [
           "-1",
           0
          ],
          [
           "-1",
           0
          ],
          [
           "-1",
           0
          ],
          [
           "-1",
           0
          ],
          [
           "-1",
           0
          ],
          [
           "-1",
           0
          ],
          [
           "-1",
           0
          ],
          [
           "-1",
           0
          ],
          [
           "-1",
           0
          ],
          [
           "-1",
           0
          ],
          [
           "-1",
           0
          ],
          [
           "-1",
           0
          ],
          [
           "-1",
           0
          ],
          [
           "-1",
           0
          ],
          [
           "-1",
           0
          ],
          [
           "-1",
           0
          ],
          [
           "-1",
           0
          ],
          [
           "-1",
           0
          ],
          [
           "-1",
           0
          ],
          [
           "-1",
           0
          ],
          [
           "-1",
           0
          ],
          [
           "-1",
           0
          ],
          [
           "-1",
           0
          ],
          [
           "-1",
           0
          ],
          [
           "-1",
           0
          ],
          [
           "-1",
           0
          ],
          [
           "-1",
           0
          ],
          [
           "-1",
           0
          ],
          [
           "-1",
           0
          ],
          [
           "-1",
           0
          ],
          [
           "-1",
           0
          ],
          [
           "-1",
           0
          ],
          [
           "-1",
           0
          ],
          [
           "-1",
           0
          ],
          [
           "-1",
           0
          ],
          [
           "-1",
           0
          ],
          [
           "-1",
           0
          ],
          [
           "-1",
           0
          ],
          [
           "-1",
           0
          ],
          [
           "-1",
           0
          ],
          [
           "-1",
           0
          ],
          [
           "-1",
           0
          ],
          [
           "-1",
           0
          ],
          [
           "-1",
           0
          ],
          [
           "-1",
           0
          ],
          [
           "-1",
           0
          ],
          [
           "-1",
           0
          ],
          [
           "-1",
           0
          ],
          [
           "-1",
           0
          ],
          [
           "-1",
           0
          ],
          [
           "-1",
           0
          ],
          [
           "-1",
           0
          ],
          [
           "-1",
           0
          ],
          [
           "-1",
           0
          ],
          [
           "-1",
           0
          ],
          [
           "-1",
           0
          ],
          [
           "-1",
           0
          ],
          [
           "-1",
           0
          ],
          [
           "-1",
           0
          ],
          [
           "-1",
           0
          ],
          [
           "-1",
           0
          ],
          [
           "-1",
           0
          ],
          [
           "-1",
           0
          ],
          [
           "-1",
           0
          ],
          [
           "-1",
           0
          ],
          [
           "-1",
           0
          ],
          [
           "-1",
           0
          ],
          [
           "-1",
           0
          ]
         ],
         "hovertemplate": "cluster=%{customdata[0]}<br>x=%{x}<br>y=%{y}<br>prob=%{customdata[1]}<extra></extra>",
         "legendgroup": "-1",
         "marker": {
          "color": "#636efa",
          "opacity": 0.9,
          "symbol": "circle"
         },
         "mode": "markers",
         "name": "-1",
         "orientation": "v",
         "showlegend": true,
         "type": "scatter",
         "x": {
          "bdata": "EHJYQIdppUBthg1B1vyCQKuqYUBJJVhAA5UBQGnOkkBriB5Ak94xP9G/g0D++FlA+DHJQH3wTkB8CXtAKtzUvnje4EB0uxBB+A8SQUorM0AEXoBAFhJcQDCpfEAlAys+Fq+TQDlfekCZ9QJBqQ1yQNU+qUBUFrpA+h3XPmbR6kB7T2ZA9JavQHdum0AGpINArM+IQKQHFkHUpfpAvS2YPurssUA1pJ9Af6KJPpnojEAvllJAdYi8PgylR0Ais94+4noAQT49pkD6W4hAEL9JQHF18UD5/4RAgYzdPmtAT0At0KM+8M7IQH7T4kCAFuFAxqhLQAdVhUCfHclAGVXKQCvWeUDJHx5APj2zQLeKs0B3kj5AfsFwQEuGxkCerlpAfr6xQAJBlUD5oglBNdkKv6ilrUB9OfRAWF4wPYJXiECaBAZBY5t1QMQLCUHKKYhA4sK5QNnVzkCf36RAjkWwQL1lE0ANjTlA99GIQENK+ED8o71AHhYBQYgSnkCgk4VAV/IVQdTHE0HAiGFA4PpYQPexCEF+1wJBN9p6QARG6UDSUhpB+HzPQFaKWkDrQhBBMnGiQMAIWD63F4VAogotQLZd1UB3gWZADBLvQK4XlUCyDUJAntwJQe7K9UBy43tAFPTsQL0jC0HK+7ZAxMoPQT2d0kCiLPFAwhrwQG5D80CZqL9AZc6MQDujl0CX3ipAvhsZQWienECRykNACQ6WQGYKTT7G2RC9/3exvoTF+UBHDfNAMa/5QBIIf77sLPpAHctyQA0HDEH/ozhAsHhMQNx3WED/ZZZALSjJQO2GAUGZKNpA2c4vQBBtAkG8UYI+09bPQOANmEC6aAxBP7OQQLx4AEE2LGpAZBeJQI/qCkGqGbZAgZuKQLLqoT1KvghBDNZKQHQmzUAgOLxA23URQHYgMUBFpttAe7GrQG6JuUDprRNAbzlIPpMg5z25JAhB3UJKQAsT+0A5H51A/1naQHiUiD7D4NY+NP40QPJouz2GyiFAnziZPxiL/EDZMKlAaqyJQOjJp0CF6QJBMe9GQI1eAL9EIX5AAlD1QLH3CkGeaJq+kCCGQE24s0AQ0XlAlohuP9IGPkDpbqNA15SzQMAP4UDtySxAfM35QGtH4ECvggE+FoknQMGJhEBOlgdBhOinQFLb8EAn+BFAGdP4QNIzukC11A1A4GvzQFfOMkDyuzBAyQ8KQaIdtkC875ZAbtZDQNgFykAfydpAbP39QCFDqkB5pspAwV+xQMM65UAwe5pAu56wQJBaEkChAL0+TWEoQM0CYkBHDfZACln0QKkEC0HOHdNAhkHdQHy52UCzA21A02pkQJKS8kAF3RFB/b07QCGgAkH2nRVAtWCcQDF3RUAAdmBAVsSoQDXIE0FcjolA5hmIQJE2AkEWNLM+XoYBQMgkvkDzzJtALBhsQGCe+b7WkkNAdr7ZQMoE0kDqe5pAoESBQHuHuUC0frhAipG/QLN4REAZELBAaRSUQHUbDUH32uxAAfcEQSFq+EBLFi4+2hwAQZ0VqEB+s49AEN+WQNAzpz50kxBByYMJQQSrB0EUOgNBWBkxv86fokCsYLZAZ1kNQdgsUEA=",
          "dtype": "f4"
         },
         "xaxis": "x",
         "y": {
          "bdata": "0+cPQf09z0C6Go1A4+T+QBEeA0GHc9xATmjXQNelDUFjOtVAZSOkQEcK+EDJVgRBCyTJQLKbBkGDwP9AK2OgQPOOvED1YaxAPXuoQPZlBUGnog5BnzgCQQ+1w0DOt6BAdeEAQb8JDkESe8xAiLgEQR0DtUDemLRAaVSuQBYsrkCOrbpADT6nQMmuBkHzbBFBhCDuQM7JlECvCZ1A8cu7QGGqxUBKnQZBX6mfQNuiBkF3xgRBsZCdQBrl6kC/ZKxA0CHOQNd0BEGTQdlAW68QQcsau0BJGgRB0GO6QH4qB0FpjJxAZZmsQKA2uEBy4N1ADcH9QFe2yEBxM79A+gzGQFk3BUFh5NNAO5DrQIiKp0CitNtAHdSwQFBL1kAbMwlBJsGmQEXOxkDfsKhApPSlQEy9oUBB17JAvxy1QKKND0EBz7hAUjv5QF+FnUB1HAdBtCixQByK1UAv6NVAa8/xQJxq2kBMQ/xAVK4CQVIVsUDhM9JA1LuhQKtYBUECOQ1BC0+UQAnEhkDdFe5AamYRQcfOlEBrJ8xAUfEOQYk5+kAGXIpATkOsQAQkA0GtSqNARNjJQO+mnkD4yBBBLjjeQMiUx0Cc4QRBm5zLQGRH9EAEKtRAtXeUQLAB+UBR2A5BiN3KQNLTsECYPedAmhimQIpD1EDTwchA9pKuQPP/zEAM/thAI1wRQWFr60CMzQZBAHmHQNQtCEHZ6bxAnY/TQC3Mq0CWB7hAXMyfQFLqqUBSlKJAsz6qQCBTpUCyY8BAjwYHQfLkqEB4mBBB9jYMQaJEt0C/E/hADRDRQNPIlUD/iL5Ad04PQY4+z0Bi2JpAS9PGQEo99ED53sJAa1qxQGuW/UCtQbJAHdDEQPwt+0BaD+VAC6T3QLhxrECQVJ9AoLDfQMlc3EA8nttAt7oEQY24BUHTq8dAD9wDQQFa1EA5XAdBdhOaQAd8sEBCPppAcEcQQcHIq0BIh7dAlhr+QBV/sEADPaJA2FcHQbtluECKkNVALEeuQETb/EBSGthAUFPVQAxw/0B7RKNAXkfgQDBep0DZorJA53esQFKyAUFbdKpAIe7vQMmbAEFLWLJArIHEQP0++UDC8txAg9OvQCPyw0B4mdRAvPzVQJyQw0CHd6tA75riQK+D9kACkL9A6sTGQBU4+EBwB95AHs7KQJwN2ECmN+pAIJTQQN2XEEF0kAlBbweiQP/b60DUCg5B7qwDQcAP0kDSINpAloq7QCaz2kCrfdhA+C0EQayvw0DlovFAOC4CQaA13UBH+6RAXw4DQdOGtECVbsRAsjOzQMTkwECz4cdAvnjPQCKSzEDHIglBtOIKQb61zUAGC5lAiaEHQYrqxkDxOAZB0k7NQCiyAUFTAgpB+nLQQNG0lkDpSQ1B5a3XQGu8t0CZiqNAlvPmQCWtrEB2e/RAp3vmQDVvoUDrFr5ABt/iQPUOsEBRybxALgwNQZIC6EDaU+hA0vDcQEeHCkF+vPFA15gQQdivwUBWxfhAIqcBQbe0wkCet6VAQxrBQGiUBEENGO9AVcjaQFvPoEBCUZ9AkTS7QIbxwEDyO7ZA0CegQDAnz0DvIcxABqeHQLO8CUE=",
          "dtype": "f4"
         },
         "yaxis": "y"
        },
        {
         "customdata": [
          [
           "6",
           0.9173629427499387
          ],
          [
           "6",
           1
          ],
          [
           "6",
           1
          ],
          [
           "6",
           0.9279617772391395
          ],
          [
           "6",
           0.9525885449305622
          ],
          [
           "6",
           0.8461813112557824
          ],
          [
           "6",
           0.833334978058417
          ],
          [
           "6",
           1
          ],
          [
           "6",
           0.9773466647645528
          ],
          [
           "6",
           0.9131436154008633
          ],
          [
           "6",
           0.9660608843635865
          ]
         ],
         "hovertemplate": "cluster=%{customdata[0]}<br>x=%{x}<br>y=%{y}<br>prob=%{customdata[1]}<extra></extra>",
         "legendgroup": "6",
         "marker": {
          "color": "#EF553B",
          "opacity": 0.9,
          "symbol": "circle"
         },
         "mode": "markers",
         "name": "6",
         "orientation": "v",
         "showlegend": true,
         "type": "scatter",
         "x": {
          "bdata": "72/wP0u7AEB22P8/528IQAgT7j8QiAJAiL/fP7ht9z8XXQVAZ9QMQOqG8T8=",
          "dtype": "f4"
         },
         "xaxis": "x",
         "y": {
          "bdata": "O1/ZQKaf00DbpNVA15PfQKPU1kCAAtZAZEbdQB9l3EAoWNhAYfLXQKtD10A=",
          "dtype": "f4"
         },
         "yaxis": "y"
        },
        {
         "customdata": [
          [
           "3",
           1
          ],
          [
           "3",
           0.804079467756027
          ],
          [
           "3",
           1
          ],
          [
           "3",
           0.9397812367253497
          ],
          [
           "3",
           1
          ],
          [
           "3",
           1
          ]
         ],
         "hovertemplate": "cluster=%{customdata[0]}<br>x=%{x}<br>y=%{y}<br>prob=%{customdata[1]}<extra></extra>",
         "legendgroup": "3",
         "marker": {
          "color": "#00cc96",
          "opacity": 0.9,
          "symbol": "circle"
         },
         "mode": "markers",
         "name": "3",
         "orientation": "v",
         "showlegend": true,
         "type": "scatter",
         "x": {
          "bdata": "cWPGQAkntUDC48ZA/XjCQO3lx0AHA8dA",
          "dtype": "f4"
         },
         "xaxis": "x",
         "y": {
          "bdata": "jQW7QKdGrEAPBLxAkVO9QDGDukBrb7tA",
          "dtype": "f4"
         },
         "yaxis": "y"
        },
        {
         "customdata": [
          [
           "5",
           1
          ],
          [
           "5",
           1
          ],
          [
           "5",
           1
          ],
          [
           "5",
           1
          ]
         ],
         "hovertemplate": "cluster=%{customdata[0]}<br>x=%{x}<br>y=%{y}<br>prob=%{customdata[1]}<extra></extra>",
         "legendgroup": "5",
         "marker": {
          "color": "#ab63fa",
          "opacity": 0.9,
          "symbol": "circle"
         },
         "mode": "markers",
         "name": "5",
         "orientation": "v",
         "showlegend": true,
         "type": "scatter",
         "x": {
          "bdata": "G7RgQJ2WYkAhj15AtwRcQA==",
          "dtype": "f4"
         },
         "xaxis": "x",
         "y": {
          "bdata": "mxzmQKGh3EDkDudA/HznQA==",
          "dtype": "f4"
         },
         "yaxis": "y"
        },
        {
         "customdata": [
          [
           "13",
           0.7908240536230059
          ],
          [
           "13",
           0.8287800163298958
          ],
          [
           "13",
           0.8480565595491968
          ],
          [
           "13",
           0.8126405823251333
          ],
          [
           "13",
           1
          ],
          [
           "13",
           0.767743179419545
          ],
          [
           "13",
           0.7908240536230059
          ],
          [
           "13",
           0.7814323039385884
          ],
          [
           "13",
           0.8908445377316174
          ],
          [
           "13",
           0.8277700462415227
          ],
          [
           "13",
           0.8590245901389061
          ],
          [
           "13",
           1
          ],
          [
           "13",
           0.795386360682034
          ],
          [
           "13",
           0.9043755857754185
          ],
          [
           "13",
           0.8859900805967198
          ],
          [
           "13",
           0.9914370298305005
          ],
          [
           "13",
           0.8295729500262847
          ],
          [
           "13",
           0.7997452469964547
          ],
          [
           "13",
           0.777852433196471
          ],
          [
           "13",
           0.7814323039385884
          ],
          [
           "13",
           0.8161383166398302
          ],
          [
           "13",
           0.8306439288866879
          ],
          [
           "13",
           0.937559186426403
          ],
          [
           "13",
           0.7897161117810825
          ],
          [
           "13",
           0.77534288275613
          ],
          [
           "13",
           0.7667249028473241
          ],
          [
           "13",
           0.8590245901389061
          ],
          [
           "13",
           1
          ],
          [
           "13",
           0.9628380462749656
          ],
          [
           "13",
           0.8119963438187373
          ],
          [
           "13",
           1
          ]
         ],
         "hovertemplate": "cluster=%{customdata[0]}<br>x=%{x}<br>y=%{y}<br>prob=%{customdata[1]}<extra></extra>",
         "legendgroup": "13",
         "marker": {
          "color": "#FFA15A",
          "opacity": 0.9,
          "symbol": "circle"
         },
         "mode": "markers",
         "name": "13",
         "orientation": "v",
         "showlegend": true,
         "type": "scatter",
         "x": {
          "bdata": "/G0KQQ3XDEGiIxRB7cgPQWP4FUHOsg9BodsKQfSDGEHdRBhBkCAMQVLSEEFWORdBbvgLQYadFUFS8xFBRZ8TQdd0DUHIkRJB260ZQSJOF0EehRZB0/kNQbPZF0EntAxBw/gSQV2f+EDOZQ9BABIVQcFoEUHjagdBXFkXQQ==",
          "dtype": "f4"
         },
         "xaxis": "x",
         "y": {
          "bdata": "ykGFQGqKkEA0ppZAPaedQIJZi0Dfw4RAxpuGQEbVkkB82IxAVJKAQJBOiEB0/4tAfSqHQAXXjUATS5BA2u2SQG0Bi0Ae84tAVByQQL/jkkB0YZJA+fmBQGqWjEDC3oFAuAKJQMs4u0DqNYNAYvmPQHYZk0C665BAakCRQA==",
          "dtype": "f4"
         },
         "yaxis": "y"
        },
        {
         "customdata": [
          [
           "15",
           0.9680327157327686
          ],
          [
           "15",
           0.9836980580920711
          ],
          [
           "15",
           1
          ],
          [
           "15",
           1
          ],
          [
           "15",
           1
          ],
          [
           "15",
           1
          ]
         ],
         "hovertemplate": "cluster=%{customdata[0]}<br>x=%{x}<br>y=%{y}<br>prob=%{customdata[1]}<extra></extra>",
         "legendgroup": "15",
         "marker": {
          "color": "#19d3f3",
          "opacity": 0.9,
          "symbol": "circle"
         },
         "mode": "markers",
         "name": "15",
         "orientation": "v",
         "showlegend": true,
         "type": "scatter",
         "x": {
          "bdata": "gleBQKw790BA/JBAj974QBs4n0Ceh5FA",
          "dtype": "f4"
         },
         "xaxis": "x",
         "y": {
          "bdata": "vYS5QHZJw0AMkLJAN9S/QM/nskCycrFA",
          "dtype": "f4"
         },
         "yaxis": "y"
        },
        {
         "customdata": [
          [
           "8",
           0.9542825606404628
          ],
          [
           "8",
           1
          ],
          [
           "8",
           0.9669852530387788
          ],
          [
           "8",
           0.8489454242173361
          ],
          [
           "8",
           0.9542825606404628
          ],
          [
           "8",
           0.8713753439122811
          ],
          [
           "8",
           0.970760581168685
          ],
          [
           "8",
           0.862104943790485
          ],
          [
           "8",
           1
          ],
          [
           "8",
           1
          ],
          [
           "8",
           0.970760581168685
          ],
          [
           "8",
           0.9426463093361572
          ]
         ],
         "hovertemplate": "cluster=%{customdata[0]}<br>x=%{x}<br>y=%{y}<br>prob=%{customdata[1]}<extra></extra>",
         "legendgroup": "8",
         "marker": {
          "color": "#FF6692",
          "opacity": 0.9,
          "symbol": "circle"
         },
         "mode": "markers",
         "name": "8",
         "orientation": "v",
         "showlegend": true,
         "type": "scatter",
         "x": {
          "bdata": "E5MKQUPuC0FhTwpBIQcMQczZCkEtggpBfzwLQWwPDUFpvwpB4gwLQdKCDUFhqghB",
          "dtype": "f4"
         },
         "xaxis": "x",
         "y": {
          "bdata": "ft//QGcnAUGg2gBB3JQBQazU/UAWZf9AXJ39QOtU/UDCtAFBx7EBQfjg/EAOzAJB",
          "dtype": "f4"
         },
         "yaxis": "y"
        },
        {
         "customdata": [
          [
           "0",
           1
          ],
          [
           "0",
           1
          ],
          [
           "0",
           1
          ],
          [
           "0",
           1
          ]
         ],
         "hovertemplate": "cluster=%{customdata[0]}<br>x=%{x}<br>y=%{y}<br>prob=%{customdata[1]}<extra></extra>",
         "legendgroup": "0",
         "marker": {
          "color": "#B6E880",
          "opacity": 0.9,
          "symbol": "circle"
         },
         "mode": "markers",
         "name": "0",
         "orientation": "v",
         "showlegend": true,
         "type": "scatter",
         "x": {
          "bdata": "cLjqQAqB6UCLa+tAkzjrQA==",
          "dtype": "f4"
         },
         "xaxis": "x",
         "y": {
          "bdata": "Y/vUQApw10A8L9dAqVfZQA==",
          "dtype": "f4"
         },
         "yaxis": "y"
        },
        {
         "customdata": [
          [
           "11",
           0.9855492744799835
          ],
          [
           "11",
           0.9855088984247431
          ],
          [
           "11",
           0.9914707078336328
          ],
          [
           "11",
           0.9855088984247431
          ],
          [
           "11",
           0.9777413105351713
          ],
          [
           "11",
           0.98606298604119
          ],
          [
           "11",
           0.981928910527793
          ],
          [
           "11",
           1
          ],
          [
           "11",
           0.9810464087372858
          ],
          [
           "11",
           0.9968127808420275
          ],
          [
           "11",
           1
          ],
          [
           "11",
           1
          ]
         ],
         "hovertemplate": "cluster=%{customdata[0]}<br>x=%{x}<br>y=%{y}<br>prob=%{customdata[1]}<extra></extra>",
         "legendgroup": "11",
         "marker": {
          "color": "#FF97FF",
          "opacity": 0.9,
          "symbol": "circle"
         },
         "mode": "markers",
         "name": "11",
         "orientation": "v",
         "showlegend": true,
         "type": "scatter",
         "x": {
          "bdata": "JlWZQPU4R0ArYaZAo8xsQPHwS0DHaY5AB5OGQD8znkCRFjxAy52RQLVfsUDuU41A",
          "dtype": "f4"
         },
         "xaxis": "x",
         "y": {
          "bdata": "q6r9QBk5D0FhHfdAv78NQalWEUFmswRByYQKQboR/0A9vA1B5y8EQVvK7kDppgJB",
          "dtype": "f4"
         },
         "yaxis": "y"
        },
        {
         "customdata": [
          [
           "2",
           0.9690870437923844
          ],
          [
           "2",
           1
          ],
          [
           "2",
           1
          ],
          [
           "2",
           1
          ],
          [
           "2",
           0.9989381390705923
          ],
          [
           "2",
           0.9989381390705923
          ]
         ],
         "hovertemplate": "cluster=%{customdata[0]}<br>x=%{x}<br>y=%{y}<br>prob=%{customdata[1]}<extra></extra>",
         "legendgroup": "2",
         "marker": {
          "color": "#FECB52",
          "opacity": 0.9,
          "symbol": "circle"
         },
         "mode": "markers",
         "name": "2",
         "orientation": "v",
         "showlegend": true,
         "type": "scatter",
         "x": {
          "bdata": "ivqLQFSFmEAs7ZVAvs2XQGZElkC3BJtA",
          "dtype": "f4"
         },
         "xaxis": "x",
         "y": {
          "bdata": "eA/aQAMc1UCYtNVA5f3SQARM00Az7tJA",
          "dtype": "f4"
         },
         "yaxis": "y"
        },
        {
         "customdata": [
          [
           "18",
           0.6741753547197314
          ],
          [
           "18",
           0.769798793501928
          ],
          [
           "18",
           1
          ],
          [
           "18",
           0.7113670152494852
          ],
          [
           "18",
           1
          ],
          [
           "18",
           0.9234790746869557
          ],
          [
           "18",
           1
          ],
          [
           "18",
           1
          ]
         ],
         "hovertemplate": "cluster=%{customdata[0]}<br>x=%{x}<br>y=%{y}<br>prob=%{customdata[1]}<extra></extra>",
         "legendgroup": "18",
         "marker": {
          "color": "#636efa",
          "opacity": 0.9,
          "symbol": "circle"
         },
         "mode": "markers",
         "name": "18",
         "orientation": "v",
         "showlegend": true,
         "type": "scatter",
         "x": {
          "bdata": "CJWgvkq8Cr9asAm/iN61vgRMAb8zPQ6/ZMDYvmbJFr8=",
          "dtype": "f4"
         },
         "xaxis": "x",
         "y": {
          "bdata": "bNSkQFcwpUDqYaRAKummQL9loUBeYaFAMPagQHzEpEA=",
          "dtype": "f4"
         },
         "yaxis": "y"
        },
        {
         "customdata": [
          [
           "4",
           1
          ],
          [
           "4",
           0.9522485637543688
          ],
          [
           "4",
           0.9760541433815108
          ],
          [
           "4",
           1
          ],
          [
           "4",
           1
          ],
          [
           "4",
           0.9357544009148766
          ],
          [
           "4",
           0.9861595371071288
          ],
          [
           "4",
           0.9211281518830476
          ]
         ],
         "hovertemplate": "cluster=%{customdata[0]}<br>x=%{x}<br>y=%{y}<br>prob=%{customdata[1]}<extra></extra>",
         "legendgroup": "4",
         "marker": {
          "color": "#EF553B",
          "opacity": 0.9,
          "symbol": "circle"
         },
         "mode": "markers",
         "name": "4",
         "orientation": "v",
         "showlegend": true,
         "type": "scatter",
         "x": {
          "bdata": "X2c6QBzJOkAqFTNAO+o+QDNCMkAwhE9Aa01DQP9IMUA=",
          "dtype": "f4"
         },
         "xaxis": "x",
         "y": {
          "bdata": "3JDYQBbC2EB3GuBAMnvZQCjN3kCwr9hAiX3WQJi35EA=",
          "dtype": "f4"
         },
         "yaxis": "y"
        },
        {
         "customdata": [
          [
           "12",
           1
          ],
          [
           "12",
           1
          ],
          [
           "12",
           1
          ],
          [
           "12",
           1
          ]
         ],
         "hovertemplate": "cluster=%{customdata[0]}<br>x=%{x}<br>y=%{y}<br>prob=%{customdata[1]}<extra></extra>",
         "legendgroup": "12",
         "marker": {
          "color": "#00cc96",
          "opacity": 0.9,
          "symbol": "circle"
         },
         "mode": "markers",
         "name": "12",
         "orientation": "v",
         "showlegend": true,
         "type": "scatter",
         "x": {
          "bdata": "uu26QBLYtUDhFYZAoH2EQA==",
          "dtype": "f4"
         },
         "xaxis": "x",
         "y": {
          "bdata": "A1CuQJuqr0CuMQFBwo0DQQ==",
          "dtype": "f4"
         },
         "yaxis": "y"
        },
        {
         "customdata": [
          [
           "7",
           1
          ],
          [
           "7",
           1
          ],
          [
           "7",
           1
          ],
          [
           "7",
           1
          ]
         ],
         "hovertemplate": "cluster=%{customdata[0]}<br>x=%{x}<br>y=%{y}<br>prob=%{customdata[1]}<extra></extra>",
         "legendgroup": "7",
         "marker": {
          "color": "#ab63fa",
          "opacity": 0.9,
          "symbol": "circle"
         },
         "mode": "markers",
         "name": "7",
         "orientation": "v",
         "showlegend": true,
         "type": "scatter",
         "x": {
          "bdata": "0nbAQO+Vv0CtS8FAjDXDQA==",
          "dtype": "f4"
         },
         "xaxis": "x",
         "y": {
          "bdata": "NEyqQElZqUBceqlARbKoQA==",
          "dtype": "f4"
         },
         "yaxis": "y"
        },
        {
         "customdata": [
          [
           "10",
           1
          ],
          [
           "10",
           1
          ],
          [
           "10",
           0.9700613572560592
          ],
          [
           "10",
           0.9623783049713404
          ],
          [
           "10",
           1
          ],
          [
           "10",
           0.9700613572560592
          ]
         ],
         "hovertemplate": "cluster=%{customdata[0]}<br>x=%{x}<br>y=%{y}<br>prob=%{customdata[1]}<extra></extra>",
         "legendgroup": "10",
         "marker": {
          "color": "#FFA15A",
          "opacity": 0.9,
          "symbol": "circle"
         },
         "mode": "markers",
         "name": "10",
         "orientation": "v",
         "showlegend": true,
         "type": "scatter",
         "x": {
          "bdata": "T8QyQPW/NUDVnCNA6UoUQEAvPkCXCxdA",
          "dtype": "f4"
         },
         "xaxis": "x",
         "y": {
          "bdata": "mPIBQSgY+UDWyABBTxgDQbQb90CdFAZB",
          "dtype": "f4"
         },
         "yaxis": "y"
        },
        {
         "customdata": [
          [
           "14",
           1
          ],
          [
           "14",
           1
          ],
          [
           "14",
           0.9900004951073108
          ],
          [
           "14",
           1
          ],
          [
           "14",
           1
          ]
         ],
         "hovertemplate": "cluster=%{customdata[0]}<br>x=%{x}<br>y=%{y}<br>prob=%{customdata[1]}<extra></extra>",
         "legendgroup": "14",
         "marker": {
          "color": "#19d3f3",
          "opacity": 0.9,
          "symbol": "circle"
         },
         "mode": "markers",
         "name": "14",
         "orientation": "v",
         "showlegend": true,
         "type": "scatter",
         "x": {
          "bdata": "eypKQGzQU0BzTHxAcZBxQKIGTEA=",
          "dtype": "f4"
         },
         "xaxis": "x",
         "y": {
          "bdata": "3E69QNiDs0C6irBAkWuxQCYjuUA=",
          "dtype": "f4"
         },
         "yaxis": "y"
        },
        {
         "customdata": [
          [
           "1",
           1
          ],
          [
           "1",
           0.9868740113336195
          ],
          [
           "1",
           1
          ],
          [
           "1",
           1
          ]
         ],
         "hovertemplate": "cluster=%{customdata[0]}<br>x=%{x}<br>y=%{y}<br>prob=%{customdata[1]}<extra></extra>",
         "legendgroup": "1",
         "marker": {
          "color": "#FF6692",
          "opacity": 0.9,
          "symbol": "circle"
         },
         "mode": "markers",
         "name": "1",
         "orientation": "v",
         "showlegend": true,
         "type": "scatter",
         "x": {
          "bdata": "NdzcQClP00AEwdpAI/beQA==",
          "dtype": "f4"
         },
         "xaxis": "x",
         "y": {
          "bdata": "3F/VQImh2UA1OddAIKzcQA==",
          "dtype": "f4"
         },
         "yaxis": "y"
        },
        {
         "customdata": [
          [
           "17",
           0.8469710914891404
          ],
          [
           "17",
           0.8196175064217505
          ],
          [
           "17",
           1
          ],
          [
           "17",
           1
          ],
          [
           "17",
           1
          ],
          [
           "17",
           1
          ]
         ],
         "hovertemplate": "cluster=%{customdata[0]}<br>x=%{x}<br>y=%{y}<br>prob=%{customdata[1]}<extra></extra>",
         "legendgroup": "17",
         "marker": {
          "color": "#B6E880",
          "opacity": 0.9,
          "symbol": "circle"
         },
         "mode": "markers",
         "name": "17",
         "orientation": "v",
         "showlegend": true,
         "type": "scatter",
         "x": {
          "bdata": "l8G1PdlOkD1ca10+xmdjPtdlLz77zWg9",
          "dtype": "f4"
         },
         "xaxis": "x",
         "y": {
          "bdata": "YIapQHM7rUD/tKtA1JGtQLiGrkBRNrBA",
          "dtype": "f4"
         },
         "yaxis": "y"
        },
        {
         "customdata": [
          [
           "16",
           1
          ],
          [
           "16",
           0.9434842564744124
          ],
          [
           "16",
           1
          ],
          [
           "16",
           1
          ],
          [
           "16",
           1
          ]
         ],
         "hovertemplate": "cluster=%{customdata[0]}<br>x=%{x}<br>y=%{y}<br>prob=%{customdata[1]}<extra></extra>",
         "legendgroup": "16",
         "marker": {
          "color": "#FF97FF",
          "opacity": 0.9,
          "symbol": "circle"
         },
         "mode": "markers",
         "name": "16",
         "orientation": "v",
         "showlegend": true,
         "type": "scatter",
         "x": {
          "bdata": "S7dxQDoya0C/hHJAeRh0QF6Jb0A=",
          "dtype": "f4"
         },
         "xaxis": "x",
         "y": {
          "bdata": "8su2QNnGu0CFSrdAtTe5QAm0uEA=",
          "dtype": "f4"
         },
         "yaxis": "y"
        },
        {
         "customdata": [
          [
           "9",
           1
          ],
          [
           "9",
           1
          ],
          [
           "9",
           1
          ],
          [
           "9",
           1
          ]
         ],
         "hovertemplate": "cluster=%{customdata[0]}<br>x=%{x}<br>y=%{y}<br>prob=%{customdata[1]}<extra></extra>",
         "legendgroup": "9",
         "marker": {
          "color": "#FECB52",
          "opacity": 0.9,
          "symbol": "circle"
         },
         "mode": "markers",
         "name": "9",
         "orientation": "v",
         "showlegend": true,
         "type": "scatter",
         "x": {
          "bdata": "ZzMCQdgiAUEXpAJBNzsEQQ==",
          "dtype": "f4"
         },
         "xaxis": "x",
         "y": {
          "bdata": "xbEAQbjg/kDsvf9A0lQBQQ==",
          "dtype": "f4"
         },
         "yaxis": "y"
        }
       ],
       "layout": {
        "legend": {
         "title": {
          "text": "cluster"
         },
         "tracegroupgap": 0
        },
        "template": {
         "data": {
          "bar": [
           {
            "error_x": {
             "color": "#2a3f5f"
            },
            "error_y": {
             "color": "#2a3f5f"
            },
            "marker": {
             "line": {
              "color": "#E5ECF6",
              "width": 0.5
             },
             "pattern": {
              "fillmode": "overlay",
              "size": 10,
              "solidity": 0.2
             }
            },
            "type": "bar"
           }
          ],
          "barpolar": [
           {
            "marker": {
             "line": {
              "color": "#E5ECF6",
              "width": 0.5
             },
             "pattern": {
              "fillmode": "overlay",
              "size": 10,
              "solidity": 0.2
             }
            },
            "type": "barpolar"
           }
          ],
          "carpet": [
           {
            "aaxis": {
             "endlinecolor": "#2a3f5f",
             "gridcolor": "white",
             "linecolor": "white",
             "minorgridcolor": "white",
             "startlinecolor": "#2a3f5f"
            },
            "baxis": {
             "endlinecolor": "#2a3f5f",
             "gridcolor": "white",
             "linecolor": "white",
             "minorgridcolor": "white",
             "startlinecolor": "#2a3f5f"
            },
            "type": "carpet"
           }
          ],
          "choropleth": [
           {
            "colorbar": {
             "outlinewidth": 0,
             "ticks": ""
            },
            "type": "choropleth"
           }
          ],
          "contour": [
           {
            "colorbar": {
             "outlinewidth": 0,
             "ticks": ""
            },
            "colorscale": [
             [
              0,
              "#0d0887"
             ],
             [
              0.1111111111111111,
              "#46039f"
             ],
             [
              0.2222222222222222,
              "#7201a8"
             ],
             [
              0.3333333333333333,
              "#9c179e"
             ],
             [
              0.4444444444444444,
              "#bd3786"
             ],
             [
              0.5555555555555556,
              "#d8576b"
             ],
             [
              0.6666666666666666,
              "#ed7953"
             ],
             [
              0.7777777777777778,
              "#fb9f3a"
             ],
             [
              0.8888888888888888,
              "#fdca26"
             ],
             [
              1,
              "#f0f921"
             ]
            ],
            "type": "contour"
           }
          ],
          "contourcarpet": [
           {
            "colorbar": {
             "outlinewidth": 0,
             "ticks": ""
            },
            "type": "contourcarpet"
           }
          ],
          "heatmap": [
           {
            "colorbar": {
             "outlinewidth": 0,
             "ticks": ""
            },
            "colorscale": [
             [
              0,
              "#0d0887"
             ],
             [
              0.1111111111111111,
              "#46039f"
             ],
             [
              0.2222222222222222,
              "#7201a8"
             ],
             [
              0.3333333333333333,
              "#9c179e"
             ],
             [
              0.4444444444444444,
              "#bd3786"
             ],
             [
              0.5555555555555556,
              "#d8576b"
             ],
             [
              0.6666666666666666,
              "#ed7953"
             ],
             [
              0.7777777777777778,
              "#fb9f3a"
             ],
             [
              0.8888888888888888,
              "#fdca26"
             ],
             [
              1,
              "#f0f921"
             ]
            ],
            "type": "heatmap"
           }
          ],
          "histogram": [
           {
            "marker": {
             "pattern": {
              "fillmode": "overlay",
              "size": 10,
              "solidity": 0.2
             }
            },
            "type": "histogram"
           }
          ],
          "histogram2d": [
           {
            "colorbar": {
             "outlinewidth": 0,
             "ticks": ""
            },
            "colorscale": [
             [
              0,
              "#0d0887"
             ],
             [
              0.1111111111111111,
              "#46039f"
             ],
             [
              0.2222222222222222,
              "#7201a8"
             ],
             [
              0.3333333333333333,
              "#9c179e"
             ],
             [
              0.4444444444444444,
              "#bd3786"
             ],
             [
              0.5555555555555556,
              "#d8576b"
             ],
             [
              0.6666666666666666,
              "#ed7953"
             ],
             [
              0.7777777777777778,
              "#fb9f3a"
             ],
             [
              0.8888888888888888,
              "#fdca26"
             ],
             [
              1,
              "#f0f921"
             ]
            ],
            "type": "histogram2d"
           }
          ],
          "histogram2dcontour": [
           {
            "colorbar": {
             "outlinewidth": 0,
             "ticks": ""
            },
            "colorscale": [
             [
              0,
              "#0d0887"
             ],
             [
              0.1111111111111111,
              "#46039f"
             ],
             [
              0.2222222222222222,
              "#7201a8"
             ],
             [
              0.3333333333333333,
              "#9c179e"
             ],
             [
              0.4444444444444444,
              "#bd3786"
             ],
             [
              0.5555555555555556,
              "#d8576b"
             ],
             [
              0.6666666666666666,
              "#ed7953"
             ],
             [
              0.7777777777777778,
              "#fb9f3a"
             ],
             [
              0.8888888888888888,
              "#fdca26"
             ],
             [
              1,
              "#f0f921"
             ]
            ],
            "type": "histogram2dcontour"
           }
          ],
          "mesh3d": [
           {
            "colorbar": {
             "outlinewidth": 0,
             "ticks": ""
            },
            "type": "mesh3d"
           }
          ],
          "parcoords": [
           {
            "line": {
             "colorbar": {
              "outlinewidth": 0,
              "ticks": ""
             }
            },
            "type": "parcoords"
           }
          ],
          "pie": [
           {
            "automargin": true,
            "type": "pie"
           }
          ],
          "scatter": [
           {
            "fillpattern": {
             "fillmode": "overlay",
             "size": 10,
             "solidity": 0.2
            },
            "type": "scatter"
           }
          ],
          "scatter3d": [
           {
            "line": {
             "colorbar": {
              "outlinewidth": 0,
              "ticks": ""
             }
            },
            "marker": {
             "colorbar": {
              "outlinewidth": 0,
              "ticks": ""
             }
            },
            "type": "scatter3d"
           }
          ],
          "scattercarpet": [
           {
            "marker": {
             "colorbar": {
              "outlinewidth": 0,
              "ticks": ""
             }
            },
            "type": "scattercarpet"
           }
          ],
          "scattergeo": [
           {
            "marker": {
             "colorbar": {
              "outlinewidth": 0,
              "ticks": ""
             }
            },
            "type": "scattergeo"
           }
          ],
          "scattergl": [
           {
            "marker": {
             "colorbar": {
              "outlinewidth": 0,
              "ticks": ""
             }
            },
            "type": "scattergl"
           }
          ],
          "scattermap": [
           {
            "marker": {
             "colorbar": {
              "outlinewidth": 0,
              "ticks": ""
             }
            },
            "type": "scattermap"
           }
          ],
          "scattermapbox": [
           {
            "marker": {
             "colorbar": {
              "outlinewidth": 0,
              "ticks": ""
             }
            },
            "type": "scattermapbox"
           }
          ],
          "scatterpolar": [
           {
            "marker": {
             "colorbar": {
              "outlinewidth": 0,
              "ticks": ""
             }
            },
            "type": "scatterpolar"
           }
          ],
          "scatterpolargl": [
           {
            "marker": {
             "colorbar": {
              "outlinewidth": 0,
              "ticks": ""
             }
            },
            "type": "scatterpolargl"
           }
          ],
          "scatterternary": [
           {
            "marker": {
             "colorbar": {
              "outlinewidth": 0,
              "ticks": ""
             }
            },
            "type": "scatterternary"
           }
          ],
          "surface": [
           {
            "colorbar": {
             "outlinewidth": 0,
             "ticks": ""
            },
            "colorscale": [
             [
              0,
              "#0d0887"
             ],
             [
              0.1111111111111111,
              "#46039f"
             ],
             [
              0.2222222222222222,
              "#7201a8"
             ],
             [
              0.3333333333333333,
              "#9c179e"
             ],
             [
              0.4444444444444444,
              "#bd3786"
             ],
             [
              0.5555555555555556,
              "#d8576b"
             ],
             [
              0.6666666666666666,
              "#ed7953"
             ],
             [
              0.7777777777777778,
              "#fb9f3a"
             ],
             [
              0.8888888888888888,
              "#fdca26"
             ],
             [
              1,
              "#f0f921"
             ]
            ],
            "type": "surface"
           }
          ],
          "table": [
           {
            "cells": {
             "fill": {
              "color": "#EBF0F8"
             },
             "line": {
              "color": "white"
             }
            },
            "header": {
             "fill": {
              "color": "#C8D4E3"
             },
             "line": {
              "color": "white"
             }
            },
            "type": "table"
           }
          ]
         },
         "layout": {
          "annotationdefaults": {
           "arrowcolor": "#2a3f5f",
           "arrowhead": 0,
           "arrowwidth": 1
          },
          "autotypenumbers": "strict",
          "coloraxis": {
           "colorbar": {
            "outlinewidth": 0,
            "ticks": ""
           }
          },
          "colorscale": {
           "diverging": [
            [
             0,
             "#8e0152"
            ],
            [
             0.1,
             "#c51b7d"
            ],
            [
             0.2,
             "#de77ae"
            ],
            [
             0.3,
             "#f1b6da"
            ],
            [
             0.4,
             "#fde0ef"
            ],
            [
             0.5,
             "#f7f7f7"
            ],
            [
             0.6,
             "#e6f5d0"
            ],
            [
             0.7,
             "#b8e186"
            ],
            [
             0.8,
             "#7fbc41"
            ],
            [
             0.9,
             "#4d9221"
            ],
            [
             1,
             "#276419"
            ]
           ],
           "sequential": [
            [
             0,
             "#0d0887"
            ],
            [
             0.1111111111111111,
             "#46039f"
            ],
            [
             0.2222222222222222,
             "#7201a8"
            ],
            [
             0.3333333333333333,
             "#9c179e"
            ],
            [
             0.4444444444444444,
             "#bd3786"
            ],
            [
             0.5555555555555556,
             "#d8576b"
            ],
            [
             0.6666666666666666,
             "#ed7953"
            ],
            [
             0.7777777777777778,
             "#fb9f3a"
            ],
            [
             0.8888888888888888,
             "#fdca26"
            ],
            [
             1,
             "#f0f921"
            ]
           ],
           "sequentialminus": [
            [
             0,
             "#0d0887"
            ],
            [
             0.1111111111111111,
             "#46039f"
            ],
            [
             0.2222222222222222,
             "#7201a8"
            ],
            [
             0.3333333333333333,
             "#9c179e"
            ],
            [
             0.4444444444444444,
             "#bd3786"
            ],
            [
             0.5555555555555556,
             "#d8576b"
            ],
            [
             0.6666666666666666,
             "#ed7953"
            ],
            [
             0.7777777777777778,
             "#fb9f3a"
            ],
            [
             0.8888888888888888,
             "#fdca26"
            ],
            [
             1,
             "#f0f921"
            ]
           ]
          },
          "colorway": [
           "#636efa",
           "#EF553B",
           "#00cc96",
           "#ab63fa",
           "#FFA15A",
           "#19d3f3",
           "#FF6692",
           "#B6E880",
           "#FF97FF",
           "#FECB52"
          ],
          "font": {
           "color": "#2a3f5f"
          },
          "geo": {
           "bgcolor": "white",
           "lakecolor": "white",
           "landcolor": "#E5ECF6",
           "showlakes": true,
           "showland": true,
           "subunitcolor": "white"
          },
          "hoverlabel": {
           "align": "left"
          },
          "hovermode": "closest",
          "mapbox": {
           "style": "light"
          },
          "paper_bgcolor": "white",
          "plot_bgcolor": "#E5ECF6",
          "polar": {
           "angularaxis": {
            "gridcolor": "white",
            "linecolor": "white",
            "ticks": ""
           },
           "bgcolor": "#E5ECF6",
           "radialaxis": {
            "gridcolor": "white",
            "linecolor": "white",
            "ticks": ""
           }
          },
          "scene": {
           "xaxis": {
            "backgroundcolor": "#E5ECF6",
            "gridcolor": "white",
            "gridwidth": 2,
            "linecolor": "white",
            "showbackground": true,
            "ticks": "",
            "zerolinecolor": "white"
           },
           "yaxis": {
            "backgroundcolor": "#E5ECF6",
            "gridcolor": "white",
            "gridwidth": 2,
            "linecolor": "white",
            "showbackground": true,
            "ticks": "",
            "zerolinecolor": "white"
           },
           "zaxis": {
            "backgroundcolor": "#E5ECF6",
            "gridcolor": "white",
            "gridwidth": 2,
            "linecolor": "white",
            "showbackground": true,
            "ticks": "",
            "zerolinecolor": "white"
           }
          },
          "shapedefaults": {
           "line": {
            "color": "#2a3f5f"
           }
          },
          "ternary": {
           "aaxis": {
            "gridcolor": "white",
            "linecolor": "white",
            "ticks": ""
           },
           "baxis": {
            "gridcolor": "white",
            "linecolor": "white",
            "ticks": ""
           },
           "bgcolor": "#E5ECF6",
           "caxis": {
            "gridcolor": "white",
            "linecolor": "white",
            "ticks": ""
           }
          },
          "title": {
           "x": 0.05
          },
          "xaxis": {
           "automargin": true,
           "gridcolor": "white",
           "linecolor": "white",
           "ticks": "",
           "title": {
            "standoff": 15
           },
           "zerolinecolor": "white",
           "zerolinewidth": 2
          },
          "yaxis": {
           "automargin": true,
           "gridcolor": "white",
           "linecolor": "white",
           "ticks": "",
           "title": {
            "standoff": 15
           },
           "zerolinecolor": "white",
           "zerolinewidth": 2
          }
         }
        },
        "title": {
         "text": "UMAP(2D, cosine) — trustworthiness@25=0.883"
        },
        "xaxis": {
         "anchor": "y",
         "domain": [
          0,
          1
         ],
         "title": {
          "text": "x"
         }
        },
        "yaxis": {
         "anchor": "x",
         "domain": [
          0,
          1
         ],
         "title": {
          "text": "y"
         }
        }
       }
      }
     },
     "metadata": {},
     "output_type": "display_data"
    },
    {
     "data": {
      "image/png": "[encoded data removed]",
      "text/plain": [
       "<Figure size 640x480 with 2 Axes>"
      ]
     },
     "metadata": {},
     "output_type": "display_data"
    }
   ],
   "source": [
    "# %% [single-cell PoC] PubMed → Qwen3 embeddings (title+abstract, no cap) → length-bucketed encoding\n",
    "# → HDBSCAN (no UMAP) → TF-IDF topics → LM Studio LLM labels → TF-IDF k-means comparison\n",
    "#\n",
    "# What this does:\n",
    "# 1) Pull ~1000 most recent PubMed records (last ~3y) for a query (default below).\n",
    "# 2) Build \"passage: {title}\\n\\n{abstract}\" strings (title+abstract is the default).\n",
    "# 3) Embed with Qwen/Qwen3-Embedding-0.6B on CUDA, FP16, NO token cap.\n",
    "#    Uses LENGTH BUCKETING (short docs in big batches, long docs in small batches) + OOM backoff.\n",
    "# 4) Cluster directly in 1024-D with HDBSCAN (metric='euclidean' on L2-normalized vectors → ≈ cosine).\n",
    "# 5) For each cluster: compute TF-IDF top n-grams, pick central docs; ask LM Studio (gemma-3n-e2b-it)\n",
    "#    to propose a concise label from those hints.\n",
    "# 6) Build a TF-IDF+k-means lexical clustering and compare to HDBSCAN with ARI/AMI (diagnostic).\n",
    "#\n",
    "# Notes:\n",
    "# - No UMAP anywhere (you asked to keep 1024-D embeddings).\n",
    "# - No token cap; we only bucket by length to keep batches stable on a 6–8 GB GPU.\n",
    "# - EFetch is CHUNKED to avoid 414 (URI too long).\n",
    "# - If flash-attn is installed, you can toggle it in model_kwargs. We default to safe settings.\n",
    "# ---------------------------------------------------------------------\n",
    "\n",
    "import os, sys, time, math, json, re, textwrap\n",
    "import datetime as dt\n",
    "from collections import Counter, defaultdict\n",
    "\n",
    "import requests\n",
    "import numpy as np\n",
    "import pandas as pd\n",
    "\n",
    "import torch\n",
    "from sentence_transformers import SentenceTransformer\n",
    "\n",
    "from sklearn.feature_extraction.text import TfidfVectorizer\n",
    "from sklearn.cluster import KMeans\n",
    "from sklearn.preprocessing import normalize\n",
    "from sklearn.metrics import adjusted_rand_score as ARI, adjusted_mutual_info_score as AMI, silhouette_score\n",
    "from sklearn.decomposition import PCA\n",
    "from sklearn.manifold import trustworthiness\n",
    "\n",
    "import hdbscan\n",
    "from hdbscan.validity import validity_index as HDBSCAN_DBCV\n",
    "import umap\n",
    "\n",
    "# Optional: plotting\n",
    "import matplotlib.pyplot as plt\n",
    "try:\n",
    "    import plotly.express as px\n",
    "    _HAS_PLOTLY = True\n",
    "except Exception:\n",
    "    _HAS_PLOTLY = False\n",
    "\n",
    "# HDBSCAN plotting helpers (condensed tree)\n",
    "import hdbscan.plots as hdb_plots\n",
    "\n",
    "try:\n",
    "    from lxml import etree as LETREE\n",
    "    LXML = True\n",
    "except Exception:\n",
    "    import xml.etree.ElementTree as LETREE\n",
    "    LXML = False\n",
    "\n",
    "# -------------------------\n",
    "# Config (edit to taste)\n",
    "# -------------------------\n",
    "\n",
    "QUERY = (\n",
    "    r'(\"Preanesthetic Evaluation\"[Mesh] OR \"Preoperative Care\"[Mesh] '\n",
    "    r'OR preanesthetic*[tiab] OR pre-anesthetic*[tiab] '\n",
    "    r'OR \"preoperative assessment\"[tiab] OR \"preoperative evaluation\"[tiab] '\n",
    "    r'OR \"anesthetic assessment\"[tiab] OR \"anesthetic evaluation\"[tiab]) '\n",
    "    r'AND '\n",
    "    r'(\"Pregnancy\"[Mesh] OR \"Pregnant Women\"[Mesh] OR pregnan*[tiab] '\n",
    "    r'OR gestation[tiab] OR obstetric*[tiab])'\n",
    ")\n",
    "#'hypertension randomized controlled trial'\n",
    "YEARS_BACK          = 10\n",
    "RETMAX              = 1000\n",
    "EFETCH_CHUNK_SIZE   = 200                     # <=200 IDs per efetch to avoid 414\n",
    "LM_BASE_URL         = \"http://localhost:1234\"\n",
    "LM_LLM_ID           = \"gemma-3n-e2b-it\"       # for cluster labeling via LM Studio\n",
    "MODEL_ID            = \"Qwen/Qwen3-Embedding-0.6B\"\n",
    "DEVICE              = \"cuda\" if torch.cuda.is_available() else \"cpu\"\n",
    "TORCH_DTYPE         = torch.float16           # FP16 weights/compute; vectors returned as float32 after normalize\n",
    "\n",
    "# Length-bucketing: token-length cut points and per-bucket batch sizes\n",
    "BUCKET_QUANTILES    = [0.50, 0.80, 0.95, 1.00] # token-length quantiles\n",
    "BUCKET_BATCH_SIZES  = [32,    16,   8,    4]   # batch sizes per bucket (tune for your VRAM)\n",
    "\n",
    "HDBSCAN_MIN_CLUSTER = 3 #recall that min_cluster >= min_samples\n",
    "HDBSCAN_MIN_SAMPLES = 3\n",
    "\n",
    "MAX_LABEL_CLUSTERS  = 12                      # label top-N clusters via LLM\n",
    "LM_TIMEOUT_S        = 60\n",
    "SEED                = 42\n",
    "\n",
    "#for titles sent to LM for cluster labelling\n",
    "MAX_TITLES = 30\n",
    "MAX_TITLE_CHARS = 360\n",
    "\n",
    "np.random.seed(SEED)\n",
    "torch.manual_seed(SEED)\n",
    "\n",
    "# Optional: let PyTorch use expandable segments to reduce fragmentation issues\n",
    "os.environ.setdefault(\"PYTORCH_CUDA_ALLOC_CONF\", \"expandable_segments:True\")\n",
    "\n",
    "# -------------------------\n",
    "# Helpers: GPU & timing\n",
    "# -------------------------\n",
    "def gpu_info():\n",
    "    if torch.cuda.is_available():\n",
    "        name = torch.cuda.get_device_name(0)\n",
    "        free, total = torch.cuda.mem_get_info()\n",
    "        used = total - free\n",
    "        return f\"CUDA: {name} | VRAM total={total/2**30:.2f} GB, free={free/2**30:.2f} GB, used={used/2**30:.2f} GB\"\n",
    "    return \"CUDA: not available\"\n",
    "\n",
    "def tnow(): return time.perf_counter()\n",
    "\n",
    "def pretty_sec(s):\n",
    "    if s < 60: return f\"{s:.1f}s\"\n",
    "    m = int(s // 60)\n",
    "    return f\"{m}m{(s - 60*m):.1f}s\"\n",
    "\n",
    "# -------------------------\n",
    "# 1) PubMed fetch (last ~3y) with CHUNKED efetch\n",
    "# -------------------------\n",
    "def pubmed_esearch(query, mindate, maxdate, retmax=1000):\n",
    "    term = f'({query}) AND (\"{mindate}\"[Date - Publication] : \"{maxdate}\"[Date - Publication])'\n",
    "    params = {\"db\":\"pubmed\",\"term\":term,\"retmax\":str(retmax),\"sort\":\"pub+date\",\"retmode\":\"json\"}\n",
    "    r = requests.get(\"https://eutils.ncbi.nlm.nih.gov/entrez/eutils/esearch.fcgi\", params=params, timeout=60)\n",
    "    r.raise_for_status()\n",
    "    js = r.json()\n",
    "    return js.get(\"esearchresult\",{}).get(\"idlist\",[])\n",
    "\n",
    "def _text_if(elem):\n",
    "    return (elem.text or \"\").strip() if elem is not None else \"\"\n",
    "\n",
    "def _extract_sections(abs_node):\n",
    "    \"\"\"Return (normalized_sections_dict, full_abstract_text).\"\"\"\n",
    "    if abs_node is None:\n",
    "        return {}, \"\"\n",
    "    parts, sections = [], {}\n",
    "    for at in abs_node.findall(\".//AbstractText\"):\n",
    "        label = (at.get(\"Label\") or at.get(\"NlmCategory\") or \"\").lower().strip()\n",
    "        txt = \"\".join(at.itertext()).strip()\n",
    "        if not txt: continue\n",
    "        parts.append(txt)\n",
    "        key = (\n",
    "            \"background\" if \"background\" in label else\n",
    "            \"objective\"  if \"objective\"  in label else\n",
    "            \"methods\"    if (\"methods\" in label or \"method\" in label) else\n",
    "            \"results\"    if \"results\" in label else\n",
    "            \"conclusion\" if (\"conclusion\" in label or \"interpretation\" in label) else\n",
    "            label\n",
    "        )\n",
    "        sections.setdefault(key, \"\")\n",
    "        sections[key] += ((\" \" + txt) if sections[key] else txt)\n",
    "    return sections, \" \".join(parts).strip()\n",
    "\n",
    "def pubmed_efetch_batched(pmids, chunk=200, timeout=120):\n",
    "    records = []\n",
    "    for i in range(0, len(pmids), chunk):\n",
    "        sub = pmids[i:i+chunk]\n",
    "        ids = \",\".join(sub)\n",
    "        r = requests.get(\n",
    "            \"https://eutils.ncbi.nlm.nih.gov/entrez/eutils/efetch.fcgi\",\n",
    "            params={\"db\":\"pubmed\",\"id\":ids,\"retmode\":\"xml\"},\n",
    "            timeout=timeout\n",
    "        )\n",
    "        r.raise_for_status()\n",
    "        xml = r.text\n",
    "        root = LETREE.fromstring(xml.encode(\"utf-8\")) if LXML else LETREE.fromstring(xml)\n",
    "        for art in root.findall(\".//PubmedArticle\"):\n",
    "            pmid = _text_if(art.find(\".//PMID\"))\n",
    "            title = _text_if(art.find(\".//ArticleTitle\"))\n",
    "            abs_node = art.find(\".//Abstract\")\n",
    "            sections, abstr = _extract_sections(abs_node)\n",
    "            journal = _text_if(art.find(\".//Journal/Title\"))\n",
    "            year = _text_if(art.find(\".//Journal/JournalIssue/PubDate/Year\"))\n",
    "            doc = title.strip()\n",
    "            if abstr: doc = f\"{doc}\\n\\n{abstr.strip()}\".strip()\n",
    "            records.append({\n",
    "                \"pmid\": pmid, \"title\": title, \"abstract\": abstr,\n",
    "                \"doc\": doc, \"sections\": sections, \"journal\": journal, \"year\": year\n",
    "            })\n",
    "        print(f\"[efetch] {i}-{i+len(sub)-1} → parsed {len(sub)} items (acc={len(records)})\")\n",
    "    return records\n",
    "\n",
    "def summarize_sections(records):\n",
    "    keys = [\"background\",\"methods\",\"results\",\"conclusion\",\"objective\"]\n",
    "    cnt = Counter()\n",
    "    for r in records:\n",
    "        s = r[\"sections\"]\n",
    "        for k in keys:\n",
    "            if k in s and s[k].strip(): cnt[k] += 1\n",
    "    n = max(1,len(records))\n",
    "    return {k:100.0*cnt[k]/n for k in keys}\n",
    "\n",
    "# -------------------------\n",
    "# 2) Embedding (Qwen) with length bucketing (no cap)\n",
    "# -------------------------\n",
    "def estimate_token_lengths(tokenizer, texts):\n",
    "    lens = []\n",
    "    for t in texts:\n",
    "        enc = tokenizer(\n",
    "            t, add_special_tokens=True, truncation=False,\n",
    "            return_attention_mask=False, return_token_type_ids=False\n",
    "        )\n",
    "        lens.append(len(enc[\"input_ids\"]))\n",
    "    return np.array(lens, dtype=np.int32)\n",
    "\n",
    "def make_passage_text(r):\n",
    "    # Qwen3 doc prefix; keep document natural\n",
    "    title = (r[\"title\"] or \"\").strip().replace(\"\\n\",\" \")\n",
    "    abstr = (r[\"abstract\"] or \"\").strip().replace(\"\\n\",\" \")\n",
    "    txt = title if not abstr else f\"{title}\\n\\n{abstr}\"\n",
    "    return \"passage: \" + txt.strip()\n",
    "\n",
    "def l2_normalize(mat, eps=1e-12):\n",
    "    n = np.linalg.norm(mat, axis=1, keepdims=True)\n",
    "    n = np.maximum(n, eps)\n",
    "    return mat / n\n",
    "\n",
    "def _bucket_edges(lengths, quantiles):\n",
    "    edges = np.quantile(lengths, quantiles)\n",
    "    return np.maximum.accumulate(edges)  # monotone non-decreasing\n",
    "\n",
    "def _bucket_index(L, edges):\n",
    "    # returns bucket idx in [0..len(edges)-1]\n",
    "    return int(np.searchsorted(edges, L, side=\"left\"))\n",
    "\n",
    "def embed_bucketed(model, tokenizer, docs, lengths, qtiles, bucket_bsz, device=DEVICE):\n",
    "    \"\"\"\n",
    "    docs: list[str] (already prefixed \"passage: ...\")\n",
    "    lengths: np.array of token counts\n",
    "    qtiles: e.g., [0.5, 0.8, 0.95, 1.0]\n",
    "    bucket_bsz: e.g., [32, 16, 8, 4]\n",
    "    \"\"\"\n",
    "    assert len(qtiles) == len(bucket_bsz)\n",
    "    edges = _bucket_edges(lengths, qtiles)\n",
    "\n",
    "    # Indices sorted by length\n",
    "    order = np.argsort(lengths)\n",
    "    # Pre-assign bucket for each item\n",
    "    bucket_of = np.array([_bucket_index(lengths[i], edges) for i in range(len(lengths))], dtype=np.int32)\n",
    "\n",
    "    out = np.zeros((len(docs), 1024), dtype=np.float32)  # Qwen3-0.6B dim=1024\n",
    "\n",
    "    print(f\"\\n=== Embedding (bucketed, NO token cap) ===\")\n",
    "    print(gpu_info())\n",
    "\n",
    "    # Warmup shortest one to compile kernels\n",
    "    try:\n",
    "        w_idx = int(order[0])\n",
    "        _ = model.encode([docs[w_idx]], batch_size=1, convert_to_numpy=True, device=device, normalize_embeddings=True)\n",
    "    except Exception as e:\n",
    "        print(f\"[warmup warn] {e}\")\n",
    "    print(f\"[warmup] 1 item | {gpu_info()}\")\n",
    "\n",
    "    i = 0\n",
    "    run_times = []\n",
    "    while i < len(order):\n",
    "        first = order[i]\n",
    "        bidx  = bucket_of[first]\n",
    "        bsz   = int(bucket_bsz[bidx])\n",
    "        # Build a \"run\" inside this bucket (to keep padding tight)\n",
    "        run_ids = []\n",
    "        j = i\n",
    "        run_cap = 4 * bsz  # up to ~4 batches per run\n",
    "        while j < len(order) and len(run_ids) < run_cap and bucket_of[order[j]] == bidx:\n",
    "            run_ids.append(order[j])\n",
    "            j += 1\n",
    "\n",
    "        texts = [docs[k] for k in run_ids]\n",
    "        t0 = tnow()\n",
    "        cur_bsz = bsz\n",
    "        while True:\n",
    "            try:\n",
    "                embs = model.encode(\n",
    "                    texts,\n",
    "                    batch_size=cur_bsz,\n",
    "                    convert_to_numpy=True,\n",
    "                    device=device,\n",
    "                    normalize_embeddings=True\n",
    "                )\n",
    "                break\n",
    "            except torch.cuda.OutOfMemoryError:\n",
    "                torch.cuda.empty_cache()\n",
    "                cur_bsz = max(1, cur_bsz // 2)\n",
    "                print(f\"[OOM] bucket={bidx} lowering batch_size to {cur_bsz} | {gpu_info()}\")\n",
    "                if cur_bsz == 1:\n",
    "                    # encode item-by-item if needed\n",
    "                    out_list = []\n",
    "                    for t_one in texts:\n",
    "                        ok = False\n",
    "                        while not ok:\n",
    "                            try:\n",
    "                                e1 = model.encode([t_one], batch_size=1, convert_to_numpy=True,\n",
    "                                                  device=device, normalize_embeddings=True)\n",
    "                                out_list.append(e1[0]); ok = True\n",
    "                            except torch.cuda.OutOfMemoryError:\n",
    "                                torch.cuda.empty_cache(); time.sleep(0.2)\n",
    "                    embs = np.vstack(out_list)\n",
    "                    break\n",
    "\n",
    "        dt = tnow() - t0\n",
    "        run_times.append(dt)\n",
    "        for pos, k in enumerate(run_ids):\n",
    "            out[k] = embs[pos]\n",
    "        rate = len(run_ids)/max(dt,1e-9)\n",
    "        span = f\"{min(run_ids)}-{max(run_ids)}\" if len(run_ids)>1 else f\"{run_ids[0]}\"\n",
    "        print(f\"[run ok] idx {span} | size={len(run_ids)} | bucket={bidx} bsz={cur_bsz} | {dt:.2f}s | {rate:.2f} items/s | {gpu_info()}\")\n",
    "\n",
    "        i = j\n",
    "\n",
    "    stats = {\n",
    "        \"count\": len(docs),\n",
    "        \"total_time_s\": float(sum(run_times)),\n",
    "        \"items_per_sec\": len(docs)/max(float(sum(run_times)),1e-9),\n",
    "        \"median_run_time_s\": float(np.median(run_times)) if run_times else None,\n",
    "        \"p95_run_time_s\": float(np.percentile(run_times,95)) if run_times else None,\n",
    "    }\n",
    "    print(\"---- Embedding stats ----\", stats)\n",
    "    return out, stats\n",
    "\n",
    "# -------------------------\n",
    "# 3) HDBSCAN (directly in 1024-D)\n",
    "# -------------------------\n",
    "def hdbscan_cluster(embeddings, min_cluster_size=HDBSCAN_MIN_CLUSTER, min_samples=HDBSCAN_MIN_SAMPLES):\n",
    "    cl = hdbscan.HDBSCAN(\n",
    "        min_cluster_size=min_cluster_size,\n",
    "        min_samples=min_samples,\n",
    "        metric='euclidean', # L2-normalized → monotone to cosine\n",
    "        cluster_selection_method='leaf',\n",
    "        cluster_selection_epsilon=0.0,  # <- was 0.03; set to 0 to avoid merges\n",
    "        core_dist_n_jobs=1,\n",
    "        prediction_data=True  # helpful for out-of-sample & probs\n",
    "    )\n",
    "    t0 = tnow()\n",
    "    labels = cl.fit_predict(embeddings)\n",
    "    dt = tnow()-t0\n",
    "    lab_counts = Counter(labels)\n",
    "    n = len(labels)\n",
    "    noise = lab_counts.get(-1,0)\n",
    "    clusters = {k:v for k,v in lab_counts.items() if k!=-1}\n",
    "    print(\"\\n=== HDBSCAN summary (1024-D, no UMAP) ===\")\n",
    "    print(f\"time: {pretty_sec(dt)} | points={n} | clusters={len(clusters)} | noise={noise/n*100:.1f}%\")\n",
    "    if clusters:\n",
    "        top = dict(sorted(clusters.items(), key=lambda kv: kv[1], reverse=True)[:10])\n",
    "        top = {int(k): int(v) for k, v in top.items()}\n",
    "        print(\"top cluster sizes:\", top)\n",
    "    return labels, getattr(cl, \"probabilities_\", None), cl\n",
    "\n",
    "def l2_normalize_matrix(M):\n",
    "    return l2_normalize(M)\n",
    "\n",
    "def cluster_centroids(embs, labels):\n",
    "    groups = defaultdict(list)\n",
    "    for i,c in enumerate(labels):\n",
    "        if c==-1: continue\n",
    "        groups[c].append(i)\n",
    "    cents = {}\n",
    "    for c, idxs in groups.items():\n",
    "        V = embs[idxs]\n",
    "        v = V.mean(axis=0, keepdims=True)\n",
    "        v = l2_normalize(v)[0]\n",
    "        cents[c] = (v, np.array(idxs, dtype=np.int32))\n",
    "    return cents\n",
    "\n",
    "def remap_labels_contiguous(labels):\n",
    "    \"\"\"Map cluster labels to 0..K-1 while keeping noise=-1, useful for some metrics.\"\"\"\n",
    "    unique = sorted(set(labels) - {-1})\n",
    "    mapping = {c:i for i,c in enumerate(unique)}\n",
    "    out = np.full_like(labels, fill_value=-1)\n",
    "    for i, c in enumerate(labels):\n",
    "        if c == -1: continue\n",
    "        out[i] = mapping[c]\n",
    "    return out\n",
    "\n",
    "def cluster_metrics_table(embs, labels, probs, clusterer, cents):\n",
    "    \"\"\"\n",
    "    Build a per-cluster DataFrame with:\n",
    "      - size\n",
    "      - selection persistence (stability) from HDBSCAN\n",
    "      - exemplar count\n",
    "      - prob mean/median/p05\n",
    "      - cosine-to-centroid mean/median/p05\n",
    "    \"\"\"\n",
    "    # Map persistence to label ids\n",
    "    # clusterer.cluster_persistence_ is aligned with unique cluster labels in ascending order:\n",
    "    #     clusterer.labels_ contains the per-point labels\n",
    "    unique_labels = sorted(set(labels) - {-1})\n",
    "    persistence = {}\n",
    "    if hasattr(clusterer, \"cluster_persistence_\"):\n",
    "        for lab, pers in zip(unique_labels, clusterer.cluster_persistence_):\n",
    "            persistence[int(lab)] = float(pers)\n",
    "\n",
    "    # exemplars_: list of arrays of exemplar points per cluster, in label order\n",
    "    exemplar_count = {}\n",
    "    if hasattr(clusterer, \"exemplars_\") and clusterer.exemplars_ is not None:\n",
    "        for lab, ex in zip(unique_labels, clusterer.exemplars_):\n",
    "            exemplar_count[int(lab)] = int(len(ex))\n",
    "    else:\n",
    "        for lab in unique_labels:\n",
    "            exemplar_count[int(lab)] = 0\n",
    "\n",
    "    rows = []\n",
    "    for c, (cent, idxs) in sorted(cents.items(), key=lambda kv: len(kv[1][1]), reverse=True):\n",
    "        idxs = idxs.astype(int)\n",
    "        V = embs[idxs]\n",
    "        cos = (V @ cent).ravel()  # cosine to centroid (embs are L2-normalized)\n",
    "        p  = (probs[idxs] if probs is not None else np.ones(len(idxs)))\n",
    "\n",
    "        def pctl(x, q): return float(np.percentile(x, q)) if len(x) else float('nan')\n",
    "        \n",
    "        if len(idxs) >= 3:\n",
    "            mp = float((V @ V.T).mean())  # mean pairwise cosine\n",
    "        else:\n",
    "            mp = float('nan')\n",
    "\n",
    "        rows.append({\n",
    "            \"cluster\":            int(c),\n",
    "            \"size\":               int(len(idxs)),\n",
    "            \"persistence\":        float(persistence.get(int(c), float('nan'))),\n",
    "            \"exemplar_count\":     int(exemplar_count.get(int(c), 0)),\n",
    "            \"prob_mean\":          float(np.mean(p)),\n",
    "            \"prob_median\":        float(np.median(p)),\n",
    "            \"prob_p05\":           pctl(p, 5),\n",
    "            \"cos_mean\":           float(np.mean(cos)),\n",
    "            \"cos_median\":         float(np.median(cos)),\n",
    "            \"cos_p05\":            pctl(cos, 5),\n",
    "            \"cos_pair_mean\":      mp,\n",
    "        })\n",
    "    return pd.DataFrame(rows)\n",
    "\n",
    "# -------------------------\n",
    "# 4) TF-IDF per cluster + k-means baseline\n",
    "# -------------------------\n",
    "def tfidf_top_terms_per_cluster(texts, labels, top_k=12, ngram=(1,2)):\n",
    "    # minimal, general-purpose settings\n",
    "    vect = TfidfVectorizer(\n",
    "        stop_words='english',     # kill the, and, of, in…\n",
    "        ngram_range=ngram,\n",
    "        min_df=2,                 # remove singletons\n",
    "        max_df=0.9,               # drop super-ubiquitous tokens\n",
    "        sublinear_tf=True,        # 1 + log(tf)\n",
    "        norm=None,                # don't row-normalize; we'll work with means\n",
    "        max_features=50000\n",
    "    )\n",
    "    X = vect.fit_transform(texts)\n",
    "    vocab = np.array(vect.get_feature_names_out())\n",
    "\n",
    "    # global baseline (so we rank terms that are *overrepresented* in the cluster)\n",
    "    X_global_mean = np.asarray(X.mean(axis=0)).ravel()\n",
    "\n",
    "    out = {}\n",
    "    for c in sorted(set(labels)):\n",
    "        if c == -1:\n",
    "            continue\n",
    "        mask = (labels == c)\n",
    "        if mask.sum() < 3:\n",
    "            out[c] = []\n",
    "            continue\n",
    "\n",
    "        m = np.asarray(X[mask].mean(axis=0)).ravel()\n",
    "        score = m - X_global_mean           # contrastive \"lift\"\n",
    "        if score.size == 0:\n",
    "            out[c] = []\n",
    "            continue\n",
    "\n",
    "        k = min(top_k, score.size)\n",
    "        top_idx = np.argpartition(-score, k-1)[:k]\n",
    "        top_idx = top_idx[np.argsort(-score[top_idx])]\n",
    "        out[c] = [(vocab[i], float(score[i])) for i in top_idx]\n",
    "    return out\n",
    "\n",
    "def tfidf_kmeans_labels(texts, k_candidates=(8,12,16,20,24,28,32), ngram=(1,2)):\n",
    "    vect = TfidfVectorizer(\n",
    "        stop_words='english',\n",
    "        ngram_range=ngram,\n",
    "        min_df=2,\n",
    "        max_df=0.9,\n",
    "        sublinear_tf=True,\n",
    "        max_features=50000\n",
    "        # leave norm='l2' default for cosine geometry\n",
    "    )\n",
    "    X = vect.fit_transform(texts)\n",
    "    Xn = normalize(X)  # safety; keeps silhouette(metric='cosine') happy\n",
    "\n",
    "    best = None\n",
    "    for k in k_candidates:\n",
    "        km = KMeans(n_clusters=k, n_init=10, random_state=SEED)\n",
    "        labs = km.fit_predict(Xn)\n",
    "        try:\n",
    "            sil = silhouette_score(Xn, labs, metric='cosine')\n",
    "        except Exception:\n",
    "            sil = np.nan\n",
    "        cand = (sil, k, labs)\n",
    "        if best is None or (np.nan_to_num(sil, nan=-1e9) > np.nan_to_num(best[0], nan=-1e9)):\n",
    "            best = cand\n",
    "    sil, k, labs = best\n",
    "    return labs, {\"k\": int(k), \"silhouette_cosine\": float(sil)}\n",
    "\n",
    "# -------------------------\n",
    "# 5) LM Studio (LLM) labeling\n",
    "# -------------------------\n",
    "def lm_list_models():\n",
    "    try:\n",
    "        r = requests.get(f\"{LM_BASE_URL}/v1/models\", timeout=LM_TIMEOUT_S)\n",
    "        r.raise_for_status()\n",
    "        return [x[\"id\"] for x in r.json().get(\"data\",[])]\n",
    "    except Exception as e:\n",
    "        print(f\"[LM list warn] {e}\")\n",
    "        return []\n",
    "\n",
    "def lm_label_cluster(llm_model, size, top_terms, central_titles, timeout=LM_TIMEOUT_S):\n",
    "    # Prefer bigrams for cleaner topical cues\n",
    "    bigram_terms = [t for t,_ in top_terms if \" \" in t]\n",
    "    terms_str = \", \".join(bigram_terms[:12])\n",
    "\n",
    "    # Build a compact bullet list of titles\n",
    "    title_lines = \"\\n\".join([f\"- {t}\" for t in central_titles])\n",
    "\n",
    "    sys_prompt = (\n",
    "        \"You are an expert biomedical literature curator.\\n\"\n",
    "        \"Given titles that are central to a cluster and its top n-grams, produce:\\n\"\n",
    "        \"1) label: ≤ 8 words, specific (avoid generic terms like 'study' or 'patients').\\n\"\n",
    "        \"2) desc: one sentence that names population, intervention/exposure, and the main outcome or comparator.\\n\"\n",
    "        \"Return a single JSON object with exactly keys: {\\\"label\\\":..., \\\"desc\\\":...}. No markdown fences.\"\n",
    "    )\n",
    "\n",
    "    user_prompt = (\n",
    "        f\"Cluster size: {size}\\n\"\n",
    "        f\"Top n-grams (bigrams): {terms_str}\\n\"\n",
    "        f\"Representative titles (most central first):\\n{title_lines}\\n\"\n",
    "        \"JSON only.\"\n",
    "    )\n",
    "\n",
    "    body = {\n",
    "        \"model\": llm_model,\n",
    "        \"messages\": [\n",
    "            {\"role\": \"system\", \"content\": sys_prompt},\n",
    "            {\"role\": \"user\", \"content\": user_prompt}\n",
    "        ],\n",
    "        \"temperature\": 0.1,       # crisper wording\n",
    "        \"max_tokens\": 520,        # allow a longer desc if needed\n",
    "        \"stream\": False\n",
    "    }\n",
    "\n",
    "    try:\n",
    "        r = requests.post(\n",
    "            f\"{LM_BASE_URL}/v1/chat/completions\",\n",
    "            headers={\"Content-Type\": \"application/json\"},\n",
    "            data=json.dumps(body),\n",
    "            timeout=timeout\n",
    "        )\n",
    "        r.raise_for_status()\n",
    "        msg = r.json()[\"choices\"][0][\"message\"][\"content\"].strip()\n",
    "        # be tolerant to accidental code fences\n",
    "        if msg.startswith(\"```\"):\n",
    "            msg = re.sub(r\"^```(?:json)?|```$\", \"\", msg, flags=re.MULTILINE).strip()\n",
    "        js = json.loads(msg)\n",
    "        return js.get(\"label\",\"(no label)\"), js.get(\"desc\",\"\")\n",
    "    except Exception as e:\n",
    "        return f\"(LLM error: {e})\", \"\"\n",
    "    \n",
    "# -------------------------\n",
    "# Plotting\n",
    "# -------------------------    \n",
    "\n",
    "def report_clusters_and_plot(embs, labels, probs, titles, pmids, SEED=42):\n",
    "    \"\"\"Print detailed cluster metrics and draw both PCA and (if available) UMAP 2D scatters.\"\"\"\n",
    "    import numpy as np\n",
    "    from collections import Counter, defaultdict\n",
    "\n",
    "    # ---- Global stats\n",
    "    n = len(labels)\n",
    "    counts = Counter(labels)\n",
    "    n_noise = counts.get(-1, 0)\n",
    "    n_clusters = len([c for c in counts if c != -1])\n",
    "    print(\"\\n=== Cluster metrics ===\")\n",
    "    print(f\"points={n} | clusters={n_clusters} | noise={100.0*n_noise/n:.1f}%\")\n",
    "\n",
    "    # ---- Per-cluster stats (size, prob quality, compactness)\n",
    "    # Build centroids for intra-cluster similarity summaries\n",
    "    groups = defaultdict(list)\n",
    "    for i, c in enumerate(labels):\n",
    "        if c != -1:\n",
    "            groups[c].append(i)\n",
    "\n",
    "    def _l2norm(X, eps=1e-12):\n",
    "        nrm = np.maximum(np.linalg.norm(X, axis=1, keepdims=True), eps)\n",
    "        return X / nrm\n",
    "\n",
    "    rows = []\n",
    "    for c, idxs in sorted(groups.items(), key=lambda kv: len(kv[1]), reverse=True):\n",
    "        V = embs[idxs]                 # unit if you kept normalize_embeddings=True\n",
    "        cent = _l2norm(V.mean(axis=0, keepdims=True))[0]\n",
    "        sims = V @ cent                # cosine to centroid\n",
    "        p = probs[idxs] if probs is not None else np.ones(len(idxs))\n",
    "        rows.append({\n",
    "            \"cluster\": int(c),\n",
    "            \"size\": len(idxs),\n",
    "            \"prob_mean\": float(np.mean(p)),\n",
    "            \"prob_med\":  float(np.median(p)),\n",
    "            \"sim_mean\":  float(np.mean(sims)),\n",
    "            \"sim_med\":   float(np.median(sims)),\n",
    "            \"sim_p10\":   float(np.percentile(sims, 10)),\n",
    "            \"sim_p90\":   float(np.percentile(sims, 90)),\n",
    "        })\n",
    "\n",
    "    if rows:\n",
    "        df_metrics = pd.DataFrame(rows).sort_values([\"size\",\"sim_mean\"], ascending=[False,False])\n",
    "        print(df_metrics.to_string(index=False))\n",
    "    else:\n",
    "        print(\"(no clusters)\")\n",
    "\n",
    "    # ---- Silhouette on core (exclude noise); cosine is correct for L2-normalized embeddings\n",
    "    core_mask = labels != -1\n",
    "    if core_mask.sum() >= 10 and len(set(labels[core_mask])) > 1:\n",
    "        try:\n",
    "            sil = silhouette_score(embs[core_mask], labels[core_mask], metric='cosine')\n",
    "            print(f\"silhouette(core, cosine): {sil:.3f}\")\n",
    "        except Exception as e:\n",
    "            print(f\"[silhouette warn] {e}\")\n",
    "    else:\n",
    "        print(\"silhouette: not enough clustered points or only one cluster.\")\n",
    "\n",
    "    # ---- DBCV (density-based validity) via HDBSCAN helper (euclidean on unit vectors ~= cosine)\n",
    "    try:\n",
    "        from hdbscan import validity\n",
    "        dbcv = validity.validity_index(embs, labels, metric='euclidean')\n",
    "        print(f\"DBCV (all points): {dbcv:.3f}\")\n",
    "    except Exception as e:\n",
    "        print(f\"[DBCV warn] {e}\")\n",
    "\n",
    "    # ---- 2D visualizations: PCA and UMAP (if available), with trustworthiness\n",
    "    def _scatter(proj, title):\n",
    "        cluster_str = np.array([str(c) for c in labels])\n",
    "        prob_plot   = probs if probs is not None else np.ones(len(labels), dtype=float)\n",
    "        if _HAS_PLOTLY:\n",
    "            dfp = pd.DataFrame({\"x\":proj[:,0], \"y\":proj[:,1], \"cluster\":cluster_str, \"prob\":prob_plot})\n",
    "            fig = px.scatter(dfp, x=\"x\", y=\"y\", color=\"cluster\", hover_data=[\"cluster\",\"prob\"],\n",
    "                             opacity=0.9, title=title)\n",
    "            fig.show()\n",
    "        else:\n",
    "            uniq = sorted(set(labels))\n",
    "            cmap = plt.cm.get_cmap('tab20', max(2, len(uniq)))\n",
    "            plt.figure(figsize=(7.2,6))\n",
    "            for i,c in enumerate(uniq):\n",
    "                mask = (labels == c)\n",
    "                if c == -1:\n",
    "                    plt.scatter(proj[mask,0], proj[mask,1], s=8, alpha=0.25, color='lightgray', label=\"noise\")\n",
    "                else:\n",
    "                    plt.scatter(proj[mask,0], proj[mask,1], s=12, alpha=0.85, color=cmap(i), label=f\"c{c}\")\n",
    "            plt.legend(markerscale=1.5, fontsize=8, ncol=2)\n",
    "            plt.title(title); plt.xlabel(\"dim 1\"); plt.ylabel(\"dim 2\"); plt.tight_layout(); plt.show()\n",
    "\n",
    "    # PCA\n",
    "    pca = PCA(n_components=2, random_state=SEED)\n",
    "    proj_pca = pca.fit_transform(embs)\n",
    "    tw_pca = trustworthiness(embs, proj_pca, n_neighbors=25, metric='euclidean')\n",
    "    print(f\"PCA trustworthiness@25: {tw_pca:.3f}\")\n",
    "    _scatter(proj_pca, f\"PCA(2D) — trustworthiness@25={tw_pca:.3f}\")\n",
    "\n",
    "    # UMAP\n",
    "    reducer = umap.UMAP(\n",
    "        n_components=2,\n",
    "        n_neighbors=25,   # local-vs-global balance\n",
    "        min_dist=0.1,     # visual compactness in 2D\n",
    "        metric='cosine',  # matches embedding geometry\n",
    "        random_state=SEED,\n",
    "        verbose=False\n",
    "    )\n",
    "    proj_umap = reducer.fit_transform(embs)\n",
    "    tw_umap = trustworthiness(embs, proj_umap, n_neighbors=25, metric='euclidean')\n",
    "    print(f\"UMAP trustworthiness@25: {tw_umap:.3f}\")\n",
    "    _scatter(proj_umap, f\"UMAP(2D, cosine) — trustworthiness@25={tw_umap:.3f}\")\n",
    "# -------------------------\n",
    "# Run\n",
    "# -------------------------\n",
    "print(\"=== Environment ===\")\n",
    "print(f\"torch={torch.__version__} | transformers={__import__('transformers').__version__} | sentence-transformers={__import__('sentence_transformers').__version__}\")\n",
    "print(gpu_info())\n",
    "\n",
    "# 1) Fetch PubMed (last ~3y)\n",
    "today  = dt.date.today()\n",
    "start  = today.replace(year=today.year - YEARS_BACK)\n",
    "mindate = start.strftime(\"%Y/%m/%d\")\n",
    "maxdate = today.strftime(\"%Y/%m/%d\")\n",
    "\n",
    "print(\"\\n=== PubMed fetch ===\")\n",
    "t0 = tnow()\n",
    "pmids = pubmed_esearch(QUERY, mindate, maxdate, RETMAX)\n",
    "print(f\"esearch: {len(pmids)} PMIDs\")\n",
    "records = pubmed_efetch_batched(pmids, chunk=EFETCH_CHUNK_SIZE, timeout=120)\n",
    "print(f\"efetch+parse: {len(records)} records | {pretty_sec(tnow()-t0)}\")\n",
    "\n",
    "# Build passage texts (title + abstract)\n",
    "docs   = [make_passage_text(r) for r in records]\n",
    "titles = [r[\"title\"] for r in records]\n",
    "pmids  = [r[\"pmid\"]  for r in records]\n",
    "\n",
    "# Section coverage\n",
    "coverage = summarize_sections(records)\n",
    "print(\"\\n=== Section coverage (detected) ===\")\n",
    "for k in [\"background\",\"methods\",\"results\",\"conclusion\",\"objective\"]:\n",
    "    print(f\"{k:>10}: {coverage.get(k,0):5.1f}%\")\n",
    "\n",
    "# 2) Load embedding model (FP16, no explicit flash_attn)\n",
    "print(\"\\n[model] Loading\", MODEL_ID, \"...\")\n",
    "try:\n",
    "    model = SentenceTransformer(\n",
    "        MODEL_ID,\n",
    "        device=DEVICE,\n",
    "        model_kwargs={\"torch_dtype\": TORCH_DTYPE},\n",
    "    )\n",
    "except Exception as e:\n",
    "    print(f\"[load warn] {e} | retry without dtype\")\n",
    "    model = SentenceTransformer(MODEL_ID, device=DEVICE)\n",
    "print(f\"[model] Loaded '{model.__class__.__name__}' on {DEVICE} | {gpu_info()}\")\n",
    "tokenizer = model.tokenizer\n",
    "\n",
    "# Estimate token lengths (no truncation)\n",
    "lens = estimate_token_lengths(tokenizer, docs)\n",
    "print(f\"\\nPrepared texts: N={len(docs)} | title+abstract (no cap)\")\n",
    "print(f\"[TOKENS] min={int(lens.min())}, p50={int(np.median(lens))}, p95={int(np.percentile(lens,95))}, max={int(lens.max())}\")\n",
    "\n",
    "# 3) Embed with length bucketing\n",
    "embs, embed_stats = embed_bucketed(model, tokenizer, docs, lens, BUCKET_QUANTILES, BUCKET_BATCH_SIZES, device=DEVICE)\n",
    "# embs already L2-normalized by SentenceTransformers when normalize_embeddings=True\n",
    "\n",
    "# (double-normalize safety; harmless)\n",
    "embs = l2_normalize_matrix(embs)\n",
    "\n",
    "# 4) HDBSCAN in 1024-D\n",
    "labels, probs, clusterer = hdbscan_cluster(embs, min_cluster_size=HDBSCAN_MIN_CLUSTER, min_samples=HDBSCAN_MIN_SAMPLES)\n",
    "\n",
    "# --- Global validity metrics ---\n",
    "mask_core = labels != -1\n",
    "labels_core = labels[mask_core]\n",
    "embs_core   = embs[mask_core]\n",
    "\n",
    "# DBCV (density-based cluster validation); higher is better; undefined if <2 clusters\n",
    "def safe_dbcv(X, labels, metric='euclidean'):\n",
    "    X64 = np.asarray(X, dtype=np.float64)\n",
    "    return HDBSCAN_DBCV(X64, labels, metric=metric)\n",
    "\n",
    "try:\n",
    "    dbcv_all  = safe_dbcv(embs, labels)  # instead of directly passing embs\n",
    "except Exception:\n",
    "    dbcv_all = float('nan')\n",
    "\n",
    "dbcv_core = safe_dbcv(embs_core, labels_core) if len(set(labels_core))>1 else float('nan')\n",
    "\n",
    "# Silhouette (cosine) on core points (needs >=2 clusters)\n",
    "try:\n",
    "    sil_core = silhouette_score(embs_core, labels_core, metric='cosine') if len(set(labels_core)) > 1 else float('nan')\n",
    "except Exception:\n",
    "    sil_core = float('nan')\n",
    "\n",
    "print(f\"DBCV (all):  {dbcv_all:.3f}\")\n",
    "print(f\"DBCV (core): {dbcv_core:.3f}\")\n",
    "print(f\"Silhouette (cosine, core): {sil_core:.3f}\")\n",
    "\n",
    "# Outlier scores overview (0..1; larger ~ more outlier-like)\n",
    "if hasattr(clusterer, \"outlier_scores_\") and clusterer.outlier_scores_ is not None:\n",
    "    os_ = clusterer.outlier_scores_\n",
    "    pcts = np.percentile(os_, [5, 25, 50, 75, 95])\n",
    "    print(f\"Outlier scores p05/25/50/75/95: {pcts.round(3)}\")\n",
    "\n",
    "# 5) Per-cluster TF-IDF top terms + representative docs (central to centroid)\n",
    "cents = cluster_centroids(embs, labels)\n",
    "tfidf_tops = tfidf_top_terms_per_cluster([r[\"doc\"] for r in records], labels, top_k=12, ngram=(1,2))\n",
    "\n",
    "metrics_df = cluster_metrics_table(embs, labels, probs, clusterer, cents)\n",
    "if not metrics_df.empty:\n",
    "    print(\"\\n=== Per-cluster metrics (sorted by size) ===\")\n",
    "    with pd.option_context('display.max_rows', None, 'display.max_columns', None):\n",
    "        print(metrics_df.sort_values('size', ascending=False).to_string(index=False))\n",
    "\n",
    "# Representative docs per cluster\n",
    "cluster_summaries = []\n",
    "for c, (cent, idxs) in sorted(cents.items(), key=lambda kv: len(kv[1][1]), reverse=True):\n",
    "    V = embs[idxs]\n",
    "    sims = V @ cent  # cosine (both L2-normed)\n",
    "    order = np.argsort(-sims)\n",
    "    core_ids = idxs[order]\n",
    "    central = [(int(core_ids[i]), float(sims[order[i]])) for i in range(min(MAX_TITLES, len(core_ids)))]\n",
    "    cluster_summaries.append((c, idxs, central))\n",
    "\n",
    "# 6) Ask LM Studio to label top clusters (by size)\n",
    "lm_models = lm_list_models()\n",
    "if LM_LLM_ID not in lm_models:\n",
    "    print(f\"\\n[LM] Warning: '{LM_LLM_ID}' not listed by LM Studio. Available: {lm_models}\")\n",
    "\n",
    "print(\"\\n=== Cluster labels via LM Studio ===\")\n",
    "labeled = {}\n",
    "for c, idxs, central in cluster_summaries[:MAX_LABEL_CLUSTERS]:\n",
    "    size = len(idxs)\n",
    "    terms = tfidf_tops.get(c, [])\n",
    "    central_titles = [ (titles[i] or \"\")[:MAX_TITLE_CHARS] for (i, _) in central[:MAX_TITLES] ]\n",
    "    label, desc = lm_label_cluster(LM_LLM_ID, size, terms, central_titles, timeout=LM_TIMEOUT_S)\n",
    "    labeled[c] = {\"label\":label, \"desc\":desc, \"size\":size}\n",
    "    print(f\"[c={c:>3} | n={size:>3}] label={label}\\n  desc: {desc}\")\n",
    "\n",
    "# 7) TF-IDF k-means baseline and ARI/AMI comparison (diagnostic)\n",
    "print(\"\\n=== TF-IDF k-means (lexical) vs HDBSCAN (semantic) ===\")\n",
    "lex_labels, km_info = tfidf_kmeans_labels([r[\"doc\"] for r in records], k_candidates=(8,12,16,20,24,28,32), ngram=(1,2))\n",
    "print(f\"k-means best k={km_info['k']} | silhouette(cosine)={km_info['silhouette_cosine']:.3f}\")\n",
    "\n",
    "mask_core = labels != -1\n",
    "if mask_core.sum() >= 2 and len(set(labels[mask_core]))>1 and len(set(lex_labels[mask_core]))>1:\n",
    "    ari_val = float(ARI(labels[mask_core], lex_labels[mask_core]))\n",
    "    ami_val = float(AMI(labels[mask_core], lex_labels[mask_core]))\n",
    "    print(f\"ARI(core): {ari_val:.3f}\")\n",
    "    print(f\"AMI(core): {ami_val:.3f}\")\n",
    "else:\n",
    "    print(\"Not enough clustered (non-noise) points for ARI/AMI.\")\n",
    "\n",
    "# 8) Human-readable cluster report (largest few)\n",
    "print(\"\\n=== Cluster report (largest first) ===\")\n",
    "for c, idxs, central in cluster_summaries[:MAX_LABEL_CLUSTERS]:\n",
    "    lbl = labeled.get(c, {})\n",
    "    tag = lbl.get(\"label\",\"\")\n",
    "    desc = lbl.get(\"desc\",\"\")\n",
    "    terms = \", \".join([t for t,_ in (tfidf_tops.get(c,[]) or [])[:10]])\n",
    "    print(f\"\\n[c={c}] n={len(idxs)} | {tag}\")\n",
    "    if desc:  print(f\"  {desc}\")\n",
    "    if terms: print(f\"  top terms: {terms}\")\n",
    "    print(\"  central titles:\")\n",
    "    for i,(idx,sim) in enumerate(central, start=1):\n",
    "        print(f\"   {i:>2}. (cos={sim:.3f}) PMID={pmids[idx]} :: {titles[idx][:160]}\")\n",
    "\n",
    "print(\"\\n=== Summary ===\")\n",
    "print(f\"Query: '{QUERY}' | window: {mindate}..{maxdate}\")\n",
    "print(f\"Fetched: {len(records)} | Embedded: {len(embs)}\")\n",
    "print(f\"HDBSCAN clusters: {len(set(labels)) - (1 if -1 in labels else 0)} | Noise%: {100.0*(labels==-1).mean():.1f}%\")\n",
    "print(f\"Embedding throughput: {embed_stats['items_per_sec']:.2f} items/s | total≈{pretty_sec(embed_stats['total_time_s'])}\")\n",
    "print(gpu_info())\n",
    "\n",
    "report_clusters_and_plot(embs, labels, probs, titles, pmids, SEED=SEED)\n",
    "\n",
    "# === Condensed tree (HDBSCAN) ===\n",
    "try:\n",
    "    ct = getattr(clusterer, \"condensed_tree_\", None)\n",
    "    if ct is None:\n",
    "        print(\"[plot warn] clusterer has no condensed_tree_ attribute.\")\n",
    "    else:\n",
    "        # Preferred path: newer hdbscan where condensed_tree_ is a CondensedTree object\n",
    "        if hasattr(ct, \"plot\"):\n",
    "            ax = ct.plot(select_clusters=True, label_clusters=True, colorbar=True)\n",
    "            plt.title(\"HDBSCAN Condensed Tree (selected clusters highlighted)\")\n",
    "            plt.show()\n",
    "        else:\n",
    "            # Fallback: very old installs where condensed_tree_ is a structured array\n",
    "            import hdbscan.plots as hdb_plots\n",
    "            arr = ct.to_numpy() if hasattr(ct, \"to_numpy\") else ct  # be defensive\n",
    "            ct_wrap = hdb_plots.CondensedTree(\n",
    "                arr,\n",
    "                cluster_selection_method=getattr(clusterer, \"cluster_selection_method\", \"eom\"),\n",
    "            )\n",
    "            ax = ct_wrap.plot(select_clusters=True, label_clusters=True, colorbar=True)\n",
    "            plt.title(\"HDBSCAN Condensed Tree (compat mode)\")\n",
    "            plt.show()\n",
    "except Exception as e:\n",
    "    print(f\"[plot warn] condensed tree plot failed even after compatibility shim: {e}\")"
   ]
  },
  {
   "cell_type": "code",
   "execution_count": 27,
   "id": "7539fd23",
   "metadata": {},
   "outputs": [
    {
     "name": "stdout",
     "output_type": "stream",
     "text": [
      "[glue] clusters=19 | pmids=445\n",
      "[glue] artifacts → ./artifacts_latest\n"
     ]
    }
   ],
   "source": [
    "# === GLUE CELL: bridge PoC → ripple orchestrator ==================================\n",
    "# Requires from your PoC: pmids, titles, records, labels, tfidf_tops, cents\n",
    "\n",
    "from collections import defaultdict\n",
    "import json, os\n",
    "\n",
    "assert \"pmids\" in globals() and \"labels\" in globals(), \"Run the PoC cell first.\"\n",
    "\n",
    "# 1) Build clusters {cluster_id -> [pmid,...]} (skip noise = -1)\n",
    "clusters = defaultdict(list)\n",
    "for i, lab in enumerate(labels):\n",
    "    if lab == -1: \n",
    "        continue\n",
    "    try:\n",
    "        clusters[int(lab)].append(int(pmids[i]))\n",
    "    except Exception:\n",
    "        # skip malformed IDs\n",
    "        continue\n",
    "clusters = {int(k): sorted(set(v)) for k, v in clusters.items()}\n",
    "\n",
    "# 2) Build by-PMID maps (title, abstract, year)\n",
    "titles_by_pmid    = {}\n",
    "abstracts_by_pmid = {}\n",
    "year_by_pmid      = {}\n",
    "\n",
    "for i, p in enumerate(pmids):\n",
    "    try:\n",
    "        pid = int(p)\n",
    "    except Exception:\n",
    "        continue\n",
    "    titles_by_pmid[pid]    = titles[i] if i < len(titles) else \"\"\n",
    "    abstracts_by_pmid[pid] = records[i].get(\"abstract\",\"\") if i < len(records) else \"\"\n",
    "    y = records[i].get(\"year\") if i < len(records) else None\n",
    "    try:\n",
    "        year_by_pmid[pid] = int(y) if y and str(y).isdigit() else None\n",
    "    except Exception:\n",
    "        year_by_pmid[pid] = None\n",
    "\n",
    "# 3) (Optional) export very light artifacts so you can reuse without re-running PoC\n",
    "art_dir = \"./artifacts_latest\"\n",
    "os.makedirs(art_dir, exist_ok=True)\n",
    "\n",
    "def _dump_json(path, obj):\n",
    "    with open(path, \"w\", encoding=\"utf-8\") as f:\n",
    "        json.dump(obj, f, ensure_ascii=False, indent=2)\n",
    "\n",
    "_dump_json(f\"{art_dir}/clusters.json\", clusters)\n",
    "_dump_json(f\"{art_dir}/titles_by_pmid.json\", titles_by_pmid)\n",
    "_dump_json(f\"{art_dir}/abstracts_by_pmid.json\", abstracts_by_pmid)\n",
    "_dump_json(f\"{art_dir}/year_by_pmid.json\", year_by_pmid)\n",
    "\n",
    "# tfidf_tops is already a plain dict; cents is numpy-heavy (we won't serialize it here)\n",
    "_dump_json(f\"{art_dir}/tfidf_tops.json\", {int(k): v for k,v in tfidf_tops.items()})\n",
    "\n",
    "print(f\"[glue] clusters={len(clusters)} | pmids={len(pmids)}\")\n",
    "print(f\"[glue] artifacts → {art_dir}\")\n"
   ]
  },
  {
   "cell_type": "code",
   "execution_count": 28,
   "id": "1ce4f7d6",
   "metadata": {},
   "outputs": [],
   "source": [
    "# === Cell 1: Setup, logging, timing, utils, iCite & PubMed helpers =============================\n",
    "\n",
    "import os, re, time, math, json, textwrap, functools, random, collections\n",
    "from collections import defaultdict, Counter\n",
    "from dataclasses import dataclass\n",
    "from typing import Dict, List, Tuple, Set, Iterable, Any, Optional\n",
    "\n",
    "import numpy as np\n",
    "import pandas as pd\n",
    "\n",
    "# Graph & plotting\n",
    "import networkx as nx\n",
    "import matplotlib.pyplot as plt\n",
    "\n",
    "# Optional: sklearn for logistic calibrator (triage)\n",
    "try:\n",
    "    from sklearn.linear_model import LogisticRegression\n",
    "    from sklearn.preprocessing import StandardScaler\n",
    "    _HAS_SK = True\n",
    "except Exception:\n",
    "    _HAS_SK = False\n",
    "\n",
    "# HTTP\n",
    "import requests\n",
    "\n",
    "# ---------------- Logging & Timing ----------------\n",
    "\n",
    "import logging, datetime as dt\n",
    "\n",
    "def setup_logging(level=logging.INFO):\n",
    "    fmt = \"[%(asctime)s] %(levelname)s %(message)s\"\n",
    "    datefmt = \"%H:%M:%S\"\n",
    "    logging.basicConfig(level=level, format=fmt, datefmt=datefmt, force=True)\n",
    "\n",
    "setup_logging(logging.INFO)\n",
    "log = logging.getLogger(\"ripples\")\n",
    "\n",
    "class Timer:\n",
    "    def __init__(self, label: str):\n",
    "        self.label = label\n",
    "        self.t0 = None\n",
    "    def __enter__(self):\n",
    "        self.t0 = time.perf_counter()\n",
    "        log.info(f\"[start] {self.label}\")\n",
    "        return self\n",
    "    def __exit__(self, exc_type, exc, tb):\n",
    "        dt_s = time.perf_counter() - self.t0\n",
    "        log.info(f\"[done ] {self.label} | {dt_s:.2f}s\")\n",
    "\n",
    "def now_str():\n",
    "    return dt.datetime.now().strftime(\"%Y-%m-%d %H:%M:%S\")\n",
    "\n",
    "# ---------------- Configuration ----------------\n",
    "\n",
    "CFG = dict(\n",
    "    # Information flow: B->A if A cites B (fixed)\n",
    "    direction=\"info_flow\",\n",
    "\n",
    "    # Ripple depth & batch\n",
    "    max_depth=1,                # you can increase to 2+ for deeper exploration\n",
    "    icite_batch=200,            # iCite allows up to ~200 PMIDs per chunk\n",
    "    sleep_between=0.0,\n",
    "\n",
    "    # Admission gates (no hard caps; relevance gating only)\n",
    "    gates=dict(\n",
    "        down=dict(supp=2, bc=0.08, tfidf=0.22),\n",
    "        up=dict(supp=2, bc=0.10, tfidf=0.22)\n",
    "    ),\n",
    "\n",
    "    # RRF parameter\n",
    "    rrf_k=60,\n",
    "\n",
    "    # LLM & triage buckets\n",
    "    use_llm=True,                       # flip off if LM Studio not running\n",
    "    lm_base=\"http://localhost:1234\",\n",
    "    lm_model=\"gemma-3n-e2b-it\",\n",
    "    buckets=dict(hi=0.90, lo=0.60),\n",
    "    llm_batch=dict(triage=8, sr=2),\n",
    "\n",
    "    # SR verdict thresholds\n",
    "    sr_rules=dict(seed_cov=0.30, sentinel_cov=0.50),\n",
    "\n",
    "    # Bibliometrics\n",
    "    bibliometrics=dict(vel_window=3, term_window=5),\n",
    "\n",
    "    # Plot\n",
    "    plot_max_nodes=800,\n",
    "\n",
    "    # PubMed ESummary hydration toggles (only if you need them)\n",
    "    hydrate_pubtypes=True,\n",
    "    hydrate_years=True,\n",
    "    entrez_email=\"your@email\",\n",
    "    entrez_api_key=os.environ.get(\"NCBI_API_KEY\", None),\n",
    ")\n",
    "\n",
    "random.seed(42)\n",
    "np.random.seed(42)\n",
    "\n",
    "# ---------------- Robust JSON utils ----------------\n",
    "\n",
    "def jdump(path: str, obj: Any):\n",
    "    os.makedirs(os.path.dirname(path), exist_ok=True)\n",
    "    with open(path, \"w\", encoding=\"utf-8\") as f:\n",
    "        json.dump(obj, f, ensure_ascii=False, indent=2)\n",
    "\n",
    "def jload(path: str, default=None):\n",
    "    try:\n",
    "        with open(path, \"r\", encoding=\"utf-8\") as f:\n",
    "            return json.load(f)\n",
    "    except Exception:\n",
    "        return default\n",
    "\n",
    "# ---------------- iCite: references/cited-by ----------------\n",
    "# Docs: https://icite.od.nih.gov/api\n",
    "# Endpoint /refs?pmids=... returns \"references\" and \"citedBy\" for PubMed IDs.\n",
    "# Notes:\n",
    "#  - All IDs are PMIDs (PubMed-only).\n",
    "#  - Some fields can be null -> guard for None.\n",
    "#  - We batch requests (<=200 IDs per call).\n",
    "#  - We log empty refs / empty cited_by counts for transparency.\n",
    "\n",
    "def icite_fetch(pmids, batch=1000, pause=0.0):\n",
    "    \"\"\"\n",
    "    Modern iCite fetch:\n",
    "      - legacy=false so the citation lists are 'citedPmids' and 'citedByPmids'\n",
    "      - If a record shows legacy-ish keys, we still parse them.\n",
    "    Returns: {pmid: {\"references\": [...], \"cited_by\": [...], \"raw\": rec}}\n",
    "    \"\"\"\n",
    "    import math, time, requests\n",
    "\n",
    "    def _to_int_list(val):\n",
    "        if val is None: return []\n",
    "        if isinstance(val, list):\n",
    "            out = []\n",
    "            for x in val:\n",
    "                try: out.append(int(x))\n",
    "                except Exception: pass\n",
    "            return out\n",
    "        if isinstance(val, (int, str)) and str(val).isdigit(): return [int(val)]\n",
    "        return []\n",
    "\n",
    "    pmids = [int(p) for p in pmids if str(p).isdigit()]\n",
    "    if not pmids:\n",
    "        log.info(\"[iCite] no input PMIDs\")\n",
    "        return {}\n",
    "\n",
    "    out = {}\n",
    "    empty_refs = empty_cby = 0\n",
    "    for i in range(0, len(pmids), batch):\n",
    "        chunk = pmids[i:i+batch]\n",
    "        params = {\n",
    "            \"pmids\": \",\".join(str(p) for p in chunk),\n",
    "            \"legacy\": \"false\"   # <- THE IMPORTANT BIT\n",
    "        }\n",
    "        url = \"https://icite.od.nih.gov/api/pubs\"\n",
    "        r = requests.get(url, params=params, timeout=90)\n",
    "        r.raise_for_status()\n",
    "        data = r.json()\n",
    "        recs = data.get(\"data\", data if isinstance(data, list) else [])\n",
    "        for rec in recs:\n",
    "            pid = rec.get(\"pmid\")\n",
    "            if pid is None or not str(pid).isdigit(): \n",
    "                continue\n",
    "            pid = int(pid)\n",
    "\n",
    "            # Prefer modern field names\n",
    "            refs = _to_int_list(rec.get(\"citedPmids\"))\n",
    "            cby  = _to_int_list(rec.get(\"citedByPmids\"))\n",
    "\n",
    "            # Fallbacks if a record still looks legacy-ish\n",
    "            if not refs:\n",
    "                refs = _to_int_list(rec.get(\"references\"))\n",
    "            if not cby:\n",
    "                # some older shapes used 'citedBy' or similar\n",
    "                cby = _to_int_list(rec.get(\"citedBy\")) or _to_int_list(rec.get(\"cited_in\")) or _to_int_list(rec.get(\"citedIn\"))\n",
    "\n",
    "            out[pid] = {\"references\": refs, \"cited_by\": cby, \"raw\": rec}\n",
    "            if not refs: empty_refs += 1\n",
    "            if not cby:  empty_cby  += 1\n",
    "\n",
    "        log.info(f\"[iCite] chunk {i//batch+1}/{math.ceil(len(pmids)/batch)} | items={len(recs)} | empty refs={empty_refs} | empty cited_by={empty_cby}\")\n",
    "        if pause: time.sleep(pause)\n",
    "\n",
    "    return out\n",
    "\n",
    "\n",
    "# ---------------- PubMed ESummary hydration ----------------\n",
    "# We only need: publication types (to split primary vs reviews) and year.\n",
    "# Minimal ESummary wrapper (stable + fast). Falls back gracefully.\n",
    "\n",
    "def entrez_esummary(pmids: List[int], email: str, api_key: Optional[str]=None, batch=200) -> Dict[int, Dict[str, Any]]:\n",
    "    out = {}\n",
    "    base = \"https://eutils.ncbi.nlm.nih.gov/entrez/eutils/esummary.fcgi\"\n",
    "    headers = {\"User-Agent\": f\"python/requests (mailto:{email})\"}\n",
    "    for i in range(0, len(pmids), batch):\n",
    "        sub = pmids[i:i+batch]\n",
    "        params = {\n",
    "            \"db\": \"pubmed\", \"id\": \",\".join(str(x) for x in sub),\n",
    "            \"retmode\": \"json\"\n",
    "        }\n",
    "        if api_key: params[\"api_key\"] = api_key\n",
    "        r = requests.get(base, params=params, headers=headers, timeout=60)\n",
    "        r.raise_for_status()\n",
    "        js = r.json()\n",
    "        res = js.get(\"result\", {})\n",
    "        for pid, rec in res.items():\n",
    "            if pid == \"uids\": continue\n",
    "            pid_i = int(pid)\n",
    "            pubtype = rec.get(\"pubtype\", []) or []\n",
    "            year = None\n",
    "            try:\n",
    "                dp = str(rec.get(\"pubdate\", \"\"))  # \"2021 Jan 05\"\n",
    "                year = int(re.findall(r\"\\d{4}\", dp)[0]) if re.findall(r\"\\d{4}\", dp) else None\n",
    "            except Exception:\n",
    "                year = None\n",
    "            out[pid_i] = {\"pubtypes\": pubtype, \"year\": year}\n",
    "    return out\n",
    "\n",
    "def classify_is_review(pubtypes: List[str], title: str) -> bool:\n",
    "    s = \" \".join(pubtypes).lower()\n",
    "    title = (title or \"\").lower()\n",
    "    if any(k in s for k in [\"systematic review\", \"meta-analysis\", \"network meta-analysis\", \"review\"]):\n",
    "        return True\n",
    "    # fallback heuristic on titles (useful for very new items)\n",
    "    if re.search(r\"\\b(systematic review|meta[-\\s]?analysis|network meta[-\\s]?analysis)\\b\", title):\n",
    "        return True\n",
    "    return False\n",
    "\n",
    "# ---------------- Simple TF-IDF cosine vs centroid (title-based) --------------\n",
    "# We’ll reuse your cluster’s centroid semantics if available; otherwise a light vectorizer.\n",
    "\n",
    "from sklearn.feature_extraction.text import TfidfVectorizer\n",
    "from sklearn.preprocessing import normalize\n",
    "\n",
    "class TinyTFIDF:\n",
    "    def __init__(self, corpus: List[str]):\n",
    "        self.v = TfidfVectorizer(stop_words=\"english\", ngram_range=(1,2), min_df=1, max_df=0.9)\n",
    "        X = self.v.fit_transform([t or \"\" for t in corpus])\n",
    "        self.X = normalize(X)\n",
    "        self.doc_index = list(range(self.X.shape[0]))\n",
    "    def encode(self, texts: List[str]):\n",
    "        Xq = self.v.transform([t or \"\" for t in texts])\n",
    "        return normalize(Xq)\n",
    "    @staticmethod\n",
    "    def cosine_row(x, y):\n",
    "        \"\"\"\n",
    "        Cosine for 1×N CSR rows (assumed L2-normalized).\n",
    "        Fast and robust across SciPy builds (no .A alias).\n",
    "        \"\"\"\n",
    "        # Most efficient & portable: elementwise multiply then sum.\n",
    "        # Works even if one vector is all-zeros.\n",
    "        return float(x.multiply(y).sum())\n",
    "        # If you prefer the matmul route, this also works:\n",
    "        # return float((x @ y.T).toarray().ravel()[0])\n",
    "\n",
    "\n",
    "# ---------------- Bibliographic coupling (Salton cosine) ----------------------\n",
    "\n",
    "def salton_cosine(A: Set[int], B: Set[int]) -> float:\n",
    "    if not A or not B: return 0.0\n",
    "    inter = len(A & B)\n",
    "    return inter / math.sqrt(len(A) * len(B))\n",
    "\n",
    "# ---------------- Reciprocal Rank Fusion --------------------------------------\n",
    "\n",
    "def rrf(ranks: Dict[str, int], k: int = 60) -> float:\n",
    "    # ranks: feature_name -> rank (1=best)\n",
    "    s = 0.0\n",
    "    for r in ranks.values():\n",
    "        if r is None: continue\n",
    "        s += 1.0 / (k + r)\n",
    "    return s\n",
    "\n",
    "# ---------------- Mini LLM client (LM Studio) ---------------------------------\n",
    "\n",
    "def lm_chat(messages: List[Dict[str,str]], model=CFG[\"lm_model\"], base=CFG[\"lm_base\"], timeout=60):\n",
    "    try:\n",
    "        r = requests.post(\n",
    "            f\"{base}/v1/chat/completions\",\n",
    "            headers={\"Content-Type\": \"application/json\"},\n",
    "            data=json.dumps({\"model\": model, \"messages\": messages, \"temperature\": 0.1, \"max_tokens\": 8000, \"stream\": False}),\n",
    "            timeout=timeout\n",
    "        )\n",
    "        r.raise_for_status()\n",
    "        txt = r.json()[\"choices\"][0][\"message\"][\"content\"].strip()\n",
    "        # tolerate accidental fences\n",
    "        if txt.startswith(\"```\"):\n",
    "            txt = re.sub(r\"^```(?:json)?|```$\", \"\", txt, flags=re.MULTILINE).strip()\n",
    "        return txt\n",
    "    except Exception as e:\n",
    "        log.warning(f\"[LLM warn] {e}\")\n",
    "        return None\n"
   ]
  },
  {
   "cell_type": "code",
   "execution_count": 29,
   "id": "b489f55a",
   "metadata": {},
   "outputs": [],
   "source": [
    "# === Cell 2: Core pipeline pieces ===============================================================\n",
    "\n",
    "# 1) Build directed info-flow graph: B->A if A cites B; and undirected mirror (for stats/plots)\n",
    "\n",
    "def build_info_flow_graph(seed_pmids: List[int],\n",
    "                          icite_map: Dict[int, Dict[str, List[int]]],\n",
    "                          max_depth: int = 1\n",
    "                          ) -> Tuple[nx.DiGraph, nx.Graph, Dict[str, List[Dict[str, int]]]]:\n",
    "    \"\"\"\n",
    "    Directed info-flow: for any seed p:\n",
    "      - for each reference r in refs(p): add edge r -> p  (info flows from reference to citer)\n",
    "      - for each citer   c in cited_by(p): add edge p -> c (info flows further downstream)\n",
    "    Returns:\n",
    "      Gd: nx.DiGraph\n",
    "      Gu: nx.Graph\n",
    "      telem: {\"depth\":[{depth, frontier, seeds_found, nodes_total, edges_total_und, refs_added, citers_added, next_frontier}]}\n",
    "    \"\"\"\n",
    "    telem: Dict[str, List[Dict[str, int]]] = {\"depth\": []}\n",
    "    Gd = nx.DiGraph()\n",
    "    visited: set[int] = set()\n",
    "    frontier: set[int] = set(int(x) for x in seed_pmids)\n",
    "\n",
    "    for s in seed_pmids:\n",
    "        Gd.add_node(int(s), seed=True)\n",
    "\n",
    "    for depth in range(1, max_depth + 1):\n",
    "        seeds_found = 0\n",
    "        refs_added = 0\n",
    "        citers_added = 0\n",
    "        next_frontier: set[int] = set()\n",
    "\n",
    "        for p in list(frontier):\n",
    "            rec = icite_map.get(int(p), {}) or {}\n",
    "            refs = [int(x) for x in rec.get(\"references\", []) if str(x).isdigit()]\n",
    "            cby  = [int(x) for x in rec.get(\"cited_by\",  []) if str(x).isdigit()]\n",
    "            if p in visited:\n",
    "                continue\n",
    "            visited.add(int(p))\n",
    "            seeds_found += 1\n",
    "\n",
    "            for r in refs:  # r -> p\n",
    "                Gd.add_edge(int(r), int(p))\n",
    "            refs_added += len(refs)\n",
    "\n",
    "            for c in cby:   # p -> c\n",
    "                Gd.add_edge(int(p), int(c))\n",
    "            citers_added += len(cby)\n",
    "\n",
    "            next_frontier.update(refs)\n",
    "            next_frontier.update(cby)\n",
    "\n",
    "        Gu = Gd.to_undirected()\n",
    "        telem[\"depth\"].append(dict(\n",
    "            depth=depth,\n",
    "            frontier=len(frontier),\n",
    "            seeds_found=seeds_found,\n",
    "            nodes_total=Gd.number_of_nodes(),\n",
    "            edges_total_und=Gu.number_of_edges(),\n",
    "            refs_added=refs_added,\n",
    "            citers_added=citers_added,\n",
    "            next_frontier=max(0, len(next_frontier - frontier))\n",
    "        ))\n",
    "        frontier = next_frontier - frontier\n",
    "\n",
    "    return Gd, Gd.to_undirected(), telem\n",
    "\n",
    "# 2) Lightweight feature pack for admission & SR proximity\n",
    "\n",
    "def compute_features(pmid: int,\n",
    "                     seeds: Set[int],\n",
    "                     refs_map: Dict[int, Set[int]],\n",
    "                     title_map: Dict[int, str],\n",
    "                     tfidf_vec: Optional[TinyTFIDF],\n",
    "                     centroid_vec) -> Dict[str, Any]:\n",
    "    \"\"\"\n",
    "    Features:\n",
    "      - supp_down: #seeds that cite pmid (seed -> pmid)\n",
    "      - supp_up:   #seeds that are cited by pmid (pmid -> seed) [if upstream]\n",
    "      - bc_to_seeds: Salton cosine between pmid.references and union of seed.references\n",
    "      - tfidf_to_centroid: cosine(title) to centroid (TinyTFIDF)\n",
    "    \"\"\"\n",
    "    refs = refs_map.get(pmid, set())\n",
    "    # support: downstream (seed -> pmid) means pmid appears in seed's 'cited_by'? We compute via edges later.\n",
    "    # Here we approximate with references overlap: supp_up = # (refs ∩ seeds)\n",
    "    supp_up = len(refs & seeds)\n",
    "\n",
    "    # For supp_down: needs seed_citers info; we approximate using rev-lookup outside this function.\n",
    "    # We'll fill supp_down in caller.\n",
    "\n",
    "    # BC: vs union of seed refs\n",
    "    seeds_ref_union = set()\n",
    "    for s in seeds:\n",
    "        seeds_ref_union |= refs_map.get(s, set())\n",
    "    bc = salton_cosine(refs, seeds_ref_union)\n",
    "\n",
    "    # TF-IDF\n",
    "    if tfidf_vec is not None and centroid_vec is not None:\n",
    "        q = tfidf_vec.encode([title_map.get(pmid, \"\")])\n",
    "        tfidf_sim = TinyTFIDF.cosine_row(q, centroid_vec)\n",
    "    else:\n",
    "        tfidf_sim = 0.0\n",
    "\n",
    "    return dict(supp_up=supp_up, bc=bc, tfidf=tfidf_sim)\n",
    "\n",
    "# 3) Cluster Card (LLM) — relaxed, handles heterogeneity; strict JSON\n",
    "\n",
    "def llm_cluster_card(cluster_id: int,\n",
    "                     bigrams: List[str],\n",
    "                     central_titles: List[str],\n",
    "                     central_abstracts: List[str],\n",
    "                     mesh_counts: List[Tuple[str,int]]) -> Optional[Dict[str, Any]]:\n",
    "    if not CFG[\"use_llm\"]:\n",
    "        return None\n",
    "    sys = (\n",
    "        \"You are an expert biomedical curator. Using the evidence provided, produce ONE JSON object with keys:\\n\"\n",
    "        \" research_question (string),\\n\"\n",
    "        \" pico: {population, intervention, comparator, outcomes} (strings or null),\\n\"\n",
    "        \" scope: {include_terms:[], exclude_terms:[], mesh_must:[]},\\n\"\n",
    "        \" screening_rules: {include:[], exclude:[]},\\n\"\n",
    "        \" sentinel_selection_rules: {prefer:[], avoid:[]},\\n\"\n",
    "        \" heterogeneity: {is_heterogeneous: bool, reasons:[], suggested_subscopes:[{name, include_terms, exclude_terms}]},\\n\"\n",
    "        \" example_in:[], example_borderline:[], example_out:[]\\n\"\n",
    "        \"No commentary. JSON only.\"\n",
    "    )\n",
    "    user = {\n",
    "        \"cluster_id\": cluster_id,\n",
    "        \"top_bigrams\": bigrams[:20],\n",
    "        \"central_titles\": central_titles[:20],\n",
    "        \"central_abstracts\": [a[:1200] for a in central_abstracts[:6]],\n",
    "        \"mesh_counts\": mesh_counts[:12]\n",
    "    }\n",
    "    txt = lm_chat([{\"role\":\"system\",\"content\":sys},{\"role\":\"user\",\"content\":json.dumps(user)}])\n",
    "    try:\n",
    "        return json.loads(txt) if txt else None\n",
    "    except Exception:\n",
    "        log.warning(\"[LLM] cluster card JSON parse failed\")\n",
    "        return None\n",
    "\n",
    "# 4) Sentinel selection (LLM). Returns a relaxed nucleus or none; JSON only.\n",
    "\n",
    "def llm_select_sentinels(card: Dict[str,Any], seed_records: List[Dict[str,Any]], k_max=25) -> Dict[str, Any]:\n",
    "    if not CFG[\"use_llm\"]:\n",
    "        return {\"sentinels\": [], \"sentinel_mode\": \"none\", \"notes\": \"LLM disabled.\"}\n",
    "    sys = (\n",
    "        \"Select up to 25 sentinel PMIDs (most homogeneous primary evidence) for the research question.\\n\"\n",
    "        \"Prefer comparative or diagnostic accuracy studies; avoid narrative reviews, editorials, letters.\\n\"\n",
    "        \"Return JSON: {'sentinels':[{'pmid':..., 'reason':'...'}], 'sentinel_mode':'nucleus|none|subscope:<name>', 'notes':'...'}\"\n",
    "    )\n",
    "    # slim seed_records\n",
    "    payload = []\n",
    "    for r in seed_records[:80]:\n",
    "        payload.append({\"pmid\": r[\"pmid\"], \"title\": r[\"title\"], \"abstract\": (r[\"abstract\"] or \"\")[:1200], \"pubtypes\": r.get(\"pubtypes\", [])})\n",
    "    txt = lm_chat([{\"role\":\"system\",\"content\":sys},\n",
    "                   {\"role\":\"user\",\"content\": json.dumps({\"card\": card, \"candidates\": payload, \"k_max\": k_max})}])\n",
    "    try:\n",
    "        js = json.loads(txt) if txt else {\"sentinels\": [], \"sentinel_mode\": \"none\", \"notes\": \"No LLM.\"}\n",
    "        return js\n",
    "    except Exception:\n",
    "        log.warning(\"[LLM] sentinel JSON parse failed\")\n",
    "        return {\"sentinels\": [], \"sentinel_mode\": \"none\", \"notes\": \"Parse failed.\"}\n",
    "\n",
    "# 5) Triage (LLM) with context buckets; returns dict pmid -> yes/no/unknown\n",
    "\n",
    "def llm_triage(card: Dict[str,Any], items: List[Dict[str,Any]]) -> Dict[int, str]:\n",
    "    if not CFG[\"use_llm\"] or not items:\n",
    "        return {int(it[\"pmid\"]): \"unknown\" for it in items}\n",
    "    sys = (\n",
    "        \"Given the Cluster Card and items, mark each as in_scope true/false/unknown.\\n\"\n",
    "        \"Return an array of objects: {pmid, in_scope} with in_scope ∈ {true,false,'unknown'}.\"\n",
    "    )\n",
    "    txt = lm_chat([{\"role\":\"system\",\"content\":sys},\n",
    "                   {\"role\":\"user\",\"content\": json.dumps({\"card\":card, \"items\":items})}])\n",
    "    try:\n",
    "        arr = json.loads(txt) if txt else []\n",
    "        out = {}\n",
    "        for obj in arr:\n",
    "            pm = int(obj.get(\"pmid\"))\n",
    "            val = obj.get(\"in_scope\")\n",
    "            if val is True: out[pm] = \"yes\"\n",
    "            elif val is False: out[pm] = \"no\"\n",
    "            else: out[pm] = \"unknown\"\n",
    "        return out\n",
    "    except Exception:\n",
    "        log.warning(\"[LLM] triage JSON parse failed\")\n",
    "        return {int(it[\"pmid\"]): \"unknown\" for it in items}\n",
    "\n",
    "# 6) Detect SRs (type + fallback regex), split primary vs reviews\n",
    "\n",
    "def detect_reviews(pmid_list: List[int],\n",
    "                   pubtypes_by_pmid: Dict[int, List[str]],\n",
    "                   titles_by_pmid: Dict[int, str]) -> Tuple[Set[int], Set[int]]:\n",
    "    reviews, primary = set(), set()\n",
    "    for p in pmid_list:\n",
    "        pt = pubtypes_by_pmid.get(p, [])\n",
    "        if classify_is_review(pt, titles_by_pmid.get(p, \"\")):\n",
    "            reviews.add(p)\n",
    "        else:\n",
    "            primary.add(p)\n",
    "    return reviews, primary\n",
    "\n",
    "# 7) SR coverage: only count coverage over PRIMARY evidence (not reviews)\n",
    "#    Coverage = share of sentinel_primary (or seeds_primary if no sentinel) that appear in SR's references.\n",
    "\n",
    "def sr_coverage(sr_pmid: int,\n",
    "                refs_map: Dict[int, Set[int]],\n",
    "                target_primary: Set[int]) -> float:\n",
    "    if not target_primary: return 0.0\n",
    "    refs = refs_map.get(sr_pmid, set())\n",
    "    hit = len(refs & target_primary)\n",
    "    return hit / max(1, len(target_primary))\n",
    "\n",
    "# 8) Network plot (sampled if big). No explicit colors/styles per your plotting rules.\n",
    "\n",
    "def plot_info_flow_subgraph(Gd: nx.DiGraph, seeds: Set[int], max_nodes=800, title=\"Info-flow graph (B→A)\"):\n",
    "    nodes = list(Gd.nodes())\n",
    "    if len(nodes) > max_nodes:\n",
    "        # sample: take seeds + their neighbors\n",
    "        keep = set(seeds)\n",
    "        for s in seeds:\n",
    "            keep.update(Gd.predecessors(s))\n",
    "            keep.update(Gd.successors(s))\n",
    "        if len(keep) > max_nodes:\n",
    "            keep = set(list(keep)[:max_nodes])\n",
    "        H = Gd.subgraph(keep).copy()\n",
    "    else:\n",
    "        H = Gd.copy()\n",
    "    pos = nx.spring_layout(H, seed=42)\n",
    "    plt.figure(figsize=(8, 6))\n",
    "    nx.draw_networkx_nodes(H, pos, node_size=20, alpha=0.8)\n",
    "    nx.draw_networkx_edges(H, pos, arrows=True, width=0.5, alpha=0.5)\n",
    "    # seed node overlay\n",
    "    nx.draw_networkx_nodes(H, pos, nodelist=list(seeds & set(H.nodes())), node_size=60, alpha=0.9)\n",
    "    plt.title(title)\n",
    "    plt.axis(\"off\")\n",
    "    plt.show()\n",
    "    \n",
    "def project_card_for_sentinels(card: dict) -> dict:\n",
    "    \"\"\"\n",
    "    Keep only the parts the LLM actually needs to judge each paper independently.\n",
    "    We DROP bulky fields like central_abstracts, examples, mesh_counts, etc.\n",
    "    \"\"\"\n",
    "    if not isinstance(card, dict):\n",
    "        return {}\n",
    "    pico = card.get(\"pico\", {}) or {}\n",
    "    scope = card.get(\"scope\", {}) or {}\n",
    "    screen = card.get(\"screening_rules\", {}) or {}\n",
    "    sent_rules = card.get(\"sentinel_selection_rules\", {}) or {}\n",
    "\n",
    "    return {\n",
    "        \"research_question\": card.get(\"research_question\") or \"\",\n",
    "        \"pico\": {\n",
    "            \"population\":   pico.get(\"population\"),\n",
    "            \"intervention\": pico.get(\"intervention\"),\n",
    "            \"comparator\":   pico.get(\"comparator\"),\n",
    "            \"outcomes\":     pico.get(\"outcomes\"),\n",
    "        },\n",
    "        \"scope\": {\n",
    "            \"include_terms\": list(scope.get(\"include_terms\", [])[:40]),\n",
    "            \"exclude_terms\": list(scope.get(\"exclude_terms\", [])[:40]),\n",
    "            \"mesh_must\":     list(scope.get(\"mesh_must\", [])[:20]),\n",
    "        },\n",
    "        \"screening_rules\": {\n",
    "            \"include\": list(screen.get(\"include\", [])[:30]),\n",
    "            \"exclude\": list(screen.get(\"exclude\", [])[:30]),\n",
    "        },\n",
    "        \"sentinel_selection_rules\": {\n",
    "            \"prefer\": list(sent_rules.get(\"prefer\", [])[:20]),\n",
    "            \"avoid\":  list(sent_rules.get(\"avoid\", [])[:20]),\n",
    "        },\n",
    "    }\n",
    "\n"
   ]
  },
  {
   "cell_type": "code",
   "execution_count": null,
   "id": "a4544955",
   "metadata": {},
   "outputs": [],
   "source": [
    "# === Cell: Budget-aware, batched sentinel LLM selector (no trimming) ===========================\n",
    "import time, json, math\n",
    "from typing import List, Dict, Any, Tuple\n",
    "\n",
    "# Fallback logger if you don't have `log` defined\n",
    "class _FallbackLog:\n",
    "    def info(self, m): print(m)\n",
    "    def warning(self, m): print(\"[WARN]\", m)\n",
    "    def error(self, m): print(\"[ERROR]\", m)\n",
    "log = log if 'log' in globals() else _FallbackLog()\n",
    "\n",
    "# Basic token estimator: good enough for budgeting (chars/4 for mixed English text)\n",
    "def _approx_tokens(s: str) -> int:\n",
    "    if not s: return 0\n",
    "    return max(1, int(len(s) / 4))\n",
    "\n",
    "def _approx_msg_tokens(system_txt: str, user_json_like: str) -> int:\n",
    "    # Rough: system + user + some overhead\n",
    "    return _approx_tokens(system_txt) + _approx_tokens(user_json_like) + 64\n",
    "\n",
    "def _http_post_chat_json(model_id: str, system_txt: str, user_payload_obj: Any,\n",
    "                         base_url: str, timeout_s: int = 60) -> Tuple[int, Any, Dict[str, Any], str, float]:\n",
    "    \"\"\"POST to LM Studio /v1/chat/completions, expect a JSON object as assistant content.\"\"\"\n",
    "    import requests\n",
    "    url = f\"{base_url}/v1/chat/completions\"\n",
    "    body = {\n",
    "        \"model\": model_id,\n",
    "        \"messages\": [\n",
    "            {\"role\": \"system\", \"content\": system_txt},\n",
    "            {\"role\": \"user\",   \"content\": json.dumps(user_payload_obj, ensure_ascii=False)}\n",
    "        ],\n",
    "        \"temperature\": 0.0,\n",
    "        \"max_tokens\": 384,          # answers are short lists; keep this tight\n",
    "        \"stream\": False,\n",
    "        \"response_format\": {\"type\": \"json_object\"}  # <- force JSON if LM Studio supports it\n",
    "    }\n",
    "    t0 = time.perf_counter()\n",
    "    r = requests.post(url, headers={\"Content-Type\":\"application/json\"},\n",
    "                      data=json.dumps(body), timeout=timeout_s)\n",
    "    dt = time.perf_counter() - t0\n",
    "    status = r.status_code\n",
    "    text = r.text\n",
    "    usage = {}\n",
    "    out_json = None\n",
    "    if status == 200:\n",
    "        try:\n",
    "            js = r.json()\n",
    "            usage = js.get(\"usage\", {}) or {}\n",
    "            content = (js.get(\"choices\",[{}])[0].get(\"message\",{}) or {}).get(\"content\",\"\").strip()\n",
    "            # tolerate accidental code fences\n",
    "            if content.startswith(\"```\"):\n",
    "                import re\n",
    "                content = re.sub(r\"^```(?:json)?|```$\", \"\", content, flags=re.MULTILINE).strip()\n",
    "            out_json = json.loads(content)\n",
    "        except Exception as e:\n",
    "            status = 599\n",
    "            text = f\"(parse error) {e}\\nRAW={text[:4000]}\"\n",
    "    else:\n",
    "        # status != 200, return raw text so caller can inspect\n",
    "        out_json = None\n",
    "    return status, out_json, usage, text, dt\n",
    "\n",
    "def _pack_batches_full_records(records: List[Dict[str,Any]],\n",
    "                               system_overhead_tokens: int,\n",
    "                               ctx_limit: int,\n",
    "                               completion_allowance: int,\n",
    "                               safety_margin: int) -> List[List[Dict[str,Any]]]:\n",
    "    \"\"\"\n",
    "    Greedily pack entries into batches such that:\n",
    "        approx(system + payload) + safety_margin + completion_allowance <= ctx_limit\n",
    "    We include FULL records (no trimming) and will shrink last batch on overflow at runtime if needed.\n",
    "    \"\"\"\n",
    "    batches = []\n",
    "    cur, cur_tokens = [], 0\n",
    "    # Pre-estimate per-record tokens (title + abstract + metadata JSON-ified)\n",
    "    per_tok = []\n",
    "    for rec in records:\n",
    "        payload = {\n",
    "            \"pmid\": rec.get(\"pmid\"),\n",
    "            \"title\": rec.get(\"title\") or \"\",\n",
    "            \"abstract\": rec.get(\"abstract\") or \"\",\n",
    "            \"pubtypes\": rec.get(\"pubtypes\", []),\n",
    "            \"year\": rec.get(\"year\"),\n",
    "            \"mesh\": rec.get(\"mesh\", [])\n",
    "        }\n",
    "        per_tok.append((_approx_tokens(json.dumps(payload, ensure_ascii=False)), payload))\n",
    "    # Heuristic: sort DESC by size so we avoid a giant last record busting many batches\n",
    "    per_tok.sort(key=lambda x: -x[0])\n",
    "\n",
    "    hard_budget = ctx_limit - completion_allowance - safety_margin - system_overhead_tokens\n",
    "    hard_budget = max(512, hard_budget)  # keep sane\n",
    "\n",
    "    for tok, payload in per_tok:\n",
    "        if cur and (cur_tokens + tok) > hard_budget:\n",
    "            batches.append(cur)\n",
    "            cur, cur_tokens = [], 0\n",
    "        cur.append(payload)\n",
    "        cur_tokens += tok\n",
    "    if cur:\n",
    "        batches.append(cur)\n",
    "    return batches\n",
    "\n",
    "def llm_select_sentinels_batched(card: Dict[str,Any],\n",
    "                                 seed_records: List[Dict[str,Any]],\n",
    "                                 *,\n",
    "                                 model_id: str,\n",
    "                                 base_url: str,\n",
    "                                 ctx_limit_tokens: int = 8096,\n",
    "                                 completion_allowance: int = 512,\n",
    "                                 safety_margin: int = 256,\n",
    "                                 timeout_s: int = 60) -> Dict[str,Any]:\n",
    "    \"\"\"\n",
    "    Batch-aware sentinel admission:\n",
    "      - NEVER trims per-entry text (title+abstract fully preserved).\n",
    "      - Packs entries into batches to respect your context limit.\n",
    "      - On overflow (HTTP 400), auto-shrinks the batch and retries.\n",
    "      - Returns: {\"sentinel_mode\": \"relaxed\", \"sentinels\": [...], \"decisions\":[...], \"telemetry\": {...}}\n",
    "    Input seed_records: [{pmid, title, abstract, pubtypes, year?, mesh?}, ...]\n",
    "    \"\"\"\n",
    "    # 1) Build the system instruction once\n",
    "    system_txt = (\n",
    "        \"You are a biomedical screening assistant. Given a cluster card and individual papers (full title + abstract), \"\n",
    "        \"decide for each paper independently whether it belongs in the SENTINEL SET for the research question implied by the cluster card. \"\n",
    "        \"Do NOT rely on co-papers; judge each entry on its own merits. \"\n",
    "        \"Return strict JSON: {\\\"decisions\\\":[{\\\"pmid\\\":int, \\\"admit\\\":true|false, \"\n",
    "        \"\\\"reason\\\":\\\"short\\\", \\\"pico\\\":{\\\"P\\\":\\\"\\\",\\\"I\\\":\\\"\\\",\\\"C\\\":\\\"\\\",\\\"O\\\":\\\"\\\"}, \"\n",
    "        \"\\\"meta\\\":{\\\"is_rct\\\":bool|null, \\\"is_sr\\\":bool|null}} ...] }\"\n",
    "    )\n",
    "\n",
    "    # 2) Card + entries become the user payload; we’ll pack entries into batches\n",
    "    #    Estimate system overhead once (card is included in every batch).\n",
    "    user_hdr = {\"card\": card or {}, \"entries\": []}\n",
    "    system_overhead_tokens = _approx_msg_tokens(system_txt, json.dumps({\"card\": user_hdr[\"card\"], \"entries\":[]}, ensure_ascii=False))\n",
    "    batches = _pack_batches_full_records(\n",
    "        records=seed_records,\n",
    "        system_overhead_tokens=system_overhead_tokens,\n",
    "        ctx_limit=ctx_limit_tokens,\n",
    "        completion_allowance=completion_allowance,\n",
    "        safety_margin=safety_margin\n",
    "    )\n",
    "\n",
    "    all_decisions = []\n",
    "    telem = {\n",
    "        \"ctx_limit\": ctx_limit_tokens,\n",
    "        \"completion_allowance\": completion_allowance,\n",
    "        \"safety_margin\": safety_margin,\n",
    "        \"system_overhead_tokens_est\": system_overhead_tokens,\n",
    "        \"batches\": []\n",
    "    }\n",
    "\n",
    "    for bi, batch in enumerate(batches, start=1):\n",
    "        # Runtime guard: if LM still 400s, we shrink the batch until it passes.\n",
    "        low, high = 1, len(batch)\n",
    "        last_ok = None\n",
    "        last_err = None\n",
    "\n",
    "        while low <= high:\n",
    "            k = (low + high) // 2\n",
    "            entries = batch[:k]\n",
    "            payload_obj = {\"card\": user_hdr[\"card\"], \"entries\": entries}\n",
    "            est_tokens = _approx_msg_tokens(system_txt, json.dumps(payload_obj, ensure_ascii=False))\n",
    "\n",
    "            status, out_js, usage, err_text, dt = _http_post_chat_json(\n",
    "                model_id=model_id, system_txt=system_txt, user_payload_obj=payload_obj,\n",
    "                base_url=base_url, timeout_s=timeout_s\n",
    "            )\n",
    "            telem[\"batches\"].append({\n",
    "                \"batch_index\": bi,\n",
    "                \"try_k\": k,\n",
    "                \"est_prompt_tokens\": est_tokens,\n",
    "                \"status\": status,\n",
    "                \"usage\": usage,\n",
    "                \"latency_s\": round(dt, 3),\n",
    "                \"note\": \"ok\" if status == 200 else (err_text[:200] if err_text else \"error\")\n",
    "            })\n",
    "\n",
    "            if status == 200 and isinstance(out_js, dict) and isinstance(out_js.get(\"decisions\"), list):\n",
    "                # keep the best (largest k) that passes\n",
    "                last_ok = (k, out_js, usage, dt)\n",
    "                low = k + 1\n",
    "            else:\n",
    "                # overflow or other error → shrink\n",
    "                last_err = (k, status, err_text)\n",
    "                high = k - 1\n",
    "\n",
    "        if last_ok is None:\n",
    "            # even k=1 failed → log and continue (shouldn't happen with our packing)\n",
    "            k_bad, status_bad, msg_bad = last_err if last_err else (None, None, None)\n",
    "            log.error(f\"[sentinel/batch {bi}] FAILED: even k=1 did not fit | status={status_bad} | msg={msg_bad}\")\n",
    "            continue\n",
    "\n",
    "        k_use, out_js, usage, dt = last_ok\n",
    "        # Merge decisions\n",
    "        all_decisions.extend(out_js.get(\"decisions\", []))\n",
    "        log.info(f\"[sentinel/batch {bi}] used k={k_use}/{len(batch)} | usage.prompt={usage.get('prompt_tokens')} | {dt:.2f}s\")\n",
    "\n",
    "    # Normalize and dedupe by pmid\n",
    "    dedup = {}\n",
    "    for d in all_decisions:\n",
    "        try:\n",
    "            pm = int(d.get(\"pmid\"))\n",
    "        except Exception:\n",
    "            continue\n",
    "        if pm not in dedup:\n",
    "            dedup[pm] = d\n",
    "\n",
    "    # Build sentinels list (admit==true)\n",
    "    sentinels = []\n",
    "    for pm, d in dedup.items():\n",
    "        if bool(d.get(\"admit\")):\n",
    "            sentinels.append({\"pmid\": pm, \"reason\": d.get(\"reason\",\"\"), \"pico\": d.get(\"pico\",{}), \"meta\": d.get(\"meta\",{})})\n",
    "\n",
    "    out = {\n",
    "        \"sentinel_mode\": \"relaxed\",\n",
    "        \"sentinels\": sentinels,\n",
    "        \"decisions\": list(dedup.values()),\n",
    "        \"telemetry\": telem\n",
    "    }\n",
    "    return out\n"
   ]
  },
  {
   "cell_type": "code",
   "execution_count": null,
   "id": "30ae3373",
   "metadata": {},
   "outputs": [
    {
     "name": "stderr",
     "output_type": "stream",
     "text": [
      "[18:01:10] INFO [setup] cluster=13 | seeds=31\n",
      "[18:01:10] INFO [start] iCite fetch (seeds only, depth=1)\n",
      "[18:01:11] INFO [iCite] chunk 1/1 | items=31 | empty refs=1 | empty cited_by=3\n",
      "[18:01:11] INFO [done ] iCite fetch (seeds only, depth=1) | 0.62s\n",
      "[18:01:11] INFO [start] LLM Cluster Card\n",
      "[18:01:27] INFO [done ] LLM Cluster Card | 16.37s\n",
      "[18:01:27] INFO [start] LLM Sentinel selection (batched, full records)\n",
      "[18:02:20] INFO [sentinel/batch 1] used k=3/31 | usage.prompt=1217 | 9.63s\n",
      "[18:02:20] INFO [done ] LLM Sentinel selection (batched, full records) | 53.31s\n",
      "[18:02:20] INFO \n",
      "=== Sentinel batching telemetry ===\n",
      " batch_index  try_k  est_prompt_tokens  status  latency_s                                                                   usage\n",
      "           1     16               2281     599     13.360 {'prompt_tokens': 2109, 'completion_tokens': 511, 'total_tokens': 2620}\n",
      "           1      8               1773     599     11.683 {'prompt_tokens': 1568, 'completion_tokens': 511, 'total_tokens': 2079}\n",
      "           1      4               1492     599     11.491 {'prompt_tokens': 1288, 'completion_tokens': 511, 'total_tokens': 1799}\n",
      "           1      2               1319     200      7.142 {'prompt_tokens': 1129, 'completion_tokens': 275, 'total_tokens': 1404}\n",
      "           1      3               1413     200      9.631 {'prompt_tokens': 1217, 'completion_tokens': 408, 'total_tokens': 1625}\n",
      "[18:02:20] INFO \n",
      "=== Sentinel decisions (top 20) ===\n",
      "    pmid admit_flag                                                                              reason                                                                                                                                                            title\n",
      "40209492          N                                 Focuses on cervical cancer, not endometrial cancer.                                                                      Identification of groin node metastasis in squamous cell vulval cancer using preoperative [\n",
      "40130299          Y                       Discusses preoperative imaging in endometrial cancer staging.          Magnetic resonance imaging and ultrasound examination in preoperative pelvic staging of early-stage cervical cancer: post-hoc analysis of SENTIX study.\n",
      "28914639          N Focuses on cervical cancer and a specific biomarker (SCCA), not endometrial cancer. Correlation Between Squamous Cell Carcinoma Antigen Level and the Clinicopathological Features of Early-Stage Cervical Squamous Cell Carcinoma and the Predictiv\n",
      "[18:02:20] INFO [sentinel] admit Y/N/? = 1/2/0\n",
      "[18:02:20] INFO [save] sentinel artifacts → ./out_cluster_13/sentinel_decisions.csv, sentinel_batches.csv\n",
      "[18:02:20] INFO [sentinels] mode=relaxed | n=1\n",
      "[18:02:20] INFO [types] seeds: primary=27 | reviews=4 | sentinels: primary=1 | reviews=0\n",
      "[18:02:20] INFO [start] Build info-flow graph (depth=1)\n",
      "[18:02:20] INFO [done ] Build info-flow graph (depth=1) | 0.02s\n",
      "[18:02:20] INFO [ripple telemetry]\n",
      "[18:02:20] INFO   d=1 | frontier=31 | nodes=1193 | und_edges=1344 | refs+citers=1021+325\n",
      "[18:02:20] INFO [start] Tiny TF-IDF fit (titles)\n",
      "[18:02:20] INFO [done ] Tiny TF-IDF fit (titles) | 0.01s\n",
      "[18:02:20] INFO [start] Compute features for candidates\n",
      "[18:02:21] INFO [done ] Compute features for candidates | 0.55s\n",
      "[18:02:21] INFO [features] candidates=1162 | head:\n",
      "    pmid  supp_up  bc  tfidf  supp_down\n",
      "34527571        0 0.0    0.0          3\n",
      "36428723        0 0.0    0.0          3\n",
      "31186375        0 0.0    0.0          2\n",
      "33793008        0 0.0    0.0          2\n",
      "35656849        0 0.0    0.0          2\n",
      "36077609        0 0.0    0.0          2\n",
      "36739613        0 0.0    0.0          2\n",
      "36746507        0 0.0    0.0          2\n",
      "[18:02:35] INFO [hydrate] filled titles for ~200 candidates\n",
      "[18:02:35] INFO [start] SR coverage (deterministic)\n",
      "[18:02:35] INFO [done ] SR coverage (deterministic) | 0.00s\n",
      "[18:02:35] INFO [SR] candidates=9 | top:\n",
      " sr_pmid year                                                                                                                                        title  coverage_primary\n",
      "10478237 None                                                                     Radiologic staging in patients with endometrial cancer: a meta-analysis.               0.0\n",
      "10924568 None Prediction of deep myometrial invasion in patients with endometrial cancer: clinical utility of contrast-enhanced MR imaging-a meta-analysis               0.0\n",
      "11870167 None                    Survival effect of maximal cytoreductive surgery for advanced ovarian carcinoma during the platinum era: a meta-analysis.               0.0\n",
      "12111919 None                                                                                                Quantifying heterogeneity in a meta-analysis.               0.0\n",
      "14529663 None                            Computed tomography and magnetic resonance imaging in staging of uterine cervical carcinoma: a systematic review.               0.0\n",
      "27569070 None                                                           The role of magnetic resonance imaging in the evaluation of endometrial carcinoma.               0.0\n",
      "32842057 None               Endometrial Cancer, the Current International Federation of Gynecology and Obstetrics Staging System, and the Role of Imaging.               0.0\n",
      "38146775 None                                                                          Preoperative Imaging Evaluation of Endometrial Cancer in FIGO 2023.               0.0\n",
      "[18:02:35] INFO [start] LLM SR Judging\n",
      "[18:02:51] INFO [done ] LLM SR Judging | 15.64s\n",
      "[18:02:51] INFO [start] Plot info-flow network\n"
     ]
    },
    {
     "data": {
      "image/png": "[encoded data removed]",
      "text/plain": [
       "<Figure size 800x600 with 1 Axes>"
      ]
     },
     "metadata": {},
     "output_type": "display_data"
    },
    {
     "name": "stderr",
     "output_type": "stream",
     "text": [
      "[18:02:53] INFO [done ] Plot info-flow network | 2.55s\n",
      "[18:02:53] INFO \n",
      "=== Cluster Catalog ===\n",
      " cluster  size year_median year_iqr  n_sr_in_seeds  n_primary_in_seeds  sentinels sentinel_mode\n",
      "      13    31        None     None              4                  27          1       relaxed\n",
      "[18:02:53] INFO \n",
      "=== SR candidates (top by coverage) ===\n",
      " sr_pmid year  coverage_primary llm_topic_match llm_cov_quality      verdict                                                                                                                                        title\n",
      "10478237 None               0.0            None            None Not reviewed                                                                     Radiologic staging in patients with endometrial cancer: a meta-analysis.\n",
      "10924568 None               0.0            None            None Not reviewed Prediction of deep myometrial invasion in patients with endometrial cancer: clinical utility of contrast-enhanced MR imaging-a meta-analysis\n",
      "11870167 None               0.0            None            None Not reviewed                    Survival effect of maximal cytoreductive surgery for advanced ovarian carcinoma during the platinum era: a meta-analysis.\n",
      "12111919 None               0.0            None            None Not reviewed                                                                                                Quantifying heterogeneity in a meta-analysis.\n",
      "14529663 None               0.0            None            None Not reviewed                            Computed tomography and magnetic resonance imaging in staging of uterine cervical carcinoma: a systematic review.\n",
      "27569070 None               0.0            None            None Not reviewed                                                           The role of magnetic resonance imaging in the evaluation of endometrial carcinoma.\n",
      "32842057 None               0.0            None            None Not reviewed               Endometrial Cancer, the Current International Federation of Gynecology and Obstetrics Staging System, and the Role of Imaging.\n",
      "38146775 None               0.0            None            None Not reviewed                                                                          Preoperative Imaging Evaluation of Endometrial Cancer in FIGO 2023.\n",
      "38452144 None               0.0            None            None Not reviewed                       Role of ultrasound in detection of lymph-node metastasis in gynecological cancer: systematic review and meta-analysis.\n",
      "[18:02:53] INFO [save] artifacts -> ./out_cluster_13\n"
     ]
    }
   ],
   "source": [
    "# === Cell 3: Orchestrator for one cluster =======================================================\n",
    "\n",
    "# This cell expects you already have the following in your notebook globals:\n",
    "#   clusters: Dict[int, List[int]]                # from your HDBSCAN output\n",
    "#   titles_by_pmid: Dict[int, str]\n",
    "#   abstracts_by_pmid: Dict[int, str]\n",
    "#   year_by_pmid: Dict[int, int]                 # if missing, we can hydrate\n",
    "#   pubtypes_by_pmid: Dict[int, List[str]]       # if missing, we can hydrate\n",
    "#   tfidf_tops: Dict[int, List[Tuple[str, float]]]\n",
    "#   cents: Dict[int, Tuple[np.ndarray, np.ndarray]]   # centroid + indices (optional)\n",
    "#\n",
    "# If you don't have iCite refs/citers yet:\n",
    "#   We'll call icite_fetch on the seed set (depth=1) by default.\n",
    "\n",
    "# --- Preamble: hydrate globals if missing (fresh kernel) ---\n",
    "from pathlib import Path\n",
    "import json\n",
    "\n",
    "ART_DIR = Path(\"./artifacts_latest\")\n",
    "\n",
    "def _load_json(name, default):\n",
    "    p = ART_DIR / name\n",
    "    try:\n",
    "        with open(p, \"r\", encoding=\"utf-8\") as f:\n",
    "            return json.load(f)\n",
    "    except Exception:\n",
    "        return default\n",
    "\n",
    "# clusters, titles/abstracts/year (created by the GLUE cell)\n",
    "if \"clusters\" not in globals():\n",
    "    clusters = {int(k): v for k,v in _load_json(\"clusters.json\", {}).items()}\n",
    "if \"titles_by_pmid\" not in globals():\n",
    "    titles_by_pmid = {int(k): v for k,v in _load_json(\"titles_by_pmid.json\", {}).items()}\n",
    "if \"abstracts_by_pmid\" not in globals():\n",
    "    abstracts_by_pmid = {int(k): v for k,v in _load_json(\"abstracts_by_pmid.json\", {}).items()}\n",
    "if \"year_by_pmid\" not in globals():\n",
    "    ytmp = _load_json(\"year_by_pmid.json\", {})\n",
    "    year_by_pmid = {int(k): (int(v) if v is not None else None) for k,v in ytmp.items()}\n",
    "if \"tfidf_tops\" not in globals():\n",
    "    tfidf_tops = {int(k): v for k,v in _load_json(\"tfidf_tops.json\", {}).items()}\n",
    "\n",
    "# ensure these dicts exist even if empty\n",
    "if \"pubtypes_by_pmid\" not in globals(): \n",
    "    pubtypes_by_pmid = {}\n",
    "\n",
    "from collections import Counter   # used later in Cell 3\n",
    "\n",
    "# -- Harden logger binding (protect against math.log or def log(...)) --\n",
    "try:\n",
    "    _has_logger = 'log' in globals() and hasattr(log, 'info') and callable(getattr(log, 'info'))\n",
    "except Exception:\n",
    "    _has_logger = False\n",
    "\n",
    "if not _has_logger:\n",
    "    import logging\n",
    "    logging.basicConfig(\n",
    "        level=logging.INFO,\n",
    "        format=\"[%(asctime)s] %(levelname)s %(message)s\",\n",
    "        datefmt=\"%H:%M:%S\",\n",
    "        force=True\n",
    "    )\n",
    "    log = logging.getLogger(\"ripples\")\n",
    "\n",
    "# ---- 0) Choose a cluster to test ----\n",
    "cluster_id = max(clusters.items(), key=lambda kv: len(kv[1]))[0]  # largest by default\n",
    "seed_pmids = sorted(set(int(x) for x in clusters[cluster_id]))\n",
    "log.info(f\"[setup] cluster={cluster_id} | seeds={len(seed_pmids)}\")\n",
    "\n",
    "# ---- 1) Hydrate iCite refs/cited-by if not present ----\n",
    "with Timer(\"iCite fetch (seeds only, depth=1)\"):\n",
    "    ic_map = icite_fetch(seed_pmids, batch=CFG[\"icite_batch\"], pause=CFG[\"sleep_between\"])\n",
    "\n",
    "# Convert to fast sets\n",
    "refs_map   = {int(p): set(m.get(\"references\") or []) for p, m in ic_map.items()}\n",
    "citers_map = {int(p): set(m.get(\"cited_by\")  or []) for p, m in ic_map.items()}\n",
    "\n",
    "# ---- 2) Hydrate ESummary (pubtypes, year) if missing ----\n",
    "need_pubtypes = 'pubtypes_by_pmid' not in globals() or any(p not in globals().get('pubtypes_by_pmid', {}) for p in seed_pmids)\n",
    "need_years    = 'year_by_pmid'    not in globals() or any(p not in globals().get('year_by_pmid', {})    for p in seed_pmids)\n",
    "\n",
    "if (CFG[\"hydrate_pubtypes\"] and need_pubtypes) or (CFG[\"hydrate_years\"] and need_years):\n",
    "    with Timer(\"PubMed ESummary hydration (seeds)\"):\n",
    "        meta = entrez_esummary(seed_pmids, email=CFG[\"entrez_email\"], api_key=CFG[\"entrez_api_key\"])\n",
    "        # graft into dictionaries (create if absent)\n",
    "        if 'pubtypes_by_pmid' not in globals(): pubtypes_by_pmid = {}\n",
    "        if 'year_by_pmid'    not in globals(): year_by_pmid = {}\n",
    "        for pid, rec in meta.items():\n",
    "            if CFG[\"hydrate_pubtypes\"]:\n",
    "                pubtypes_by_pmid[pid] = rec.get(\"pubtypes\", [])\n",
    "            if CFG[\"hydrate_years\"] and (pid not in year_by_pmid or year_by_pmid[pid] is None):\n",
    "                year_by_pmid[pid] = rec.get(\"year\")\n",
    "\n",
    "# ---- 3) Cluster Card (LLM) ----\n",
    "# prep inputs: bigrams, central titles/abstracts, mesh histogram if you have it\n",
    "bigrams = [t for (t, _) in (tfidf_tops.get(cluster_id, []) or []) if \" \" in t][:20]\n",
    "central_titles = []\n",
    "central_abstracts = []\n",
    "if 'cents' in globals():\n",
    "    cent_vec, idxs = cents.get(cluster_id, (None, np.array([], dtype=int)))\n",
    "    idxs = list(map(int, idxs)) if idxs is not None else []\n",
    "    # order by your centrality if you stored it; otherwise seed titles\n",
    "    for p in seed_pmids[:20]:\n",
    "        central_titles.append(titles_by_pmid.get(p,\"\"))\n",
    "        central_abstracts.append(abstracts_by_pmid.get(p,\"\"))\n",
    "else:\n",
    "    for p in seed_pmids[:20]:\n",
    "        central_titles.append(titles_by_pmid.get(p,\"\"))\n",
    "        central_abstracts.append(abstracts_by_pmid.get(p,\"\"))\n",
    "\n",
    "mesh_counts = []  # optional: if you have mesh_by_pmid, aggregate top terms here\n",
    "\n",
    "with Timer(\"LLM Cluster Card\"):\n",
    "    card = llm_cluster_card(cluster_id, bigrams, central_titles, central_abstracts, mesh_counts)\n",
    "\n",
    "# ---- 4) Sentinel discovery (relaxed) ----\n",
    "seed_records = [{\"pmid\": int(p),\n",
    "                 \"title\": titles_by_pmid.get(p,\"\"),\n",
    "                 \"abstract\": abstracts_by_pmid.get(p,\"\"),\n",
    "                 \"pubtypes\": pubtypes_by_pmid.get(p, [])}\n",
    "                for p in seed_pmids]\n",
    "\n",
    "with Timer(\"LLM Sentinel selection (batched, full records)\"):\n",
    "    sentinel_out = llm_select_sentinels_batched(\n",
    "        project_card_for_sentinels(card) if card else {},\n",
    "        seed_records,\n",
    "        model_id=LM_LLM_ID,           # you already define LM_LLM_ID\n",
    "        base_url=LM_BASE_URL,         # you already define LM_BASE_URL\n",
    "        ctx_limit_tokens=8096,        # current LM Studio load; change if you reload with larger context\n",
    "        completion_allowance=512,     # reserve space for the LLM’s answer\n",
    "        safety_margin=256,            # small buffer for JSON/overhead\n",
    "        timeout_s=LM_TIMEOUT_S\n",
    "    )\n",
    "\n",
    "# ---- Sentinel audit / telemetry (logs + files) ----\n",
    "try:\n",
    "    telem = sentinel_out.get(\"telemetry\", {}) or {}\n",
    "    batches = telem.get(\"batches\", []) or []\n",
    "    if batches:\n",
    "        import pandas as pd\n",
    "        tb = pd.DataFrame(batches)\n",
    "        # Normalize a few columns for readability\n",
    "        cols = [\"batch_index\",\"try_k\",\"est_prompt_tokens\",\"status\",\"latency_s\"]\n",
    "        cols += [c for c in [\"usage\"] if c in tb.columns]\n",
    "        log.info(\"\\n=== Sentinel batching telemetry ===\\n\" + tb[cols].to_string(index=False))\n",
    "    else:\n",
    "        log.info(\"[sentinel] no telemetry.batches recorded\")\n",
    "\n",
    "    # Decisions table\n",
    "    decisions = sentinel_out.get(\"decisions\", []) or []\n",
    "    if decisions:\n",
    "        df_dec = pd.DataFrame(decisions)\n",
    "        # add title column for readability\n",
    "        df_dec[\"title\"] = df_dec[\"pmid\"].map(lambda p: titles_by_pmid.get(int(p), \"\")[:160])\n",
    "        # map admit to {Y/N/?}\n",
    "        def _flag(x):\n",
    "            if x is True: return \"Y\"\n",
    "            if x is False: return \"N\"\n",
    "            return \"?\"\n",
    "        df_dec[\"admit_flag\"] = df_dec[\"admit\"].map(_flag)\n",
    "\n",
    "        log.info(\"\\n=== Sentinel decisions (top 20) ===\\n\" + \n",
    "                 df_dec[[\"pmid\",\"admit_flag\",\"reason\",\"title\"]].head(20).to_string(index=False))\n",
    "\n",
    "        # Summary counts\n",
    "        y = int((df_dec[\"admit_flag\"]==\"Y\").sum())\n",
    "        n = int((df_dec[\"admit_flag\"]==\"N\").sum())\n",
    "        u = int((df_dec[\"admit_flag\"]==\"?\").sum())\n",
    "        log.info(f\"[sentinel] admit Y/N/? = {y}/{n}/{u}\")\n",
    "\n",
    "        # Save artifacts\n",
    "        out_dir = f\"./out_cluster_{cluster_id}\"\n",
    "        os.makedirs(out_dir, exist_ok=True)\n",
    "        df_dec.to_csv(f\"{out_dir}/sentinel_decisions.csv\", index=False)\n",
    "        pd.DataFrame(batches).to_csv(f\"{out_dir}/sentinel_batches.csv\", index=False)\n",
    "        log.info(f\"[save] sentinel artifacts → {out_dir}/sentinel_decisions.csv, sentinel_batches.csv\")\n",
    "    else:\n",
    "        log.info(\"[sentinel] no decisions returned\")\n",
    "except Exception as e:\n",
    "    log.warning(f\"[sentinel audit warn] {e}\")\n",
    "\n",
    "\n",
    "sentinels = set(int(x[\"pmid\"]) for x in sentinel_out.get(\"sentinels\", []))\n",
    "sentinel_mode = sentinel_out.get(\"sentinel_mode\",\"none\")\n",
    "log.info(f\"[sentinels] mode={sentinel_mode} | n={len(sentinels)}\")\n",
    "\n",
    "# Separate primary vs reviews (within SEEDS and within SENTINEL)\n",
    "seed_reviews, seed_primary = detect_reviews(seed_pmids, pubtypes_by_pmid, titles_by_pmid)\n",
    "sentinel_reviews, sentinel_primary = detect_reviews(list(sentinels), pubtypes_by_pmid, titles_by_pmid)\n",
    "log.info(f\"[types] seeds: primary={len(seed_primary)} | reviews={len(seed_reviews)} | sentinels: primary={len(sentinel_primary)} | reviews={len(sentinel_reviews)}\")\n",
    "\n",
    "# ---- 5) Build info-flow graph (depth=CFG['max_depth']) ----\n",
    "# Depth-1 uses only seed iCite; for deeper, you’d fetch iCite for newly found nodes (omitted for brevity).\n",
    "with Timer(f\"Build info-flow graph (depth={CFG['max_depth']})\"):\n",
    "    Gd, Gu, telem = build_info_flow_graph(seed_pmids, ic_map, max_depth=CFG[\"max_depth\"])\n",
    "\n",
    "log.info(\"[ripple telemetry]\")\n",
    "for row in telem[\"depth\"]:\n",
    "    log.info(f\"  d={row['depth']} | frontier={row['frontier']} | nodes={row['nodes_total']} | und_edges={row['edges_total_und']} | refs+citers={row['refs_added']}+{row['citers_added']}\")\n",
    "\n",
    "# ---- 6) Features & admission (single pass demonstration) ----\n",
    "# Prepare TF-IDF centroid (title-based) for quick similarity\n",
    "with Timer(\"Tiny TF-IDF fit (titles)\"):\n",
    "    seed_titles = [titles_by_pmid.get(p,\"\") for p in seed_pmids]\n",
    "    tfv = TinyTFIDF(seed_titles)\n",
    "    centroid = tfv.encode([\" \".join(seed_titles)] )  # single centroid row\n",
    "\n",
    "# Prepare candidate set = neighbors of seeds (both directions)\n",
    "neighbor_nodes = set(seed_pmids)\n",
    "for s in seed_pmids:\n",
    "    neighbor_nodes.update(Gd.predecessors(s))\n",
    "    neighbor_nodes.update(Gd.successors(s))\n",
    "candidates = sorted(int(x) for x in (neighbor_nodes - set(seed_pmids)))\n",
    "\n",
    "if not candidates:\n",
    "    log.warning(\"[features] no candidate neighbors (likely because iCite returned no edges). Skipping features/SR steps.\")\n",
    "    feat_df = pd.DataFrame(columns=[\"pmid\",\"bc\",\"tfidf\",\"supp_down\"])\n",
    "    # Still produce minimal outputs and bail early (or continue with seeds-only SR policing)\n",
    "    # e.g., set sr_df = pd.DataFrame() and skip the SR section.\n",
    "\n",
    "# Pre-compute reverse support_down: # seeds that cite candidate (edges seed -> cand)\n",
    "seed_set = set(seed_pmids)\n",
    "supp_down_map = Counter()\n",
    "for s in seed_pmids:\n",
    "    for c in Gd.successors(s):    # s -> c (downstream)\n",
    "        supp_down_map[int(c)] += 1\n",
    "\n",
    "# Build refs_map for features (ensure all candidates have a set)\n",
    "for p in candidates + seed_pmids:\n",
    "    refs_map.setdefault(int(p), set())\n",
    "\n",
    "# ---- Hydrate missing candidate titles BEFORE features ----\n",
    "missing_titles = [p for p in candidates if not titles_by_pmid.get(int(p))]\n",
    "if missing_titles:\n",
    "    try:\n",
    "        # EFetch XML (fast enough for a few hundred IDs)\n",
    "        ids = \",\".join(str(x) for x in missing_titles[:200])  # do in chunks if larger\n",
    "        r = requests.get(\n",
    "            \"https://eutils.ncbi.nlm.nih.gov/entrez/eutils/efetch.fcgi\",\n",
    "            params={\"db\":\"pubmed\",\"id\":ids,\"retmode\":\"xml\"},\n",
    "            timeout=90\n",
    "        ); r.raise_for_status()\n",
    "        root = LETREE.fromstring(r.text.encode(\"utf-8\")) if LXML else LETREE.fromstring(r.text)\n",
    "        filled = 0\n",
    "        for art in root.findall(\".//PubmedArticle\"):\n",
    "            pmid = (art.findtext(\".//PMID\") or \"\").strip()\n",
    "            title = (art.findtext(\".//ArticleTitle\") or \"\").strip()\n",
    "            if pmid.isdigit() and title:\n",
    "                titles_by_pmid[int(pmid)] = title\n",
    "                filled += 1\n",
    "        log.info(f\"[hydrate] filled titles for ~{filled} candidates (pre-features)\")\n",
    "    except Exception as e:\n",
    "        log.warning(f\"[hydrate warn] candidate titles fetch failed: {e}\")\n",
    "\n",
    "# ---- OPTIONAL: fetch iCite for a subset of candidates so bc/supp_up are nonzero ----\n",
    "# Strategy: only for top-N by supp_down (cited by several seeds)\n",
    "top_cands = sorted(candidates, key=lambda p: supp_down_map.get(p,0), reverse=True)[:400]\n",
    "if top_cands:\n",
    "    try:\n",
    "        ic_map_cand = icite_fetch(top_cands, batch=CFG[\"icite_batch\"], pause=CFG[\"sleep_between\"])\n",
    "        for pid, rec in ic_map_cand.items():\n",
    "            refs_map[int(pid)]   = set(rec.get(\"references\", [])) or set()\n",
    "            citers_map[int(pid)] = set(rec.get(\"cited_by\",   [])) or set()\n",
    "        log.info(f\"[hydrate] iCite refs added for {len(ic_map_cand)} candidates (enables bc/supp_up)\")\n",
    "    except Exception as e:\n",
    "        log.warning(f\"[hydrate warn] iCite for candidates failed: {e}\")\n",
    "\n",
    "rows = []\n",
    "with Timer(\"Compute features for candidates\"):\n",
    "    for p in candidates:\n",
    "        feats = compute_features(p, seed_set, refs_map, titles_by_pmid, tfv, centroid)\n",
    "        feats[\"supp_down\"] = int(supp_down_map.get(p, 0))\n",
    "        rows.append({\"pmid\": p, **feats})\n",
    "feat_df = pd.DataFrame(rows).sort_values([\"supp_down\",\"bc\",\"tfidf\"], ascending=False)\n",
    "log.info(f\"[features] candidates={len(feat_df)} | head:\\n{feat_df.head(8).to_string(index=False)}\")\n",
    "\n",
    "# ---- Optional: hydrate missing titles for candidate PMIDs (improves TF-IDF feature) ----\n",
    "missing_titles = [p for p in candidates if not titles_by_pmid.get(int(p))]\n",
    "if missing_titles:\n",
    "    try:\n",
    "        # Use ESummary for speed (title field is 'title' in JSON result)\n",
    "        meta = entrez_esummary(missing_titles, email=CFG[\"entrez_email\"], api_key=CFG[\"entrez_api_key\"])\n",
    "        # entrez_esummary() above currently returns pubtypes+year only; quick shim to fetch titles:\n",
    "        # Fallback to EFetch (XML) for titles if needed:\n",
    "        ids = \",\".join(str(x) for x in missing_titles[:200])\n",
    "        r = requests.get(\n",
    "            \"https://eutils.ncbi.nlm.nih.gov/entrez/eutils/efetch.fcgi\",\n",
    "            params={\"db\":\"pubmed\",\"id\":ids,\"retmode\":\"xml\"},\n",
    "            timeout=90\n",
    "        )\n",
    "        r.raise_for_status()\n",
    "        root = LETREE.fromstring(r.text.encode(\"utf-8\")) if LXML else LETREE.fromstring(r.text)\n",
    "        for art in root.findall(\".//PubmedArticle\"):\n",
    "            pmid = (art.findtext(\".//PMID\") or \"\").strip()\n",
    "            title = (art.findtext(\".//ArticleTitle\") or \"\").strip()\n",
    "            if pmid.isdigit() and title:\n",
    "                titles_by_pmid[int(pmid)] = title\n",
    "        log.info(f\"[hydrate] filled titles for ~{sum(1 for p in missing_titles if titles_by_pmid.get(int(p)))} candidates\")\n",
    "    except Exception as e:\n",
    "        log.warning(f\"[hydrate warn] candidate titles fetch failed: {e}\")\n",
    "\n",
    "# ---- 7) SR policing — on candidate SRs + seed SRs (clean separation) ----\n",
    "\n",
    "# Build SR candidate pool = any SR among (seeds ∪ candidates)\n",
    "sr_pool = []\n",
    "for p in list(seed_pmids) + candidates:\n",
    "    if classify_is_review(pubtypes_by_pmid.get(p, []), titles_by_pmid.get(p,\"\")):\n",
    "        sr_pool.append(p)\n",
    "sr_pool = sorted(set(sr_pool))\n",
    "\n",
    "# Coverage target = sentinel_primary if available else seed_primary\n",
    "target_primary = sentinel_primary if sentinel_primary else seed_primary\n",
    "\n",
    "sr_rows = []\n",
    "with Timer(\"SR coverage (deterministic)\"):\n",
    "    for sr in sr_pool:\n",
    "        cov = sr_coverage(sr, refs_map, target_primary)\n",
    "        sr_rows.append({\n",
    "            \"sr_pmid\": sr,\n",
    "            \"year\": year_by_pmid.get(sr, None),\n",
    "            \"title\": titles_by_pmid.get(sr, \"\")[:140],\n",
    "            \"coverage_primary\": cov\n",
    "        })\n",
    "sr_df = pd.DataFrame(sr_rows).sort_values([\"coverage_primary\",\"year\"], ascending=[False, False])\n",
    "log.info(f\"[SR] candidates={len(sr_df)} | top:\\n{sr_df.head(8).to_string(index=False)}\")\n",
    "\n",
    "# Optional: LLM judge SRs for topical match + coverage quality (top K by deterministic coverage)\n",
    "def llm_judge_srs(card: Dict[str,Any], sr_df: pd.DataFrame, K=10) -> pd.DataFrame:\n",
    "    if sr_df is None or sr_df.empty or not CFG.get(\"use_llm\", False):\n",
    "        if sr_df is None or sr_df.empty:\n",
    "            return sr_df if isinstance(sr_df, pd.DataFrame) else pd.DataFrame()\n",
    "        sr_df[\"llm_topic_match\"] = None\n",
    "        sr_df[\"llm_cov_quality\"] = None\n",
    "        sr_df[\"llm_notes\"] = None\n",
    "        return sr_df\n",
    "\n",
    "    judged: Dict[int, Dict[str, Any]] = {}\n",
    "    to_judge = []\n",
    "    for _, r in sr_df.head(K).iterrows():\n",
    "        to_judge.append({\n",
    "            \"pmid\": int(r.sr_pmid),\n",
    "            \"title\": r.title,\n",
    "            \"abstract\": abstracts_by_pmid.get(int(r.sr_pmid), \"\")[:1600]\n",
    "        })\n",
    "\n",
    "    sys = (\"Judge topic match and coverage quality for each SR with respect to the Cluster Card.\\n\"\n",
    "           \"Return array: {pmid, is_topic_match, coverage_quality: 'none|partial|good|strong', notes}\")\n",
    "    txt = lm_chat([{\"role\":\"system\",\"content\":sys},\n",
    "                   {\"role\":\"user\",\"content\": json.dumps({\"card\": card or {}, \"srs\": to_judge})}])\n",
    "    try:\n",
    "        arr = json.loads(txt) if txt else []\n",
    "        for obj in arr:\n",
    "            try:\n",
    "                pm = int(obj.get(\"pmid\"))\n",
    "            except Exception:\n",
    "                continue\n",
    "            judged[pm] = {\n",
    "                \"is_topic_match\": bool(obj.get(\"is_topic_match\")) if isinstance(obj.get(\"is_topic_match\"), bool) else None,\n",
    "                \"coverage_quality\": str(obj.get(\"coverage_quality\")) if obj.get(\"coverage_quality\") else None,\n",
    "                \"notes\": obj.get(\"notes\")\n",
    "            }\n",
    "    except Exception:\n",
    "        pass\n",
    "\n",
    "    sr_df = sr_df.copy()\n",
    "    sr_df[\"llm_topic_match\"] = sr_df[\"sr_pmid\"].map(lambda x: judged.get(int(x), {}).get(\"is_topic_match\"))\n",
    "    sr_df[\"llm_cov_quality\"] = sr_df[\"sr_pmid\"].map(lambda x: judged.get(int(x), {}).get(\"coverage_quality\"))\n",
    "    sr_df[\"llm_notes\"]        = sr_df[\"sr_pmid\"].map(lambda x: judged.get(int(x), {}).get(\"notes\"))\n",
    "    return sr_df\n",
    "\n",
    "with Timer(\"LLM SR Judging\"):\n",
    "    sr_df = llm_judge_srs(card or {}, sr_df, K=12)\n",
    "\n",
    "# Final SR verdict (Reviewed / Partial / Not)\n",
    "def sr_verdict(row, rules=CFG[\"sr_rules\"]):\n",
    "    cov = float(row.get(\"coverage_primary\") or 0.0)\n",
    "    topic = row.get(\"llm_topic_match\")\n",
    "    qual = (row.get(\"llm_cov_quality\") or \"none\")\n",
    "    if topic is True and (qual in {\"good\",\"strong\"} or cov >= rules[\"sentinel_cov\"]):\n",
    "        return \"Reviewed\"\n",
    "    if topic is True and (qual in {\"partial\"} or cov >= rules[\"seed_cov\"]):\n",
    "        return \"Partial\"\n",
    "    return \"Not reviewed\"\n",
    "\n",
    "if not sr_df.empty:\n",
    "    sr_df[\"verdict\"] = sr_df.apply(sr_verdict, axis=1)\n",
    "\n",
    "# ---- 8) Plots: info-flow network snapshot ----\n",
    "with Timer(\"Plot info-flow network\"):\n",
    "    plot_info_flow_subgraph(Gd, set(seed_pmids), max_nodes=CFG[\"plot_max_nodes\"],\n",
    "                            title=f\"Cluster {cluster_id} — info-flow (B→A)\")\n",
    "\n",
    "# ---- 9) Human-readable outputs ----\n",
    "\n",
    "# Cluster catalog snippet\n",
    "years = [year_by_pmid.get(p) for p in seed_pmids if year_by_pmid.get(p) is not None]\n",
    "yr_med = int(np.median(years)) if years else None\n",
    "yr_iqr = (np.percentile(years,25), np.percentile(years,75)) if years else (None, None)\n",
    "catalog_row = dict(\n",
    "    cluster=cluster_id,\n",
    "    size=len(seed_pmids),\n",
    "    year_median=yr_med,\n",
    "    year_iqr=f\"{yr_iqr[0]}–{yr_iqr[1]}\" if yr_iqr[0] is not None else None,\n",
    "    n_sr_in_seeds=len(seed_reviews),\n",
    "    n_primary_in_seeds=len(seed_primary),\n",
    "    sentinels=len(sentinels),\n",
    "    sentinel_mode=sentinel_mode\n",
    ")\n",
    "catalog_df = pd.DataFrame([catalog_row])\n",
    "log.info(f\"\\n=== Cluster Catalog ===\\n{catalog_df.to_string(index=False)}\")\n",
    "\n",
    "# SR table (trim columns for readability)\n",
    "cols = [\"sr_pmid\",\"year\",\"coverage_primary\",\"llm_topic_match\",\"llm_cov_quality\",\"verdict\",\"title\"]\n",
    "if not sr_df.empty:\n",
    "    log.info(f\"\\n=== SR candidates (top by coverage) ===\\n{sr_df.sort_values(['verdict','coverage_primary','year'], ascending=[True, False, False])[cols].head(15).to_string(index=False)}\")\n",
    "else:\n",
    "    log.info(\"\\n=== SR candidates ===\\n(none)\")\n",
    "\n",
    "# Optionally dump artifacts\n",
    "out_dir = f\"./out_cluster_{cluster_id}\"\n",
    "os.makedirs(out_dir, exist_ok=True)\n",
    "jdump(f\"{out_dir}/cluster_card.json\", card or {})\n",
    "jdump(f\"{out_dir}/sentinels.json\", sentinel_out)\n",
    "sr_df.to_csv(f\"{out_dir}/sr_table.csv\", index=False)\n",
    "feat_df.head(200).to_csv(f\"{out_dir}/features_top200.csv\", index=False)\n",
    "log.info(f\"[save] artifacts -> {out_dir}\")\n"
   ]
  },
  {
   "cell_type": "code",
   "execution_count": 32,
   "id": "ab1d1727",
   "metadata": {},
   "outputs": [
    {
     "name": "stdout",
     "output_type": "stream",
     "text": [
      "[18:02:53] [diagnostics] cluster=13 | seeds=31\n",
      "[18:02:53] === iCite audit: legacy=false (preferred shape) ===\n",
      "[18:02:54] [icite] status=200 | items=31 | wall=0.59s\n",
      "[18:02:54]   sample URL: https://icite.od.nih.gov/api/pubs?pmids=27091633%2C27177278%2C27569070%2C27654258%2C27903466%2C28273727%2C28557834%2C28914639%2C29472031%2C29994911%2C30039225%2C30527303%2C31084761%2C31328454%2C322003...\n",
      "[18:02:54] [summary] seeds in iCite: 31/31\n",
      "[18:02:54] [summary] seeds with 0 refs: 1 / 31\n",
      "[18:02:54] [summary] seeds with 0 citers: 3 / 31\n",
      "[18:02:54] [dist/refs] min=0 p50=28.0 p90=46.0 max=124\n",
      "[18:02:54] [dist/citers] min=0 p50=7.0 p90=28.0 max=34\n",
      "\n",
      "Examples with ZERO references (but present in iCite):\n",
      "    pmid  n_refs  n_citers                                                                                                             title\n",
      "39477326       0         0 Accuracy of Preoperative Magnet Resonance Imaging to Predict Pathologic T-Stage in Patients With Cervical Cancer.\n",
      "\n",
      "Examples with ZERO citers (but present in iCite):\n",
      "    pmid  n_refs  n_citers                                                                                                             title\n",
      "39171058      20         0     Role of Multiparametric MRI in the Preoperative Evaluation of Endometrial Carcinoma: A Cross-Sectional Study.\n",
      "39477326       0         0 Accuracy of Preoperative Magnet Resonance Imaging to Predict Pathologic T-Stage in Patients With Cervical Cancer.\n",
      "40209492      27         0                       Identification of groin node metastasis in squamous cell vulval cancer using preoperative [\n",
      "[18:02:54] [save] -> out_icite_audit_cluster_13/icite_seed_audit.csv and icite_raw.json\n"
     ]
    },
    {
     "data": {
      "image/png": "[encoded data removed]",
      "text/plain": [
       "<Figure size 700x350 with 1 Axes>"
      ]
     },
     "metadata": {},
     "output_type": "display_data"
    },
    {
     "data": {
      "image/png": "[encoded data removed]",
      "text/plain": [
       "<Figure size 700x350 with 1 Axes>"
      ]
     },
     "metadata": {},
     "output_type": "display_data"
    }
   ],
   "source": [
    "# === Cell: iCite audit for current cluster (no ELink fallback) ==============================\n",
    "import os, time, math, json\n",
    "from pathlib import Path\n",
    "from collections import Counter\n",
    "import pandas as pd\n",
    "import numpy as np\n",
    "import requests\n",
    "\n",
    "# --- config (inherits your env) ---\n",
    "ICITE_BASE   = \"https://icite.od.nih.gov/api/pubs\"\n",
    "ICITE_BATCH  = 1000\n",
    "LEGACY_FALSE = True           # we want citedPmids / citedByPmids fields\n",
    "MAX_SHOW     = 6              # how many example pmids to print per category\n",
    "\n",
    "# --- small logger with timestamps ---\n",
    "def tnow(): return time.strftime(\"%H:%M:%S\")\n",
    "def log(msg): print(f\"[{tnow()}] {msg}\")\n",
    "\n",
    "def _to_int_list(val):\n",
    "    if not val: return []\n",
    "    if isinstance(val, list): return [int(x) for x in val if str(x).isdigit()]\n",
    "    if isinstance(val, (int,str)) and str(val).isdigit(): return [int(val)]\n",
    "    return []\n",
    "\n",
    "def icite_fetch_once(pmids, legacy_false=True, fields=None):\n",
    "    pmids = [int(p) for p in pmids if str(p).isdigit()]\n",
    "    if not pmids: return {}\n",
    "    out = {}\n",
    "    url = ICITE_BASE\n",
    "    params = {\n",
    "        \"pmids\": \",\".join(str(p) for p in pmids),\n",
    "        \"legacy\": \"false\" if legacy_false else \"true\",\n",
    "    }\n",
    "    if fields:\n",
    "        params[\"fl\"] = fields\n",
    "    t0 = time.perf_counter()\n",
    "    r = requests.get(url, params=params, timeout=90)\n",
    "    elapsed = time.perf_counter() - t0\n",
    "    try:\n",
    "        r.raise_for_status()\n",
    "    except Exception as e:\n",
    "        log(f\"[icite] HTTP error {r.status_code}: {e}\")\n",
    "        log(f\"[icite] body: {r.text[:400]}...\")\n",
    "        raise\n",
    "    js = r.json()\n",
    "    recs = js.get(\"data\", js if isinstance(js, list) else [])\n",
    "    log(f\"[icite] status={r.status_code} | items={len(recs)} | wall={elapsed:.2f}s\")\n",
    "    # show the exact URL we hit (useful for repro)\n",
    "    log(\"  sample URL: \" + r.url[:200] + (\"...\" if len(r.url) > 200 else \"\"))\n",
    "\n",
    "    for rec in recs:\n",
    "        pid = rec.get(\"pmid\")\n",
    "        if pid is None or not str(pid).isdigit(): continue\n",
    "        pid = int(pid)\n",
    "        if legacy_false:\n",
    "            refs = _to_int_list(rec.get(\"citedPmids\"))\n",
    "            cby  = _to_int_list(rec.get(\"citedByPmids\"))\n",
    "        else:\n",
    "            # legacy=true may surface 'references' but not citedByPmids reliably\n",
    "            refs = _to_int_list(rec.get(\"references\"))\n",
    "            cby  = _to_int_list(rec.get(\"citedByPmids\"))  # often empty in legacy\n",
    "        out[pid] = {\n",
    "            \"pmid\": pid,\n",
    "            \"title\": None,  # we’ll fill from titles_by_pmid if available\n",
    "            \"citedPmids\": refs,\n",
    "            \"citedByPmids\": cby,\n",
    "            \"raw\": rec\n",
    "        }\n",
    "    return out\n",
    "\n",
    "# --- pick cluster if not set ---\n",
    "if \"cluster_id\" not in globals():\n",
    "    cluster_id = max(clusters.items(), key=lambda kv: len(kv[1]))[0]\n",
    "seed_pmids = sorted(set(int(x) for x in clusters[cluster_id]))\n",
    "\n",
    "log(f\"[diagnostics] cluster={cluster_id} | seeds={len(seed_pmids)}\")\n",
    "\n",
    "# iCite fetch once (seeds)\n",
    "log(\"=== iCite audit: legacy=false (preferred shape) ===\")\n",
    "info = icite_fetch_once(seed_pmids, legacy_false=True, fields=None)\n",
    "\n",
    "# Build dataframe\n",
    "rows = []\n",
    "for p in seed_pmids:\n",
    "    rec = info.get(int(p))\n",
    "    if rec is None:\n",
    "        rows.append({\n",
    "            \"pmid\": int(p),\n",
    "            \"title\": (titles_by_pmid.get(int(p)) if 'titles_by_pmid' in globals() else None),\n",
    "            \"n_refs\": None, \"n_citers\": None, \"has_refs\": False, \"has_citers\": False,\n",
    "            \"sample_refs\": None, \"sample_citers\": None, \"status\": \"NOT_IN_ICITE\"\n",
    "        })\n",
    "        continue\n",
    "    refs = rec[\"citedPmids\"]\n",
    "    cby  = rec[\"citedByPmids\"]\n",
    "    rows.append({\n",
    "        \"pmid\": int(p),\n",
    "        \"title\": (titles_by_pmid.get(int(p)) if 'titles_by_pmid' in globals() else None),\n",
    "        \"n_refs\": len(refs),\n",
    "        \"n_citers\": len(cby),\n",
    "        \"has_refs\": bool(refs),\n",
    "        \"has_citers\": bool(cby),\n",
    "        \"sample_refs\": refs[:MAX_SHOW],\n",
    "        \"sample_citers\": cby[:MAX_SHOW],\n",
    "        \"status\": \"OK\"\n",
    "    })\n",
    "df = pd.DataFrame(rows)\n",
    "\n",
    "# Summaries\n",
    "n_total = len(df)\n",
    "n_missing = int((df[\"status\"]==\"NOT_IN_ICITE\").sum())\n",
    "n_zero_refs = int((df[\"n_refs\"]==0).sum())\n",
    "n_zero_cby  = int((df[\"n_citers\"]==0).sum())\n",
    "\n",
    "log(f\"[summary] seeds in iCite: {n_total - n_missing}/{n_total}\")\n",
    "log(f\"[summary] seeds with 0 refs: {n_zero_refs} / {n_total}\")\n",
    "log(f\"[summary] seeds with 0 citers: {n_zero_cby} / {n_total}\")\n",
    "\n",
    "# Distributions (only OK rows)\n",
    "ok = df[df[\"status\"]==\"OK\"]\n",
    "if not ok.empty:\n",
    "    for col, label in [(\"n_refs\",\"refs\"), (\"n_citers\",\"citers\")]:\n",
    "        arr = ok[col].to_numpy()\n",
    "        log(f\"[dist/{label}] min={arr.min()} p50={np.median(arr)} p90={np.percentile(arr,90)} max={arr.max()}\")\n",
    "\n",
    "# Show a few examples\n",
    "def _peek(mask, heading):\n",
    "    ex = df[mask].head(MAX_SHOW)\n",
    "    if not ex.empty:\n",
    "        print(f\"\\n{heading}\")\n",
    "        print(ex[[\"pmid\",\"n_refs\",\"n_citers\",\"title\"]].to_string(index=False))\n",
    "\n",
    "_peek((df[\"status\"]==\"NOT_IN_ICITE\"), \"Examples NOT in iCite:\")\n",
    "_peek((df[\"n_refs\"]==0), \"Examples with ZERO references (but present in iCite):\")\n",
    "_peek((df[\"n_citers\"]==0), \"Examples with ZERO citers (but present in iCite):\")\n",
    "\n",
    "# Save artifacts\n",
    "out_dir = Path(f\"./out_icite_audit_cluster_{cluster_id}\")\n",
    "out_dir.mkdir(parents=True, exist_ok=True)\n",
    "df.to_csv(out_dir / \"icite_seed_audit.csv\", index=False)\n",
    "# also save raw JSON (handy for manual inspection)\n",
    "with open(out_dir/\"icite_raw.json\", \"w\", encoding=\"utf-8\") as f:\n",
    "    json.dump({str(k): v[\"raw\"] for k,v in info.items()}, f, ensure_ascii=False, indent=2)\n",
    "\n",
    "log(f\"[save] -> {out_dir}/icite_seed_audit.csv and icite_raw.json\")\n",
    "\n",
    "# Optional: quick plot of refs/citers hist (matplotlib, no styles)\n",
    "try:\n",
    "    import matplotlib.pyplot as plt\n",
    "    if not ok.empty:\n",
    "        plt.figure(figsize=(7,3.5))\n",
    "        plt.hist(ok[\"n_refs\"], bins=20, alpha=0.8)\n",
    "        plt.title(f\"Seed refs count — cluster {cluster_id}\")\n",
    "        plt.xlabel(\"# references\"); plt.ylabel(\"papers\")\n",
    "        plt.tight_layout(); plt.show()\n",
    "\n",
    "        plt.figure(figsize=(7,3.5))\n",
    "        plt.hist(ok[\"n_citers\"], bins=20, alpha=0.8)\n",
    "        plt.title(f\"Seed citers count — cluster {cluster_id}\")\n",
    "        plt.xlabel(\"# citers\"); plt.ylabel(\"papers\")\n",
    "        plt.tight_layout(); plt.show()\n",
    "except Exception as e:\n",
    "    log(f\"[plot warn] {e}\")\n"
   ]
  },
  {
   "cell_type": "code",
   "execution_count": 33,
   "id": "0b131dc1",
   "metadata": {},
   "outputs": [
    {
     "name": "stdout",
     "output_type": "stream",
     "text": [
      "[diag] seeds available: 31\n",
      "[diag] /v1/models ok | models=['gemma-3n-e2b-it', 'text-embedding-qwen3-embedding-4b', 'text-embedding-qwen3-embedding-0.6b', 'text-embedding-nomic-embed-text-v1.5', 'gemma-3n-e4b-it', 'gemma-3-4b-it-qat', 'qwen3-4b', 'qwen3-1.7b', 'llama-3.2-3b-instruct', 'llama-3.2-1b-instruct']\n",
      "[diag] [titles-only] try k=20 | abstracts=False | approx_tokens≈1670\n",
      "[diag] [titles-only] OK 200 | 8357 ms | payload≈1695 tok | usage={'prompt_tokens': 1535, 'completion_tokens': 294, 'total_tokens': 1829}\n",
      "[diag] [titles+abstracts] try k=20 | abstracts=True | approx_tokens≈1670\n",
      "[diag] [titles+abstracts] OK 200 | 7416 ms | payload≈1695 tok | usage={'prompt_tokens': 1535, 'completion_tokens': 289, 'total_tokens': 1824}\n"
     ]
    }
   ],
   "source": [
    "# === LM Studio Sentinel Diagnostics (HTTP 400 root cause finder) ================================\n",
    "import os, json, math, time, textwrap, re\n",
    "from collections import Counter\n",
    "\n",
    "import requests\n",
    "import numpy as np\n",
    "import pandas as pd\n",
    "\n",
    "LM_BASE_URL = globals().get(\"LM_BASE_URL\", \"http://localhost:1234\")\n",
    "LM_LLM_ID   = globals().get(\"LM_LLM_ID\",   \"gemma-3n-e2b-it\")\n",
    "\n",
    "def log(msg): print(f\"[diag] {msg}\")\n",
    "\n",
    "def rough_token_est(s: str) -> int:\n",
    "    # ultra-rough heuristic (~4 chars/token English prose); keeps us model-agnostic\n",
    "    return max(1, int(len(s) / 4.0))\n",
    "\n",
    "def get_models():\n",
    "    try:\n",
    "        r = requests.get(f\"{LM_BASE_URL}/v1/models\", timeout=15)\n",
    "        txt = r.text\n",
    "        r.raise_for_status()\n",
    "        js = r.json()\n",
    "        return True, js, txt\n",
    "    except Exception as e:\n",
    "        return False, None, f\"{type(e).__name__}: {e}\"\n",
    "\n",
    "def send_chat(messages, max_tokens=512, temperature=0.1, model=LM_LLM_ID, extra=None, timeout=60):\n",
    "    body = {\n",
    "        \"model\": model,\n",
    "        \"messages\": messages,\n",
    "        \"temperature\": temperature,\n",
    "        \"max_tokens\": max_tokens,\n",
    "        \"stream\": False\n",
    "    }\n",
    "    if extra:\n",
    "        body.update(extra)\n",
    "    payload = json.dumps(body)\n",
    "    payload_chars = len(payload)\n",
    "    payload_tokens = rough_token_est(payload)\n",
    "\n",
    "    t0 = time.perf_counter()\n",
    "    try:\n",
    "        r = requests.post(f\"{LM_BASE_URL}/v1/chat/completions\",\n",
    "                          headers={\"Content-Type\": \"application/json\"},\n",
    "                          data=payload, timeout=timeout)\n",
    "        dt = time.perf_counter() - t0\n",
    "        status = r.status_code\n",
    "        txt = r.text\n",
    "        ok = (status == 200)\n",
    "        js = None\n",
    "        if ok:\n",
    "            try:\n",
    "                js = r.json()\n",
    "            except Exception:\n",
    "                pass\n",
    "        return dict(ok=ok, status=status, ms=int(dt*1000), payload_chars=payload_chars,\n",
    "                    payload_tokens=payload_tokens, text=txt, json=js)\n",
    "    except Exception as e:\n",
    "        dt = time.perf_counter() - t0\n",
    "        return dict(ok=False, status=None, ms=int(dt*1000), payload_chars=payload_chars,\n",
    "                    payload_tokens=payload_tokens, error=f\"{type(e).__name__}: {e}\")\n",
    "\n",
    "# --- Gather seed records for this cluster (titles/abstracts) ---\n",
    "# Prefer orchestrator globals; degrade if missing.\n",
    "seed_pmids = sorted(set(int(x) for x in globals().get(\"seed_pmids\", [])))\n",
    "titles_by_pmid = {int(k): v for k, v in globals().get(\"titles_by_pmid\", {}).items()}\n",
    "abstracts_by_pmid = {int(k): v for k, v in globals().get(\"abstracts_by_pmid\", {}).items()}\n",
    "if not seed_pmids and \"clusters\" in globals():\n",
    "    # fallback: largest cluster\n",
    "    cluster_id = max(globals()[\"clusters\"].items(), key=lambda kv: len(kv[1]))[0]\n",
    "    seed_pmids = sorted(int(x) for x in globals()[\"clusters\"][cluster_id])\n",
    "\n",
    "records = []\n",
    "for p in seed_pmids:\n",
    "    records.append(dict(pmid=int(p),\n",
    "                        title=(titles_by_pmid.get(int(p)) or \"\").strip(),\n",
    "                        abstract=(abstracts_by_pmid.get(int(p)) or \"\").strip()))\n",
    "records = [r for r in records if r[\"title\"]]\n",
    "\n",
    "log(f\"seeds available: {len(records)}\")\n",
    "\n",
    "# --- LM Studio /v1/models probe ---\n",
    "ok, models_js, models_txt = get_models()\n",
    "if ok:\n",
    "    # LM Studio returns a list of models; sometimes includes extra fields like root, etc.\n",
    "    ids = [x.get(\"id\") for x in models_js.get(\"data\", [])]\n",
    "    log(f\"/v1/models ok | models={ids}\")\n",
    "else:\n",
    "    log(f\"/v1/models FAILED -> {models_txt}\")\n",
    "\n",
    "# --- Build the two prompts (titles-only vs titles+abstracts) ---\n",
    "def build_sentinel_messages(k=20, use_abstracts=False):\n",
    "    # Use existing cluster card if available; otherwise keep the system prompt minimal\n",
    "    sys = \"You will select a small sentinel set of the most homogeneous, on-topic primary studies for a potential SR.\"\n",
    "    user = {}\n",
    "    if \"card\" in globals() and isinstance(globals()[\"card\"], dict):\n",
    "        user[\"cluster_card\"] = globals()[\"card\"]\n",
    "    user[\"instructions\"] = (\"From the list, pick up to 25 sentinel studies (primary evidence only) tightly aligned with \"\n",
    "                            \"the dominant research question. Return JSON: {sentinel_pmids:[...], notes:\\\"...\\\"}.\")\n",
    "    user[\"items\"] = []\n",
    "    for r in records[:k]:\n",
    "        item = {\"pmid\": r[\"pmid\"], \"title\": r[\"title\"]}\n",
    "        if use_abstracts and r[\"abstract\"]:\n",
    "            item[\"abstract\"] = r[\"abstract\"][:2000]  # hard cap per item to keep things sane\n",
    "        user[\"items\"].append(item)\n",
    "\n",
    "    messages = [\n",
    "        {\"role\":\"system\",\"content\":sys},\n",
    "        {\"role\":\"user\",\"content\":json.dumps(user, ensure_ascii=False)}\n",
    "    ]\n",
    "    return messages\n",
    "\n",
    "def run_case(tag, k, use_abstracts):\n",
    "    msgs = build_sentinel_messages(k=k, use_abstracts=use_abstracts)\n",
    "    approx = rough_token_est(json.dumps(msgs))\n",
    "    log(f\"[{tag}] try k={k} | abstracts={use_abstracts} | approx_tokens≈{approx}\")\n",
    "    res = send_chat(msgs, max_tokens=600, temperature=0.1)\n",
    "    if res[\"ok\"]:\n",
    "        usage = None\n",
    "        try:\n",
    "            usage = res[\"json\"].get(\"usage\", {})\n",
    "        except Exception:\n",
    "            pass\n",
    "        log(f\"[{tag}] OK {res['status']} | {res['ms']} ms | payload≈{res['payload_tokens']} tok | usage={usage}\")\n",
    "    else:\n",
    "        # Print first 300 chars of server error body if present\n",
    "        err_snip = res.get(\"text\", \"\")[:300] if res.get(\"text\") else res.get(\"error\", \"\")\n",
    "        log(f\"[{tag}] FAIL status={res['status']} | {res['ms']} ms | payload≈{res['payload_tokens']} tok | server says: {err_snip}\")\n",
    "    return res\n",
    "\n",
    "# 1) Titles-only, K=20\n",
    "res1 = run_case(\"titles-only\", k=min(20, len(records)), use_abstracts=False)\n",
    "\n",
    "# 2) Titles+abstracts, K=20\n",
    "res2 = run_case(\"titles+abstracts\", k=min(20, len(records)), use_abstracts=True)\n",
    "\n",
    "# 3) If any FAIL with 400, binary search the largest safe K for titles+abstracts\n",
    "def find_max_k(use_abstracts=True, hi=min(30, len(records))):\n",
    "    lo = 0; best = 0\n",
    "    while lo <= hi:\n",
    "        mid = (lo+hi)//2\n",
    "        r = run_case(f\"probe-{('abs' if use_abstracts else 'titles')}\", k=mid, use_abstracts=use_abstracts)\n",
    "        if r[\"ok\"]:\n",
    "            best = mid; lo = mid + 1\n",
    "        else:\n",
    "            # If the server sends a recognizable overflow message, say it explicitly\n",
    "            body = (r.get(\"text\") or \"\").lower()\n",
    "            if \"context\" in body and \"length\" in body or \"overflow\" in body:\n",
    "                log(\"[hint] server hints at context length overflow. Consider loading the model with a larger context in LM Studio.\")\n",
    "            hi = mid - 1\n",
    "    return best\n",
    "\n",
    "if (not res2[\"ok\"] and res2.get(\"status\") == 400):\n",
    "    max_safe = find_max_k(use_abstracts=True, hi=min(30, len(records)))\n",
    "    log(f\"[capacity] largest safe K for titles+abstracts appears ≈ {max_safe} (with your current model load)\")\n"
   ]
  },
  {
   "cell_type": "code",
   "execution_count": 34,
   "id": "0b1dac82",
   "metadata": {},
   "outputs": [
    {
     "name": "stdout",
     "output_type": "stream",
     "text": [
      "[diagnostics] cluster=13 | seeds=31\n",
      "\n",
      "=== iCite fetch: legacy_false_full ===\n",
      "[icite] batch 1/1 | n_recs=31 | status=200\n",
      "[icite] DONE | mode legacy=False fl=None | items=31 | wall=0.46s\n",
      "  sample URL: https://icite.od.nih.gov/api/pubs?pmids=27091633%2C27177278%2C27569070%2C27654258%2C27903466%2C28273727%2C28557834%2C28914639%2C29472031%2C29994911%2C30039225%2C30527303%2C31084761%2C31328454%2C32200352%2C32842057%2C33533532%2C34454623%2C34729035%2C34967506%2C35444870%2C35463308%2C38146775%2C38448945%2C38452144%2C38872479%2C39171058%2C39448083%2C39477326%2C40130299%2C40209492&legacy=false\n",
      "\n",
      "[legacy_false_full] PMIDs=31 | has_citedPmids=31 (nonempty=30) | has_citedByPmids=31 (nonempty=28)\n",
      "  sample nonempty refs: 27091633::Ultrasound in preoperative assessment of…; 27177278::Preoperative Assessment of Myometrial In…; 27569070::The role of magnetic resonance imaging i…; 27654258::Predicting Model of Lymph Node Metastasi…; 27903466::Preoperative 3-dimensional Magnetic Reso…; 28273727::The diagnostic value of multimodality MR…\n",
      "  sample nonempty citers: 27091633::Ultrasound in preoperative assessment of…; 27177278::Preoperative Assessment of Myometrial In…; 27569070::The role of magnetic resonance imaging i…; 27654258::Predicting Model of Lymph Node Metastasi…; 27903466::Preoperative 3-dimensional Magnetic Reso…; 28273727::The diagnostic value of multimodality MR…\n",
      "  sample ZERO refs: 39477326::Accuracy of Preoperative Magnet Resonanc…\n",
      "  sample ZERO citers: 39171058::Role of Multiparametric MRI in the Preop…; 39477326::Accuracy of Preoperative Magnet Resonanc…; 40209492::Identification of groin node metastasis …\n",
      "  ALT-CBY keys present in 31 records (show 3):\n",
      "    pmid alt_cby_keys         alt_cby_lens\n",
      "27091633 citedByPmids {\"citedByPmids\": 28}\n",
      "27177278 citedByPmids {\"citedByPmids\": 24}\n",
      "27569070 citedByPmids  {\"citedByPmids\": 4}\n",
      "\n",
      "=== iCite fetch: legacy_true_full ===\n",
      "[icite] batch 1/1 | n_recs=31 | status=200\n",
      "[icite] DONE | mode legacy=True fl=None | items=31 | wall=0.43s\n",
      "  sample URL: https://icite.od.nih.gov/api/pubs?pmids=27091633%2C27177278%2C27569070%2C27654258%2C27903466%2C28273727%2C28557834%2C28914639%2C29472031%2C29994911%2C30039225%2C30527303%2C31084761%2C31328454%2C32200352%2C32842057%2C33533532%2C34454623%2C34729035%2C34967506%2C35444870%2C35463308%2C38146775%2C38448945%2C38452144%2C38872479%2C39171058%2C39448083%2C39477326%2C40130299%2C40209492&legacy=true\n",
      "\n",
      "[legacy_true_full] PMIDs=31 | has_citedPmids=0 (nonempty=0) | has_citedByPmids=0 (nonempty=0)\n",
      "  sample nonempty refs: []\n",
      "  sample nonempty citers: []\n",
      "  sample ZERO refs: 27091633::Ultrasound in preoperative assessment of…; 27177278::Preoperative Assessment of Myometrial In…; 27569070::The role of magnetic resonance imaging i…; 27654258::Predicting Model of Lymph Node Metastasi…; 27903466::Preoperative 3-dimensional Magnetic Reso…; 28273727::The diagnostic value of multimodality MR…\n",
      "  sample ZERO citers: 27091633::Ultrasound in preoperative assessment of…; 27177278::Preoperative Assessment of Myometrial In…; 27569070::The role of magnetic resonance imaging i…; 27654258::Predicting Model of Lymph Node Metastasi…; 27903466::Preoperative 3-dimensional Magnetic Reso…; 28273727::The diagnostic value of multimodality MR…\n",
      "  ALT-REFS keys present in 31 records (show 3):\n",
      "    pmid alt_refs_keys      alt_refs_lens\n",
      "27091633    references {\"references\": 25}\n",
      "27177278    references {\"references\": 32}\n",
      "27569070    references {\"references\": 30}\n",
      "\n",
      "=== iCite fetch: legacy_false_fl ===\n",
      "[icite] batch 1/1 | n_recs=31 | status=200\n",
      "[icite] DONE | mode legacy=False fl='pmid,pubYear,title,citedPmids,citedByPmids' | items=31 | wall=0.31s\n",
      "  sample URL: https://icite.od.nih.gov/api/pubs?pmids=27091633%2C27177278%2C27569070%2C27654258%2C27903466%2C28273727%2C28557834%2C28914639%2C29472031%2C29994911%2C30039225%2C30527303%2C31084761%2C31328454%2C32200352%2C32842057%2C33533532%2C34454623%2C34729035%2C34967506%2C35444870%2C35463308%2C38146775%2C38448945%2C38452144%2C38872479%2C39171058%2C39448083%2C39477326%2C40130299%2C40209492&legacy=false&fl=pmid%2CpubYear%2Ctitle%2CcitedPmids%2CcitedByPmids\n",
      "\n",
      "[legacy_false_fl] PMIDs=31 | has_citedPmids=31 (nonempty=30) | has_citedByPmids=31 (nonempty=28)\n",
      "  sample nonempty refs: 27091633::Ultrasound in preoperative assessment of…; 27177278::Preoperative Assessment of Myometrial In…; 27569070::The role of magnetic resonance imaging i…; 27654258::Predicting Model of Lymph Node Metastasi…; 27903466::Preoperative 3-dimensional Magnetic Reso…; 28273727::The diagnostic value of multimodality MR…\n",
      "  sample nonempty citers: 27091633::Ultrasound in preoperative assessment of…; 27177278::Preoperative Assessment of Myometrial In…; 27569070::The role of magnetic resonance imaging i…; 27654258::Predicting Model of Lymph Node Metastasi…; 27903466::Preoperative 3-dimensional Magnetic Reso…; 28273727::The diagnostic value of multimodality MR…\n",
      "  sample ZERO refs: 39477326::Accuracy of Preoperative Magnet Resonanc…\n",
      "  sample ZERO citers: 39171058::Role of Multiparametric MRI in the Preop…; 39477326::Accuracy of Preoperative Magnet Resonanc…; 40209492::Identification of groin node metastasis …\n",
      "  ALT-CBY keys present in 31 records (show 3):\n",
      "    pmid alt_cby_keys         alt_cby_lens\n",
      "27091633 citedByPmids {\"citedByPmids\": 28}\n",
      "27177278 citedByPmids {\"citedByPmids\": 24}\n",
      "27569070 citedByPmids  {\"citedByPmids\": 4}\n",
      "\n",
      "=== Summary across modes ===\n",
      "             mode  pmids  has_citedPmids  nonempty_citedPmids  has_citedByPmids  nonempty_citedByPmids\n",
      "legacy_false_full     31              31                   30                31                     28\n",
      " legacy_true_full     31               0                    0                 0                      0\n",
      "  legacy_false_fl     31              31                   30                31                     28\n",
      "\n",
      "Saved detailed per-PMID shapes to /mnt/data/icite_diag/\n"
     ]
    }
   ],
   "source": [
    "# %% [ICITE DIAGNOSTIC CELL] — compare legacy modes / field filters and log per-PMID shapes\n",
    "import time, json, math, re\n",
    "from collections import defaultdict, Counter\n",
    "from typing import List, Dict, Any\n",
    "import requests\n",
    "import numpy as np\n",
    "import pandas as pd\n",
    "\n",
    "ICITE_BASE = \"https://icite.od.nih.gov/api/pubs\"\n",
    "TIMEOUT    = 90\n",
    "BATCH      = 1000  # iCite documented max\n",
    "\n",
    "def tnow(): \n",
    "    return time.perf_counter()\n",
    "\n",
    "def pretty_sec(s):\n",
    "    if s < 60: return f\"{s:.2f}s\"\n",
    "    m = int(s // 60)\n",
    "    return f\"{m}m{(s - 60*m):.1f}s\"\n",
    "\n",
    "def _batched(lst, n):\n",
    "    for i in range(0, len(lst), n):\n",
    "        yield lst[i:i+n]\n",
    "\n",
    "def _to_int_list(val):\n",
    "    if val is None: return []\n",
    "    if isinstance(val, list):\n",
    "        out = []\n",
    "        for x in val:\n",
    "            try:\n",
    "                out.append(int(x))\n",
    "            except Exception:\n",
    "                pass\n",
    "        return out\n",
    "    if isinstance(val, (int, str)) and str(val).isdigit():\n",
    "        return [int(val)]\n",
    "    return []\n",
    "\n",
    "def icite_call(pmids: List[int], legacy: bool, fields: str|None):\n",
    "    \"\"\"\n",
    "    Raw iCite fetch with explicit legacy + fl controls.\n",
    "    Returns a dict: {pmid: raw_record_dict}.\n",
    "    \"\"\"\n",
    "    out = {}\n",
    "    total_http = []\n",
    "    t0 = tnow()\n",
    "    for i, chunk in enumerate(_batched(pmids, BATCH), start=1):\n",
    "        params = {\"pmids\": \",\".join(str(p) for p in chunk)}\n",
    "        params[\"legacy\"] = \"false\" if not legacy else \"true\"\n",
    "        if fields:\n",
    "            params[\"fl\"] = fields\n",
    "        url = ICITE_BASE\n",
    "        r = requests.get(url, params=params, timeout=TIMEOUT)\n",
    "        total_http.append((r.status_code, r.url))\n",
    "        r.raise_for_status()\n",
    "        data = r.json()\n",
    "        recs = data.get(\"data\", data if isinstance(data, list) else [])\n",
    "        for rec in recs:\n",
    "            pid = rec.get(\"pmid\")\n",
    "            if pid is None: \n",
    "                continue\n",
    "            try:\n",
    "                pid = int(pid)\n",
    "            except Exception:\n",
    "                continue\n",
    "            out[pid] = rec\n",
    "        print(f\"[icite] batch {i}/{math.ceil(len(pmids)/BATCH)} | n_recs={len(recs)} | status={r.status_code}\")\n",
    "    dt = tnow() - t0\n",
    "    print(f\"[icite] DONE | mode legacy={legacy} fl={fields!r} | items={len(out)} | wall={pretty_sec(dt)}\")\n",
    "    # also print one sample URL for reproducibility\n",
    "    if total_http:\n",
    "        print(\"  sample URL:\", total_http[0][1])\n",
    "    return out\n",
    "\n",
    "def scan_shape(raw_map: Dict[int, Dict[str, Any]]) -> pd.DataFrame:\n",
    "    \"\"\"\n",
    "    For each pmid, detect which cited* keys exist; compute lengths for known keys.\n",
    "    We also scan any keys that match ^cited (case-insensitive) to spot surprises.\n",
    "    \"\"\"\n",
    "    rows = []\n",
    "    re_cited = re.compile(r\"^cited\", re.IGNORECASE)\n",
    "    for pid, rec in raw_map.items():\n",
    "        keys = list(rec.keys())\n",
    "        # gather any keys that start with 'cited' (e.g., citedBy, citedByPmids, cited_by, etc.)\n",
    "        cited_like = [k for k in keys if re_cited.match(k)]\n",
    "        # try to parse the two most common modern keys\n",
    "        refs = _to_int_list(rec.get(\"citedPmids\"))\n",
    "        cby  = _to_int_list(rec.get(\"citedByPmids\"))\n",
    "        # also check some frequent legacy-ish alternatives\n",
    "        alt_refs_candidates  = [k for k in keys if k.lower() in {\"references\", \"citedpmid\", \"citations\"}]\n",
    "        alt_cby_candidates   = [k for k in keys if k.lower() in {\"citedbypmids\", \"citedby\", \"cited_in\", \"citedin\"}]\n",
    "        alt_refs_vals = {k: len(_to_int_list(rec.get(k))) for k in alt_refs_candidates}\n",
    "        alt_cby_vals  = {k: len(_to_int_list(rec.get(k))) for k in alt_cby_candidates}\n",
    "        rows.append({\n",
    "            \"pmid\": int(pid),\n",
    "            \"has_citedPmids\": \"citedPmids\" in rec,\n",
    "            \"len_citedPmids\": len(refs),\n",
    "            \"has_citedByPmids\": \"citedByPmids\" in rec,\n",
    "            \"len_citedByPmids\": len(cby),\n",
    "            \"cited_like_keys\": \";\".join(cited_like) if cited_like else \"\",\n",
    "            \"alt_refs_keys\": \";\".join(alt_refs_candidates) if alt_refs_candidates else \"\",\n",
    "            \"alt_refs_lens\": json.dumps(alt_refs_vals) if alt_refs_vals else \"\",\n",
    "            \"alt_cby_keys\": \";\".join(alt_cby_candidates) if alt_cby_candidates else \"\",\n",
    "            \"alt_cby_lens\": json.dumps(alt_cby_vals) if alt_cby_vals else \"\",\n",
    "        })\n",
    "    df = pd.DataFrame(rows).sort_values(\"pmid\").reset_index(drop=True)\n",
    "    return df\n",
    "\n",
    "def summarize_mode(name: str, df: pd.DataFrame, titles_map: Dict[int,str]|None=None, sample_n: int = 6):\n",
    "    if df is None or df.empty:\n",
    "        print(f\"[{name}] no records\")\n",
    "        return\n",
    "    n = len(df)\n",
    "    n_refs_nonempty = int((df[\"len_citedPmids\"] > 0).sum()) if \"len_citedPmids\" in df else 0\n",
    "    n_cby_nonempty  = int((df[\"len_citedByPmids\"] > 0).sum()) if \"len_citedByPmids\" in df else 0\n",
    "    n_has_refs_key  = int(df[\"has_citedPmids\"].sum()) if \"has_citedPmids\" in df else 0\n",
    "    n_has_cby_key   = int(df[\"has_citedByPmids\"].sum()) if \"has_citedByPmids\" in df else 0\n",
    "\n",
    "    print(f\"\\n[{name}] PMIDs={n} | has_citedPmids={n_has_refs_key} (nonempty={n_refs_nonempty}) \"\n",
    "          f\"| has_citedByPmids={n_has_cby_key} (nonempty={n_cby_nonempty})\")\n",
    "\n",
    "    # show a few PMIDs that have zero/nonzero to spot patterns\n",
    "    zeros_refs = df[df[\"len_citedPmids\"] == 0][\"pmid\"].tolist()[:sample_n]\n",
    "    zeros_cby  = df[df[\"len_citedByPmids\"] == 0][\"pmid\"].tolist()[:sample_n]\n",
    "    nonz_refs  = df[df[\"len_citedPmids\"] > 0][\"pmid\"].tolist()[:sample_n]\n",
    "    nonz_cby   = df[df[\"len_citedByPmids\"] > 0][\"pmid\"].tolist()[:sample_n]\n",
    "\n",
    "    def _fmt(pmids):\n",
    "        if not pmids: return \"[]\"\n",
    "        if titles_map:\n",
    "            return \"; \".join(f\"{p}::{(titles_map.get(int(p),'')[:40] + '…') if titles_map.get(int(p),'') and len(titles_map[int(p)])>40 else titles_map.get(int(p),'')}\" for p in pmids)\n",
    "        return \", \".join(map(str, pmids))\n",
    "\n",
    "    print(f\"  sample nonempty refs: {_fmt(nonz_refs)}\")\n",
    "    print(f\"  sample nonempty citers: {_fmt(nonz_cby)}\")\n",
    "    print(f\"  sample ZERO refs: {_fmt(zeros_refs)}\")\n",
    "    print(f\"  sample ZERO citers: {_fmt(zeros_cby)}\")\n",
    "\n",
    "    # scan for alternate key shapes actually present\n",
    "    alt_refs_present = df[df[\"alt_refs_keys\"] != \"\"]\n",
    "    alt_cby_present  = df[df[\"alt_cby_keys\"] != \"\"]\n",
    "    if not alt_refs_present.empty:\n",
    "        print(f\"  ALT-REFS keys present in {len(alt_refs_present)} records (show 3):\")\n",
    "        print(alt_refs_present[[\"pmid\",\"alt_refs_keys\",\"alt_refs_lens\"]].head(3).to_string(index=False))\n",
    "    if not alt_cby_present.empty:\n",
    "        print(f\"  ALT-CBY keys present in {len(alt_cby_present)} records (show 3):\")\n",
    "        print(alt_cby_present[[\"pmid\",\"alt_cby_keys\",\"alt_cby_lens\"]].head(3).to_string(index=False))\n",
    "\n",
    "# ---- choose the cluster (defaults to largest if not set) ----\n",
    "try:\n",
    "    cluster_id  # if set earlier, respect it\n",
    "except NameError:\n",
    "    # largest non-noise by default\n",
    "    cluster_id = max(clusters.items(), key=lambda kv: len(kv[1]))[0]\n",
    "\n",
    "seed_pmids = sorted(set(int(x) for x in clusters[cluster_id]))\n",
    "titles_map = titles_by_pmid if \"titles_by_pmid\" in globals() else {}\n",
    "\n",
    "print(f\"[diagnostics] cluster={cluster_id} | seeds={len(seed_pmids)}\")\n",
    "\n",
    "# ---- run three permutations ----\n",
    "modes = [\n",
    "    (\"legacy_false_full\", {\"legacy\": False, \"fl\": None}),\n",
    "    (\"legacy_true_full\",  {\"legacy\": True,  \"fl\": None}),\n",
    "    (\"legacy_false_fl\",   {\"legacy\": False, \"fl\": \"pmid,pubYear,title,citedPmids,citedByPmids\"}),\n",
    "]\n",
    "\n",
    "results = {}\n",
    "frames  = {}\n",
    "for name, cfg in modes:\n",
    "    print(f\"\\n=== iCite fetch: {name} ===\")\n",
    "    raw = icite_call(seed_pmids, legacy=cfg[\"legacy\"], fields=cfg[\"fl\"])\n",
    "    results[name] = raw\n",
    "    df = scan_shape(raw)\n",
    "    frames[name] = df\n",
    "    summarize_mode(name, df, titles_map, sample_n=6)\n",
    "\n",
    "# ---- side-by-side summary table ----\n",
    "def _summary_row(name, df):\n",
    "    if df is None or df.empty:\n",
    "        return dict(mode=name, pmids=0, has_citedPmids=0, nonempty_citedPmids=0, has_citedByPmids=0, nonempty_citedByPmids=0)\n",
    "    return dict(\n",
    "        mode=name,\n",
    "        pmids=len(df),\n",
    "        has_citedPmids=int(df[\"has_citedPmids\"].sum()),\n",
    "        nonempty_citedPmids=int((df[\"len_citedPmids\"]>0).sum()),\n",
    "        has_citedByPmids=int(df[\"has_citedByPmids\"].sum()),\n",
    "        nonempty_citedByPmids=int((df[\"len_citedByPmids\"]>0).sum()),\n",
    "    )\n",
    "\n",
    "sum_rows = [_summary_row(name, frames[name]) for (name, _cfg) in modes]\n",
    "summary_df = pd.DataFrame(sum_rows)\n",
    "print(\"\\n=== Summary across modes ===\")\n",
    "print(summary_df.to_string(index=False))\n",
    "\n",
    "# ---- dump detailed CSVs for manual inspection ----\n",
    "import os\n",
    "os.makedirs(\"/mnt/data/icite_diag\", exist_ok=True)\n",
    "for name, df in frames.items():\n",
    "    outp = f\"/mnt/data/icite_diag/{name}_seed_{cluster_id}.csv\"\n",
    "    df.to_csv(outp, index=False)\n",
    "print(\"\\nSaved detailed per-PMID shapes to /mnt/data/icite_diag/\")\n"
   ]
  }
 ],
 "metadata": {
  "kernelspec": {
   "display_name": "litx",
   "language": "python",
   "name": "python3"
  },
  "language_info": {
   "codemirror_mode": {
    "name": "ipython",
    "version": 3
   },
   "file_extension": ".py",
   "mimetype": "text/x-python",
   "name": "python",
   "nbconvert_exporter": "python",
   "pygments_lexer": "ipython3",
   "version": "3.12.11"
  }
 },
 "nbformat": 4,
 "nbformat_minor": 5
}
